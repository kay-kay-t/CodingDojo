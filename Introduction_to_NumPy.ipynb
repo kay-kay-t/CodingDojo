{
  "nbformat": 4,
  "nbformat_minor": 0,
  "metadata": {
    "colab": {
      "name": "Introduction to NumPy.ipynb",
      "provenance": [],
      "collapsed_sections": [],
      "authorship_tag": "ABX9TyOBp6sxKEVafOzGbjBkRSzg",
      "include_colab_link": true
    },
    "kernelspec": {
      "name": "python3",
      "display_name": "Python 3"
    },
    "language_info": {
      "name": "python"
    }
  },
  "cells": [
    {
      "cell_type": "markdown",
      "metadata": {
        "id": "view-in-github",
        "colab_type": "text"
      },
      "source": [
        "<a href=\"https://colab.research.google.com/github/kay-kay-t/CodingDojo/blob/main/Introduction_to_NumPy.ipynb\" target=\"_parent\"><img src=\"https://colab.research.google.com/assets/colab-badge.svg\" alt=\"Open In Colab\"/></a>"
      ]
    },
    {
      "cell_type": "code",
      "metadata": {
        "id": "viMycSkwcbV-"
      },
      "source": [
        "import numpy as np"
      ],
      "execution_count": 1,
      "outputs": []
    },
    {
      "cell_type": "markdown",
      "metadata": {
        "id": "4lj9zqLvceiY"
      },
      "source": [
        "\n",
        "1) The selling price of 3 items at the bake sale are: \\$2 for a brownie, \\$1 for a cookie, $10 for a cake."
      ]
    },
    {
      "cell_type": "code",
      "metadata": {
        "colab": {
          "base_uri": "https://localhost:8080/"
        },
        "id": "l69iUIwcPFBg",
        "outputId": "cd2403ba-c92d-4b88-b8e7-906ea0c22ff6"
      },
      "source": [
        "# Price list:\n",
        "price = [2, 1, 10]\n",
        "type(price)"
      ],
      "execution_count": 2,
      "outputs": [
        {
          "output_type": "execute_result",
          "data": {
            "text/plain": [
              "list"
            ]
          },
          "metadata": {},
          "execution_count": 2
        }
      ]
    },
    {
      "cell_type": "markdown",
      "metadata": {
        "id": "4KKZxCEicnVy"
      },
      "source": [
        "The club sells 17 brownies, 40 cookies, and 1 cake.  "
      ]
    },
    {
      "cell_type": "code",
      "metadata": {
        "colab": {
          "base_uri": "https://localhost:8080/"
        },
        "id": "2PjG-xfLZePv",
        "outputId": "219e8e58-5466-40b7-f144-391f63b14b81"
      },
      "source": [
        "# Quantity list:\n",
        "quantity_sold = [17, 40, 1]\n",
        "type(quantity_sold)"
      ],
      "execution_count": 3,
      "outputs": [
        {
          "output_type": "execute_result",
          "data": {
            "text/plain": [
              "list"
            ]
          },
          "metadata": {},
          "execution_count": 3
        }
      ]
    },
    {
      "cell_type": "code",
      "metadata": {
        "colab": {
          "base_uri": "https://localhost:8080/"
        },
        "id": "eIV9bqykZf-z",
        "outputId": "3498f3f5-9bf7-4ec7-a85b-10f6dd5e1a73"
      },
      "source": [
        "# Converting a list to a NumPy Array\n",
        "price_array = np.array(price)\n",
        "quantity_sold_array = np.array(quantity_sold)\n",
        "type(price_array)"
      ],
      "execution_count": 4,
      "outputs": [
        {
          "output_type": "execute_result",
          "data": {
            "text/plain": [
              "numpy.ndarray"
            ]
          },
          "metadata": {},
          "execution_count": 4
        }
      ]
    },
    {
      "cell_type": "code",
      "metadata": {
        "colab": {
          "base_uri": "https://localhost:8080/"
        },
        "id": "NxynQw8AZoZg",
        "outputId": "1690c495-1fed-432c-f58c-6a0b6881d64b"
      },
      "source": [
        "# Money collected for each type of item\n",
        "price_array * quantity_sold_array"
      ],
      "execution_count": 5,
      "outputs": [
        {
          "output_type": "execute_result",
          "data": {
            "text/plain": [
              "array([34, 40, 10])"
            ]
          },
          "metadata": {},
          "execution_count": 5
        }
      ]
    },
    {
      "cell_type": "code",
      "metadata": {
        "colab": {
          "base_uri": "https://localhost:8080/"
        },
        "id": "1Aug5a43Zz4d",
        "outputId": "d4efb71b-e209-4c53-c323-3097ca085aa5"
      },
      "source": [
        "# To find a profit of each item\n",
        "cost_array = np.array([0.25, 0.50, 5.00])\n",
        "profit_array = price_array - cost_array\n",
        "print(profit_array)"
      ],
      "execution_count": 6,
      "outputs": [
        {
          "output_type": "stream",
          "name": "stdout",
          "text": [
            "[1.75 0.5  5.  ]\n"
          ]
        }
      ]
    },
    {
      "cell_type": "code",
      "metadata": {
        "colab": {
          "base_uri": "https://localhost:8080/"
        },
        "id": "50YzQeqmZ3El",
        "outputId": "4a03c2a2-ca5d-4411-a8d6-6e1a394eee29"
      },
      "source": [
        "# Elementwise Booleans\n",
        "profit_array > 2.00"
      ],
      "execution_count": 7,
      "outputs": [
        {
          "output_type": "execute_result",
          "data": {
            "text/plain": [
              "array([False, False,  True])"
            ]
          },
          "metadata": {},
          "execution_count": 7
        }
      ]
    },
    {
      "cell_type": "markdown",
      "metadata": {
        "id": "X3oBto0Hcz8x"
      },
      "source": [
        "The club will also sell pies for $7 so we need to update our price_array."
      ]
    },
    {
      "cell_type": "code",
      "metadata": {
        "colab": {
          "base_uri": "https://localhost:8080/"
        },
        "id": "7K-D0_4DZ_hj",
        "outputId": "a77d1731-e136-479e-958c-eebce7220567"
      },
      "source": [
        "# Appending\n",
        "price_array = price_array + [7] # wrong way\n",
        "print(price_array)"
      ],
      "execution_count": 8,
      "outputs": [
        {
          "output_type": "stream",
          "name": "stdout",
          "text": [
            "[ 9  8 17]\n"
          ]
        }
      ]
    },
    {
      "cell_type": "code",
      "metadata": {
        "colab": {
          "base_uri": "https://localhost:8080/"
        },
        "id": "FuhH68FZeAGS",
        "outputId": "5104ffca-fae8-47e1-b2dd-48f460507c9a"
      },
      "source": [
        "price_array = price_array - [7]\n",
        "\n",
        "price_array = np.append(price_array, 7)\n",
        "print(price_array)"
      ],
      "execution_count": 9,
      "outputs": [
        {
          "output_type": "stream",
          "name": "stdout",
          "text": [
            "[ 2  1 10  7]\n"
          ]
        }
      ]
    },
    {
      "cell_type": "markdown",
      "metadata": {
        "id": "oVngrs2zedEz"
      },
      "source": [
        "The club want to add the following prices:  \\$4.50 for fudge, \\$3 for a cupcake, \\$4 for a loaf of banana bread, and $9 for a torte."
      ]
    },
    {
      "cell_type": "code",
      "metadata": {
        "colab": {
          "base_uri": "https://localhost:8080/"
        },
        "id": "v6vYgs-fefSG",
        "outputId": "062a9227-bedc-4325-9f5d-fa1834b4723b"
      },
      "source": [
        "price_array = np.append(price_array, [4.50, 3, 4, 9])\n",
        "print(price_array)"
      ],
      "execution_count": 10,
      "outputs": [
        {
          "output_type": "stream",
          "name": "stdout",
          "text": [
            "[ 2.   1.  10.   7.   4.5  3.   4.   9. ]\n"
          ]
        }
      ]
    },
    {
      "cell_type": "markdown",
      "metadata": {
        "id": "scgXGDmse3Lz"
      },
      "source": [
        "It turns out nobody plans to make a torte, so they want to remove the price of that item from the array."
      ]
    },
    {
      "cell_type": "code",
      "metadata": {
        "colab": {
          "base_uri": "https://localhost:8080/"
        },
        "id": "ertTZRvpewiO",
        "outputId": "645f6079-7edd-4b6e-92b8-76a0e1d8458c"
      },
      "source": [
        "# Deleting\n",
        "price_array = np.delete(price_array, -1)\n",
        "print(price_array)"
      ],
      "execution_count": 11,
      "outputs": [
        {
          "output_type": "stream",
          "name": "stdout",
          "text": [
            "[ 2.   1.  10.   7.   4.5  3.   4. ]\n"
          ]
        }
      ]
    },
    {
      "cell_type": "markdown",
      "metadata": {
        "id": "APUE_iHQfYhZ"
      },
      "source": [
        "Next the club decides to raise the price of cakes from \\$10 to $12. "
      ]
    },
    {
      "cell_type": "code",
      "metadata": {
        "colab": {
          "base_uri": "https://localhost:8080/"
        },
        "id": "zDG_zBFWfaea",
        "outputId": "d6de6750-f6b8-4ff8-8d81-52813d174409"
      },
      "source": [
        "# Replacing\n",
        "price_array[2] = 12\n",
        "print(price_array)"
      ],
      "execution_count": 12,
      "outputs": [
        {
          "output_type": "stream",
          "name": "stdout",
          "text": [
            "[ 2.   1.  12.   7.   4.5  3.   4. ]\n"
          ]
        }
      ]
    },
    {
      "cell_type": "markdown",
      "metadata": {
        "id": "Q7YXCKUwf8Qo"
      },
      "source": [
        "2) Update the  quantity_sold_array to include the sale of 2 pies,  3 trays of fudge, 16 cupcakes, and 5 loaves of banana bread.  You also realize that one of the cookies you thought was sold had actually fallen on the ground, so edit the quantity_sold_array from 40 to 39.  "
      ]
    },
    {
      "cell_type": "code",
      "metadata": {
        "colab": {
          "base_uri": "https://localhost:8080/"
        },
        "id": "7oRiRF1Hf7qp",
        "outputId": "190e2f82-bba7-4ae7-d640-7190d5b2d78a"
      },
      "source": [
        "# Updating quantity\n",
        "quantity_sold_array = np.append(quantity_sold_array, [2, 3, 16, 5])\n",
        "# Editing quantity of cookies sold\n",
        "quantity_sold_array[1] = 39\n",
        "print(quantity_sold_array)"
      ],
      "execution_count": 13,
      "outputs": [
        {
          "output_type": "stream",
          "name": "stdout",
          "text": [
            "[17 39  1  2  3 16  5]\n"
          ]
        }
      ]
    },
    {
      "cell_type": "markdown",
      "metadata": {
        "id": "5biSZyqegKid"
      },
      "source": [
        "3) Determine the amount of money collected from the sale of each item at the bake sale.  "
      ]
    },
    {
      "cell_type": "code",
      "metadata": {
        "colab": {
          "base_uri": "https://localhost:8080/"
        },
        "id": "_xJMiCVaiPvL",
        "outputId": "6dc3c0cb-a10e-4acd-9ab4-08df0b8a6ee7"
      },
      "source": [
        "# How much was made from the sale of each item\n",
        "gross = price_array * quantity_sold_array\n",
        "print(gross)"
      ],
      "execution_count": 16,
      "outputs": [
        {
          "output_type": "stream",
          "name": "stdout",
          "text": [
            "[34.  39.  12.  14.  13.5 48.  20. ]\n"
          ]
        }
      ]
    },
    {
      "cell_type": "markdown",
      "metadata": {
        "id": "4IoWeAF-gT-s"
      },
      "source": [
        "4) Create a NumPy array \"quantity_leftover\" that includes the quantity of each item remaining at the end of the sale: 2 cakes, 1 pie, 6 trays of fudge, 2 loaves of banana bread.  Hint: Make sure to include \"0\" for any item that was sold out. Why is this important when creating the array?"
      ]
    },
    {
      "cell_type": "code",
      "metadata": {
        "id": "ahzdkFa4gcWC",
        "colab": {
          "base_uri": "https://localhost:8080/"
        },
        "outputId": "b6970a13-fa65-43d5-bb68-3eb364b967a6"
      },
      "source": [
        "quantity_leftover = np.array([0, 0, 2, 1, 6, 0, 2])\n",
        "print(quantity_leftover)"
      ],
      "execution_count": 17,
      "outputs": [
        {
          "output_type": "stream",
          "name": "stdout",
          "text": [
            "[0 0 2 1 6 0 2]\n"
          ]
        }
      ]
    },
    {
      "cell_type": "markdown",
      "metadata": {
        "id": "EKsaLuF7gdLS"
      },
      "source": [
        "5) The club decides to sell the leftover items at half price and everything quickly sells out!  Determine how much money was collected from the clearance sale.  "
      ]
    },
    {
      "cell_type": "code",
      "metadata": {
        "colab": {
          "base_uri": "https://localhost:8080/"
        },
        "id": "I2JCfPN-lQJ7",
        "outputId": "e528178f-349b-487e-aeb4-8a845a901dd6"
      },
      "source": [
        "# Finding half price of items\n",
        "half_price = price_array / 2\n",
        "print(half_price)\n",
        "# Finding how much we made seling leftovers for half price\n",
        "clearance_gross = quantity_leftover * half_price\n",
        "print(clearance_gross)"
      ],
      "execution_count": 28,
      "outputs": [
        {
          "output_type": "stream",
          "name": "stdout",
          "text": [
            "[1.   0.5  6.   3.5  2.25 1.5  2.  ]\n",
            "[ 0.   0.  12.   3.5 13.5  0.   4. ]\n"
          ]
        }
      ]
    },
    {
      "cell_type": "markdown",
      "metadata": {
        "id": "PDyJalzpgh1u"
      },
      "source": [
        "6) How much total money was collected from the bake sale (including the sale of full price and clearance items)"
      ]
    },
    {
      "cell_type": "code",
      "metadata": {
        "id": "paMkA4ksgik1",
        "colab": {
          "base_uri": "https://localhost:8080/"
        },
        "outputId": "9318a772-dfb0-4132-9e5a-a3e89f58cd19"
      },
      "source": [
        "total = np.sum(gross + clearance_gross)\n",
        "print(total)"
      ],
      "execution_count": 31,
      "outputs": [
        {
          "output_type": "stream",
          "name": "stdout",
          "text": [
            "213.5\n"
          ]
        }
      ]
    }
  ]
}