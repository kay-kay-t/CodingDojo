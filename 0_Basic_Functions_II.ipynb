{
  "nbformat": 4,
  "nbformat_minor": 0,
  "metadata": {
    "colab": {
      "name": " Basic Functions II.ipynb",
      "provenance": [],
      "collapsed_sections": [],
      "authorship_tag": "ABX9TyPQFjQLPrx9sFipcih5QYqu",
      "include_colab_link": true
    },
    "kernelspec": {
      "name": "python3",
      "display_name": "Python 3"
    },
    "language_info": {
      "name": "python"
    }
  },
  "cells": [
    {
      "cell_type": "markdown",
      "metadata": {
        "id": "view-in-github",
        "colab_type": "text"
      },
      "source": [
        "<a href=\"https://colab.research.google.com/github/kay-kay-t/CodingDojo/blob/main/Basic_Functions_II.ipynb\" target=\"_parent\"><img src=\"https://colab.research.google.com/assets/colab-badge.svg\" alt=\"Open In Colab\"/></a>"
      ]
    },
    {
      "cell_type": "code",
      "metadata": {
        "colab": {
          "base_uri": "https://localhost:8080/"
        },
        "id": "25ElYMZy5eQS",
        "outputId": "f600c265-fb18-49e5-f7e0-287be3aed011"
      },
      "source": [
        "# 1. Countdown\n",
        "def countdown(n):\n",
        "  list = []\n",
        "  for i in range(n, -1, -1):\n",
        "    list.append(i)\n",
        "  return list     \n",
        "print(countdown(10))   "
      ],
      "execution_count": null,
      "outputs": [
        {
          "output_type": "stream",
          "text": [
            "[10, 9, 8, 7, 6, 5, 4, 3, 2, 1, 0]\n"
          ],
          "name": "stdout"
        }
      ]
    },
    {
      "cell_type": "code",
      "metadata": {
        "colab": {
          "base_uri": "https://localhost:8080/"
        },
        "id": "k2YJ-rw5_Has",
        "outputId": "8774d5f2-5130-48b9-ee76-3f05f915fc9a"
      },
      "source": [
        "# 2. Print and Return\n",
        "def print_and_return(list):\n",
        "  print(list[0])\n",
        "  return list[1]\n",
        "print_and_return([2, 3]) "
      ],
      "execution_count": null,
      "outputs": [
        {
          "output_type": "stream",
          "text": [
            "2\n"
          ],
          "name": "stdout"
        },
        {
          "output_type": "execute_result",
          "data": {
            "text/plain": [
              "3"
            ]
          },
          "metadata": {},
          "execution_count": 21
        }
      ]
    },
    {
      "cell_type": "code",
      "metadata": {
        "colab": {
          "base_uri": "https://localhost:8080/"
        },
        "id": "LOJMMzXcBXsO",
        "outputId": "c2a3c085-dad8-4c8e-9793-e31ec1b50dce"
      },
      "source": [
        "# 3. First Plus Length\n",
        "def first_plus_length(list):\n",
        "  return list[0] + len(list)\n",
        "first_plus_length([1, 2, 3, 4, 5])  "
      ],
      "execution_count": null,
      "outputs": [
        {
          "output_type": "execute_result",
          "data": {
            "text/plain": [
              "6"
            ]
          },
          "metadata": {},
          "execution_count": 28
        }
      ]
    },
    {
      "cell_type": "code",
      "metadata": {
        "colab": {
          "base_uri": "https://localhost:8080/"
        },
        "id": "B1TG9jJlD_xP",
        "outputId": "73a602a5-b4d6-4401-8807-a9184ea288b7"
      },
      "source": [
        "# 4. This Length, That Value\n",
        "def length_and_value(size, value):\n",
        "  list = []\n",
        "  for i in range(size):\n",
        "    list.append(value)\n",
        "  return list  \n",
        "length_and_value(4, 7)"
      ],
      "execution_count": null,
      "outputs": [
        {
          "output_type": "execute_result",
          "data": {
            "text/plain": [
              "[7, 7, 7, 7]"
            ]
          },
          "metadata": {},
          "execution_count": 39
        }
      ]
    },
    {
      "cell_type": "code",
      "metadata": {
        "colab": {
          "base_uri": "https://localhost:8080/"
        },
        "id": "M6uZIhmVG_38",
        "outputId": "99759338-1b75-4917-a11e-4b28076179fc"
      },
      "source": [
        "# 5. Values Greater than Second\n",
        "def values_greater_than_second(list):  \n",
        "  newList = [] \n",
        "  for i in list:\n",
        "    if i > list[1]:\n",
        "      newList.append(i)\n",
        "  print(len(newList))\n",
        "  return newList\n",
        "  \n",
        "  if len(list) < 2:\n",
        "    return False\n",
        "\n",
        "values_greater_than_second([5,2,3,2,1,4])"
      ],
      "execution_count": null,
      "outputs": [
        {
          "output_type": "stream",
          "text": [
            "3\n"
          ],
          "name": "stdout"
        },
        {
          "output_type": "execute_result",
          "data": {
            "text/plain": [
              "[5, 3, 4]"
            ]
          },
          "metadata": {},
          "execution_count": 45
        }
      ]
    }
  ]
}
