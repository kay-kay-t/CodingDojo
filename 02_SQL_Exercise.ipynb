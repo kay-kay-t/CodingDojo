{
  "nbformat": 4,
  "nbformat_minor": 0,
  "metadata": {
    "anaconda-cloud": {},
    "celltoolbar": "Slideshow",
    "kernelspec": {
      "display_name": "Python 3",
      "language": "python",
      "name": "python3"
    },
    "language_info": {
      "codemirror_mode": {
        "name": "ipython",
        "version": 3
      },
      "file_extension": ".py",
      "mimetype": "text/x-python",
      "name": "python",
      "nbconvert_exporter": "python",
      "pygments_lexer": "ipython3",
      "version": "3.7.6"
    },
    "colab": {
      "name": "02_SQL Exercise.ipynb",
      "provenance": [],
      "collapsed_sections": [],
      "include_colab_link": true
    }
  },
  "cells": [
    {
      "cell_type": "markdown",
      "metadata": {
        "id": "view-in-github",
        "colab_type": "text"
      },
      "source": [
        "<a href=\"https://colab.research.google.com/github/kay-kay-t/CodingDojo/blob/main/02_SQL_Exercise.ipynb\" target=\"_parent\"><img src=\"https://colab.research.google.com/assets/colab-badge.svg\" alt=\"Open In Colab\"/></a>"
      ]
    },
    {
      "cell_type": "markdown",
      "metadata": {
        "id": "38idX8Wk_xBV"
      },
      "source": [
        "<center>\n",
        "<img src=\"https://course_report_production.s3.amazonaws.com/rich/rich_files/rich_files/2470/s300/cd-logo-blue-600x600.png\" alt=\"Coding Dojo Logo\" class=\"center\" height=\"50\">\n",
        "\n",
        "# SQL Exercises\n",
        "\n",
        "*Make a copy of this notebook to edit!*\n",
        "```\n",
        "File > Save a copy in Drive\n",
        "```\n",
        "    \n",
        "</center>\n",
        "\n",
        "[SQLAlchemy](https://www.sqlalchemy.org/) is a wrapper for Python that allows us to write SQL queries in Python. We will use this to practice our SQL basics in Python.\n",
        "\n",
        "First, we need to connect to a database. We will just read a table into SQL for this step. We will be creating a [SQLite](https://sqlite.org/index.html) database and loading two tables ([table 1](https://drive.google.com/file/d/18MgOmIHHafoubgp2d_7GM6GWroxb0vPe/view?usp=sharing)  and [table 2](https://drive.google.com/file/d/1lqW6qfPXpDWsQ6yMYpZPX7brVif-v_Ra/view?usp=sharing)) into that database.\n",
        "\n",
        "The data (from [this source](https://data.world/sikkim/school)) describes details of various schools."
      ]
    },
    {
      "cell_type": "code",
      "metadata": {
        "id": "4whVGi2Wud1w"
      },
      "source": [
        "# imports\n",
        "import pandas as pd\n",
        "from sqlalchemy import create_engine"
      ],
      "execution_count": 2,
      "outputs": []
    },
    {
      "cell_type": "code",
      "metadata": {
        "id": "9p14osBhUD37",
        "colab": {
          "base_uri": "https://localhost:8080/"
        },
        "outputId": "df168306-3896-4309-eeff-61aa5d0c1cdf"
      },
      "source": [
        "# mount data\n",
        "from google.colab import drive\n",
        "drive.mount('/content/drive')"
      ],
      "execution_count": 1,
      "outputs": [
        {
          "output_type": "stream",
          "name": "stdout",
          "text": [
            "Mounted at /content/drive\n"
          ]
        }
      ]
    },
    {
      "cell_type": "code",
      "metadata": {
        "id": "vttB7TWAUF9B",
        "colab": {
          "base_uri": "https://localhost:8080/",
          "height": 318
        },
        "outputId": "0506a3e0-112c-412f-da83-b2a1ec9cd390"
      },
      "source": [
        "# load table 1\n",
        "school = pd.read_csv('/content/drive/MyDrive/Data/School_Details.csv')\n",
        "school.head(2)"
      ],
      "execution_count": 3,
      "outputs": [
        {
          "output_type": "execute_result",
          "data": {
            "text/html": [
              "<div>\n",
              "<style scoped>\n",
              "    .dataframe tbody tr th:only-of-type {\n",
              "        vertical-align: middle;\n",
              "    }\n",
              "\n",
              "    .dataframe tbody tr th {\n",
              "        vertical-align: top;\n",
              "    }\n",
              "\n",
              "    .dataframe thead th {\n",
              "        text-align: right;\n",
              "    }\n",
              "</style>\n",
              "<table border=\"1\" class=\"dataframe\">\n",
              "  <thead>\n",
              "    <tr style=\"text-align: right;\">\n",
              "      <th></th>\n",
              "      <th>DistrictName</th>\n",
              "      <th>EstablishmentCode</th>\n",
              "      <th>EstablishmentName</th>\n",
              "      <th>BRCName</th>\n",
              "      <th>CRCName</th>\n",
              "      <th>SchoolLevel</th>\n",
              "      <th>ManagementName</th>\n",
              "      <th>LocalityHabitation</th>\n",
              "      <th>SubdivisionName</th>\n",
              "      <th>ConstituencyName</th>\n",
              "      <th>RevenueBlockName</th>\n",
              "      <th>CivicBodyName</th>\n",
              "      <th>WardName</th>\n",
              "      <th>PostOfficeName</th>\n",
              "      <th>PhoneNo</th>\n",
              "      <th>FaxNo</th>\n",
              "      <th>EmailID</th>\n",
              "      <th>Website</th>\n",
              "      <th>LocatedInRuralOrUrban</th>\n",
              "      <th>DiseCode</th>\n",
              "      <th>EstablishedDate</th>\n",
              "      <th>DistrictHQDistance (in Km)</th>\n",
              "      <th>CRCDistance (in Km)</th>\n",
              "      <th>BACDistance (in Km)</th>\n",
              "      <th>IsRecognized</th>\n",
              "      <th>RecognizedBy</th>\n",
              "      <th>ContactPersonName</th>\n",
              "      <th>LowestClass</th>\n",
              "      <th>HighestClass</th>\n",
              "      <th>BoardName</th>\n",
              "    </tr>\n",
              "  </thead>\n",
              "  <tbody>\n",
              "    <tr>\n",
              "      <th>0</th>\n",
              "      <td>East</td>\n",
              "      <td>S0169</td>\n",
              "      <td>BUDANG GOVERNMENT PRIMARY SCHOOL (E)</td>\n",
              "      <td>Duga Brc</td>\n",
              "      <td>Central Pendam Government Senior Secondary School</td>\n",
              "      <td>PS</td>\n",
              "      <td>State Govt.</td>\n",
              "      <td>BUDANG</td>\n",
              "      <td>Gangtok</td>\n",
              "      <td>Rhenock</td>\n",
              "      <td>Central Pendam</td>\n",
              "      <td>Central Pendam</td>\n",
              "      <td>Sajong</td>\n",
              "      <td>Upper Pendam</td>\n",
              "      <td>NaN</td>\n",
              "      <td>NaN</td>\n",
              "      <td>NaN</td>\n",
              "      <td>NaN</td>\n",
              "      <td>Urban Area</td>\n",
              "      <td>NaN</td>\n",
              "      <td>28126</td>\n",
              "      <td>58.0</td>\n",
              "      <td>8.0</td>\n",
              "      <td>16.0</td>\n",
              "      <td>Recognized</td>\n",
              "      <td>HRDD</td>\n",
              "      <td>NaN</td>\n",
              "      <td>Class 1</td>\n",
              "      <td>Class 5</td>\n",
              "      <td>NaN</td>\n",
              "    </tr>\n",
              "    <tr>\n",
              "      <th>1</th>\n",
              "      <td>East</td>\n",
              "      <td>S0099</td>\n",
              "      <td>CENTRAL PENDAM GOVERNMENT SENIOR SECONDARY SCHOOL</td>\n",
              "      <td>Duga Brc</td>\n",
              "      <td>Central Pendam Government Senior Secondary School</td>\n",
              "      <td>SSS</td>\n",
              "      <td>State Govt.</td>\n",
              "      <td>CENTRAL PENDAM</td>\n",
              "      <td>Gangtok</td>\n",
              "      <td>West Pandam</td>\n",
              "      <td>Central Pendam</td>\n",
              "      <td>Central Pendam</td>\n",
              "      <td>Karmithang</td>\n",
              "      <td>Upper Pendam</td>\n",
              "      <td>3592263812</td>\n",
              "      <td>NaN</td>\n",
              "      <td>NaN</td>\n",
              "      <td>NaN</td>\n",
              "      <td>Urban Area</td>\n",
              "      <td>800401</td>\n",
              "      <td>15342</td>\n",
              "      <td>50.0</td>\n",
              "      <td>0.0</td>\n",
              "      <td>6.0</td>\n",
              "      <td>Recognized</td>\n",
              "      <td>HRDD</td>\n",
              "      <td>NaN</td>\n",
              "      <td>Class 1</td>\n",
              "      <td>Class 12</td>\n",
              "      <td>C.B.S.E.</td>\n",
              "    </tr>\n",
              "  </tbody>\n",
              "</table>\n",
              "</div>"
            ],
            "text/plain": [
              "  DistrictName EstablishmentCode  ... HighestClass BoardName\n",
              "0         East             S0169  ...      Class 5       NaN\n",
              "1         East             S0099  ...     Class 12  C.B.S.E.\n",
              "\n",
              "[2 rows x 30 columns]"
            ]
          },
          "metadata": {},
          "execution_count": 3
        }
      ]
    },
    {
      "cell_type": "code",
      "metadata": {
        "colab": {
          "base_uri": "https://localhost:8080/"
        },
        "id": "yVhOGz234wgX",
        "outputId": "deb778da-3862-400d-c34e-5aba46300d95"
      },
      "source": [
        "school.info()"
      ],
      "execution_count": 4,
      "outputs": [
        {
          "output_type": "stream",
          "name": "stdout",
          "text": [
            "<class 'pandas.core.frame.DataFrame'>\n",
            "RangeIndex: 1249 entries, 0 to 1248\n",
            "Data columns (total 30 columns):\n",
            " #   Column                      Non-Null Count  Dtype  \n",
            "---  ------                      --------------  -----  \n",
            " 0   DistrictName                1249 non-null   object \n",
            " 1   EstablishmentCode           1249 non-null   object \n",
            " 2   EstablishmentName           1249 non-null   object \n",
            " 3   BRCName                     1249 non-null   object \n",
            " 4   CRCName                     1249 non-null   object \n",
            " 5   SchoolLevel                 1246 non-null   object \n",
            " 6   ManagementName              1246 non-null   object \n",
            " 7   LocalityHabitation          1221 non-null   object \n",
            " 8   SubdivisionName             1241 non-null   object \n",
            " 9   ConstituencyName            1249 non-null   object \n",
            " 10  RevenueBlockName            1249 non-null   object \n",
            " 11  CivicBodyName               1249 non-null   object \n",
            " 12  WardName                    1249 non-null   object \n",
            " 13  PostOfficeName              1249 non-null   object \n",
            " 14  PhoneNo                     794 non-null    object \n",
            " 15  FaxNo                       20 non-null     object \n",
            " 16  EmailID                     182 non-null    object \n",
            " 17  Website                     24 non-null     object \n",
            " 18  LocatedInRuralOrUrban       1249 non-null   object \n",
            " 19  DiseCode                    439 non-null    object \n",
            " 20  EstablishedDate             1230 non-null   object \n",
            " 21  DistrictHQDistance (in Km)  1246 non-null   float64\n",
            " 22  CRCDistance (in Km)         1246 non-null   float64\n",
            " 23  BACDistance (in Km)         1246 non-null   float64\n",
            " 24  IsRecognized                1246 non-null   object \n",
            " 25  RecognizedBy                1004 non-null   object \n",
            " 26  ContactPersonName           0 non-null      float64\n",
            " 27  LowestClass                 1246 non-null   object \n",
            " 28  HighestClass                1246 non-null   object \n",
            " 29  BoardName                   784 non-null    object \n",
            "dtypes: float64(4), object(26)\n",
            "memory usage: 292.9+ KB\n"
          ]
        }
      ]
    },
    {
      "cell_type": "code",
      "metadata": {
        "id": "aGVow52u6Fh9",
        "colab": {
          "base_uri": "https://localhost:8080/",
          "height": 196
        },
        "outputId": "95862058-18ac-4051-e00c-717f2cafc44a"
      },
      "source": [
        "# load table 2\n",
        "facility = pd.read_csv('/content/drive/MyDrive/Data/School Facility Details.csv')\n",
        "facility.head(2)"
      ],
      "execution_count": 5,
      "outputs": [
        {
          "output_type": "execute_result",
          "data": {
            "text/html": [
              "<div>\n",
              "<style scoped>\n",
              "    .dataframe tbody tr th:only-of-type {\n",
              "        vertical-align: middle;\n",
              "    }\n",
              "\n",
              "    .dataframe tbody tr th {\n",
              "        vertical-align: top;\n",
              "    }\n",
              "\n",
              "    .dataframe thead th {\n",
              "        text-align: right;\n",
              "    }\n",
              "</style>\n",
              "<table border=\"1\" class=\"dataframe\">\n",
              "  <thead>\n",
              "    <tr style=\"text-align: right;\">\n",
              "      <th></th>\n",
              "      <th>EstablishmentCode</th>\n",
              "      <th>EstablishmentName</th>\n",
              "      <th>IsLibraryAvailable</th>\n",
              "      <th>AvailableBooksCount</th>\n",
              "      <th>IsFireExtgAvailable</th>\n",
              "      <th>ExtinguisherCount</th>\n",
              "      <th>HOIRoomAvailable</th>\n",
              "      <th>IsStaffRoomAvailable</th>\n",
              "      <th>NoofStaffRoom</th>\n",
              "      <th>IsLockerForStaffAvailable</th>\n",
              "      <th>IsSportsStoreRoomAvailable</th>\n",
              "    </tr>\n",
              "  </thead>\n",
              "  <tbody>\n",
              "    <tr>\n",
              "      <th>0</th>\n",
              "      <td>S1034</td>\n",
              "      <td>(I.E.C) INDIAN EVANGALISTIC CRUSADE MISSION PR...</td>\n",
              "      <td>Not Available</td>\n",
              "      <td>0</td>\n",
              "      <td>Available</td>\n",
              "      <td>1</td>\n",
              "      <td>Available</td>\n",
              "      <td>Not Available</td>\n",
              "      <td>0</td>\n",
              "      <td>Not Available</td>\n",
              "      <td>Not Available</td>\n",
              "    </tr>\n",
              "    <tr>\n",
              "      <th>1</th>\n",
              "      <td>S0516</td>\n",
              "      <td>10TH MILE GOVERNMENT PRIMARY SCHOOL</td>\n",
              "      <td>Not Available</td>\n",
              "      <td>0</td>\n",
              "      <td>Not Available</td>\n",
              "      <td>0</td>\n",
              "      <td>Available</td>\n",
              "      <td>Available</td>\n",
              "      <td>1</td>\n",
              "      <td>Not Available</td>\n",
              "      <td>Not Available</td>\n",
              "    </tr>\n",
              "  </tbody>\n",
              "</table>\n",
              "</div>"
            ],
            "text/plain": [
              "  EstablishmentCode  ... IsSportsStoreRoomAvailable\n",
              "0             S1034  ...              Not Available\n",
              "1             S0516  ...              Not Available\n",
              "\n",
              "[2 rows x 11 columns]"
            ]
          },
          "metadata": {},
          "execution_count": 5
        }
      ]
    },
    {
      "cell_type": "code",
      "metadata": {
        "colab": {
          "base_uri": "https://localhost:8080/"
        },
        "id": "uhMLK1Nv420X",
        "outputId": "e9af6ce4-dd2d-46a6-f37c-b714b88e909a"
      },
      "source": [
        "facility.info()"
      ],
      "execution_count": 6,
      "outputs": [
        {
          "output_type": "stream",
          "name": "stdout",
          "text": [
            "<class 'pandas.core.frame.DataFrame'>\n",
            "RangeIndex: 1256 entries, 0 to 1255\n",
            "Data columns (total 11 columns):\n",
            " #   Column                      Non-Null Count  Dtype \n",
            "---  ------                      --------------  ----- \n",
            " 0   EstablishmentCode           1256 non-null   object\n",
            " 1   EstablishmentName           1256 non-null   object\n",
            " 2   IsLibraryAvailable          1256 non-null   object\n",
            " 3   AvailableBooksCount         1256 non-null   int64 \n",
            " 4   IsFireExtgAvailable         1256 non-null   object\n",
            " 5   ExtinguisherCount           1256 non-null   int64 \n",
            " 6   HOIRoomAvailable            1256 non-null   object\n",
            " 7   IsStaffRoomAvailable        1256 non-null   object\n",
            " 8   NoofStaffRoom               1256 non-null   int64 \n",
            " 9   IsLockerForStaffAvailable   1256 non-null   object\n",
            " 10  IsSportsStoreRoomAvailable  1256 non-null   object\n",
            "dtypes: int64(3), object(8)\n",
            "memory usage: 108.1+ KB\n"
          ]
        }
      ]
    },
    {
      "cell_type": "code",
      "metadata": {
        "id": "PQGdfEEEudzI"
      },
      "source": [
        "# create sqlite engine\n",
        "engine = create_engine('sqlite:///school.db', echo=True)\n",
        "# create connection to engine\n",
        "conn = engine.connect()"
      ],
      "execution_count": 7,
      "outputs": []
    },
    {
      "cell_type": "code",
      "metadata": {
        "id": "OudkpXECuz2n"
      },
      "source": [
        "# add the dataframe as a table in sqlite\n",
        "sqlite_table = \"school_details\"\n",
        "school.to_sql(sqlite_table, conn, if_exists='fail')\n",
        "\n",
        "sqlite_table2 = \"school_facility_details\"\n",
        "facility.to_sql(sqlite_table2, conn, if_exists='fail')"
      ],
      "execution_count": null,
      "outputs": []
    },
    {
      "cell_type": "markdown",
      "metadata": {
        "id": "josvz8RqutAv"
      },
      "source": [
        "## Aggregates\n",
        "\n",
        "1. What is the average BACDistance (in Km)? Rename the ouptut column to \"avg_bac_distance.\""
      ]
    },
    {
      "cell_type": "code",
      "metadata": {
        "id": "dD-WyYtBuzuu",
        "colab": {
          "base_uri": "https://localhost:8080/",
          "height": 165
        },
        "outputId": "5b653e0f-ea17-468b-a2da-b80d0d2f1b08"
      },
      "source": [
        "# Write your SQL query in this string\n",
        "sql = \"\"\"\n",
        "SELECT AVG(\"BACDistance (in Km)\") AS avg_bac_distance\n",
        "FROM school_details\n",
        "\"\"\"\n",
        "\n",
        "# Read the sql query into pandas to view the results\n",
        "df = pd.read_sql_query(sql, engine)\n",
        "df.head()"
      ],
      "execution_count": 9,
      "outputs": [
        {
          "output_type": "stream",
          "name": "stdout",
          "text": [
            "2021-11-18 21:58:51,563 INFO sqlalchemy.engine.Engine \n",
            "SELECT AVG(\"BACDistance (in Km)\") AS avg_bac_distance\n",
            "FROM school_details\n",
            "\n",
            "2021-11-18 21:58:51,566 INFO sqlalchemy.engine.Engine [raw sql] ()\n"
          ]
        },
        {
          "output_type": "execute_result",
          "data": {
            "text/html": [
              "<div>\n",
              "<style scoped>\n",
              "    .dataframe tbody tr th:only-of-type {\n",
              "        vertical-align: middle;\n",
              "    }\n",
              "\n",
              "    .dataframe tbody tr th {\n",
              "        vertical-align: top;\n",
              "    }\n",
              "\n",
              "    .dataframe thead th {\n",
              "        text-align: right;\n",
              "    }\n",
              "</style>\n",
              "<table border=\"1\" class=\"dataframe\">\n",
              "  <thead>\n",
              "    <tr style=\"text-align: right;\">\n",
              "      <th></th>\n",
              "      <th>avg_bac_distance</th>\n",
              "    </tr>\n",
              "  </thead>\n",
              "  <tbody>\n",
              "    <tr>\n",
              "      <th>0</th>\n",
              "      <td>12.681822</td>\n",
              "    </tr>\n",
              "  </tbody>\n",
              "</table>\n",
              "</div>"
            ],
            "text/plain": [
              "   avg_bac_distance\n",
              "0         12.681822"
            ]
          },
          "metadata": {},
          "execution_count": 9
        }
      ]
    },
    {
      "cell_type": "markdown",
      "metadata": {
        "id": "2hrqy6KgvOdh"
      },
      "source": [
        "## GROUP BY\n",
        "\n",
        "2. What is the average BACDistance (in Km) by School Level? Sort the results from highest average to lowest average."
      ]
    },
    {
      "cell_type": "code",
      "metadata": {
        "id": "NkjPihzvudvR",
        "colab": {
          "base_uri": "https://localhost:8080/",
          "height": 323
        },
        "outputId": "f985cc43-ac7d-46b0-a038-0802d2228bfa"
      },
      "source": [
        "# Write your SQL query in this string\n",
        "sql = \"\"\"\n",
        "SELECT AVG(\"BACDistance (in Km)\") AS avg_bac_distance\n",
        "FROM school_details\n",
        "GROUP BY SchoolLevel\n",
        "ORDER BY avg_bac_distance DESC\n",
        "\"\"\"\n",
        "\n",
        "# Read the sql query into pandas to view the results\n",
        "df = pd.read_sql_query(sql, engine)\n",
        "df.head()"
      ],
      "execution_count": 10,
      "outputs": [
        {
          "output_type": "stream",
          "name": "stdout",
          "text": [
            "2021-11-18 21:58:54,011 INFO sqlalchemy.engine.Engine \n",
            "SELECT AVG(\"BACDistance (in Km)\") AS avg_bac_distance\n",
            "FROM school_details\n",
            "GROUP BY SchoolLevel\n",
            "ORDER BY avg_bac_distance DESC\n",
            "\n",
            "2021-11-18 21:58:54,020 INFO sqlalchemy.engine.Engine [raw sql] ()\n"
          ]
        },
        {
          "output_type": "execute_result",
          "data": {
            "text/html": [
              "<div>\n",
              "<style scoped>\n",
              "    .dataframe tbody tr th:only-of-type {\n",
              "        vertical-align: middle;\n",
              "    }\n",
              "\n",
              "    .dataframe tbody tr th {\n",
              "        vertical-align: top;\n",
              "    }\n",
              "\n",
              "    .dataframe thead th {\n",
              "        text-align: right;\n",
              "    }\n",
              "</style>\n",
              "<table border=\"1\" class=\"dataframe\">\n",
              "  <thead>\n",
              "    <tr style=\"text-align: right;\">\n",
              "      <th></th>\n",
              "      <th>avg_bac_distance</th>\n",
              "    </tr>\n",
              "  </thead>\n",
              "  <tbody>\n",
              "    <tr>\n",
              "      <th>0</th>\n",
              "      <td>13.692647</td>\n",
              "    </tr>\n",
              "    <tr>\n",
              "      <th>1</th>\n",
              "      <td>12.830787</td>\n",
              "    </tr>\n",
              "    <tr>\n",
              "      <th>2</th>\n",
              "      <td>12.630872</td>\n",
              "    </tr>\n",
              "    <tr>\n",
              "      <th>3</th>\n",
              "      <td>10.863095</td>\n",
              "    </tr>\n",
              "    <tr>\n",
              "      <th>4</th>\n",
              "      <td>5.368421</td>\n",
              "    </tr>\n",
              "  </tbody>\n",
              "</table>\n",
              "</div>"
            ],
            "text/plain": [
              "   avg_bac_distance\n",
              "0         13.692647\n",
              "1         12.830787\n",
              "2         12.630872\n",
              "3         10.863095\n",
              "4          5.368421"
            ]
          },
          "metadata": {},
          "execution_count": 10
        }
      ]
    },
    {
      "cell_type": "markdown",
      "metadata": {
        "id": "bodZsD2av1dD"
      },
      "source": [
        "## Having\n",
        "\n",
        "3. Repeat the previous query, but only display results where the average distance is at least 10 km."
      ]
    },
    {
      "cell_type": "code",
      "metadata": {
        "id": "nyKYBoMuwCbR",
        "colab": {
          "base_uri": "https://localhost:8080/",
          "height": 309
        },
        "outputId": "2ebfdc27-2044-4bdb-bfd2-5b666ce35e13"
      },
      "source": [
        "# Write your SQL query in this string\n",
        "sql = \"\"\"\n",
        "SELECT AVG(\"BACDistance (in Km)\") AS avg_bac_distance\n",
        "FROM school_details\n",
        "GROUP BY SchoolLevel\n",
        "HAVING avg_bac_distance >= 10\n",
        "ORDER BY avg_bac_distance DESC\n",
        "\"\"\"\n",
        "\n",
        "# Read the sql query into pandas to view the results\n",
        "df = pd.read_sql_query(sql, engine)\n",
        "df.head()"
      ],
      "execution_count": 11,
      "outputs": [
        {
          "output_type": "stream",
          "name": "stdout",
          "text": [
            "2021-11-18 21:58:57,171 INFO sqlalchemy.engine.Engine \n",
            "SELECT AVG(\"BACDistance (in Km)\") AS avg_bac_distance\n",
            "FROM school_details\n",
            "GROUP BY SchoolLevel\n",
            "HAVING avg_bac_distance >= 10\n",
            "ORDER BY avg_bac_distance DESC\n",
            "\n",
            "2021-11-18 21:58:57,175 INFO sqlalchemy.engine.Engine [raw sql] ()\n"
          ]
        },
        {
          "output_type": "execute_result",
          "data": {
            "text/html": [
              "<div>\n",
              "<style scoped>\n",
              "    .dataframe tbody tr th:only-of-type {\n",
              "        vertical-align: middle;\n",
              "    }\n",
              "\n",
              "    .dataframe tbody tr th {\n",
              "        vertical-align: top;\n",
              "    }\n",
              "\n",
              "    .dataframe thead th {\n",
              "        text-align: right;\n",
              "    }\n",
              "</style>\n",
              "<table border=\"1\" class=\"dataframe\">\n",
              "  <thead>\n",
              "    <tr style=\"text-align: right;\">\n",
              "      <th></th>\n",
              "      <th>avg_bac_distance</th>\n",
              "    </tr>\n",
              "  </thead>\n",
              "  <tbody>\n",
              "    <tr>\n",
              "      <th>0</th>\n",
              "      <td>13.692647</td>\n",
              "    </tr>\n",
              "    <tr>\n",
              "      <th>1</th>\n",
              "      <td>12.830787</td>\n",
              "    </tr>\n",
              "    <tr>\n",
              "      <th>2</th>\n",
              "      <td>12.630872</td>\n",
              "    </tr>\n",
              "    <tr>\n",
              "      <th>3</th>\n",
              "      <td>10.863095</td>\n",
              "    </tr>\n",
              "  </tbody>\n",
              "</table>\n",
              "</div>"
            ],
            "text/plain": [
              "   avg_bac_distance\n",
              "0         13.692647\n",
              "1         12.830787\n",
              "2         12.630872\n",
              "3         10.863095"
            ]
          },
          "metadata": {},
          "execution_count": 11
        }
      ]
    },
    {
      "cell_type": "markdown",
      "metadata": {
        "id": "XXeG19hywLlp"
      },
      "source": [
        "## Joins\n",
        "\n",
        "4. Join the two tables together (school_details and school_details). Start by displaying all of the columns, but limit the resulting rows to just 2."
      ]
    },
    {
      "cell_type": "code",
      "metadata": {
        "id": "_JlXTE_ywUeQ",
        "colab": {
          "base_uri": "https://localhost:8080/",
          "height": 437
        },
        "outputId": "af1dd9b3-c1a9-4332-f025-e0b7d869a69b"
      },
      "source": [
        "# Write your SQL query in this string\n",
        "sql = \"\"\"\n",
        "SELECT *\n",
        "FROM school_details s INNER JOIN school_facility_details f\n",
        "  ON s.EstablishmentCode = f.EstablishmentCode\n",
        "LIMIT 2\n",
        "\"\"\"\n",
        "\n",
        "# Read the sql query into pandas to view the results\n",
        "df = pd.read_sql_query(sql, engine)\n",
        "df.head()"
      ],
      "execution_count": 12,
      "outputs": [
        {
          "output_type": "stream",
          "name": "stdout",
          "text": [
            "2021-11-18 21:58:59,821 INFO sqlalchemy.engine.Engine \n",
            "SELECT *\n",
            "FROM school_details s INNER JOIN school_facility_details f\n",
            "  ON s.EstablishmentCode = f.EstablishmentCode\n",
            "LIMIT 2\n",
            "\n",
            "2021-11-18 21:58:59,830 INFO sqlalchemy.engine.Engine [raw sql] ()\n"
          ]
        },
        {
          "output_type": "execute_result",
          "data": {
            "text/html": [
              "<div>\n",
              "<style scoped>\n",
              "    .dataframe tbody tr th:only-of-type {\n",
              "        vertical-align: middle;\n",
              "    }\n",
              "\n",
              "    .dataframe tbody tr th {\n",
              "        vertical-align: top;\n",
              "    }\n",
              "\n",
              "    .dataframe thead th {\n",
              "        text-align: right;\n",
              "    }\n",
              "</style>\n",
              "<table border=\"1\" class=\"dataframe\">\n",
              "  <thead>\n",
              "    <tr style=\"text-align: right;\">\n",
              "      <th></th>\n",
              "      <th>index</th>\n",
              "      <th>DistrictName</th>\n",
              "      <th>EstablishmentCode</th>\n",
              "      <th>EstablishmentName</th>\n",
              "      <th>BRCName</th>\n",
              "      <th>CRCName</th>\n",
              "      <th>SchoolLevel</th>\n",
              "      <th>ManagementName</th>\n",
              "      <th>LocalityHabitation</th>\n",
              "      <th>SubdivisionName</th>\n",
              "      <th>ConstituencyName</th>\n",
              "      <th>RevenueBlockName</th>\n",
              "      <th>CivicBodyName</th>\n",
              "      <th>WardName</th>\n",
              "      <th>PostOfficeName</th>\n",
              "      <th>PhoneNo</th>\n",
              "      <th>FaxNo</th>\n",
              "      <th>EmailID</th>\n",
              "      <th>Website</th>\n",
              "      <th>LocatedInRuralOrUrban</th>\n",
              "      <th>DiseCode</th>\n",
              "      <th>EstablishedDate</th>\n",
              "      <th>DistrictHQDistance (in Km)</th>\n",
              "      <th>CRCDistance (in Km)</th>\n",
              "      <th>BACDistance (in Km)</th>\n",
              "      <th>IsRecognized</th>\n",
              "      <th>RecognizedBy</th>\n",
              "      <th>ContactPersonName</th>\n",
              "      <th>LowestClass</th>\n",
              "      <th>HighestClass</th>\n",
              "      <th>BoardName</th>\n",
              "      <th>index</th>\n",
              "      <th>EstablishmentCode</th>\n",
              "      <th>EstablishmentName</th>\n",
              "      <th>IsLibraryAvailable</th>\n",
              "      <th>AvailableBooksCount</th>\n",
              "      <th>IsFireExtgAvailable</th>\n",
              "      <th>ExtinguisherCount</th>\n",
              "      <th>HOIRoomAvailable</th>\n",
              "      <th>IsStaffRoomAvailable</th>\n",
              "      <th>NoofStaffRoom</th>\n",
              "      <th>IsLockerForStaffAvailable</th>\n",
              "      <th>IsSportsStoreRoomAvailable</th>\n",
              "    </tr>\n",
              "  </thead>\n",
              "  <tbody>\n",
              "    <tr>\n",
              "      <th>0</th>\n",
              "      <td>0</td>\n",
              "      <td>East</td>\n",
              "      <td>S0169</td>\n",
              "      <td>BUDANG GOVERNMENT PRIMARY SCHOOL (E)</td>\n",
              "      <td>Duga Brc</td>\n",
              "      <td>Central Pendam Government Senior Secondary School</td>\n",
              "      <td>PS</td>\n",
              "      <td>State Govt.</td>\n",
              "      <td>BUDANG</td>\n",
              "      <td>Gangtok</td>\n",
              "      <td>Rhenock</td>\n",
              "      <td>Central Pendam</td>\n",
              "      <td>Central Pendam</td>\n",
              "      <td>Sajong</td>\n",
              "      <td>Upper Pendam</td>\n",
              "      <td>None</td>\n",
              "      <td>None</td>\n",
              "      <td>None</td>\n",
              "      <td>None</td>\n",
              "      <td>Urban Area</td>\n",
              "      <td>None</td>\n",
              "      <td>28126</td>\n",
              "      <td>58.0</td>\n",
              "      <td>8.0</td>\n",
              "      <td>16.0</td>\n",
              "      <td>Recognized</td>\n",
              "      <td>HRDD</td>\n",
              "      <td>None</td>\n",
              "      <td>Class 1</td>\n",
              "      <td>Class 5</td>\n",
              "      <td>None</td>\n",
              "      <td>121</td>\n",
              "      <td>S0169</td>\n",
              "      <td>BUDANG GOVERNMENT PRIMARY SCHOOL (E)</td>\n",
              "      <td>Available</td>\n",
              "      <td>100</td>\n",
              "      <td>Available</td>\n",
              "      <td>2</td>\n",
              "      <td>Available</td>\n",
              "      <td>Available</td>\n",
              "      <td>1</td>\n",
              "      <td>Not Available</td>\n",
              "      <td>Not Available</td>\n",
              "    </tr>\n",
              "    <tr>\n",
              "      <th>1</th>\n",
              "      <td>1</td>\n",
              "      <td>East</td>\n",
              "      <td>S0099</td>\n",
              "      <td>CENTRAL PENDAM GOVERNMENT SENIOR SECONDARY SCHOOL</td>\n",
              "      <td>Duga Brc</td>\n",
              "      <td>Central Pendam Government Senior Secondary School</td>\n",
              "      <td>SSS</td>\n",
              "      <td>State Govt.</td>\n",
              "      <td>CENTRAL PENDAM</td>\n",
              "      <td>Gangtok</td>\n",
              "      <td>West Pandam</td>\n",
              "      <td>Central Pendam</td>\n",
              "      <td>Central Pendam</td>\n",
              "      <td>Karmithang</td>\n",
              "      <td>Upper Pendam</td>\n",
              "      <td>3592263812</td>\n",
              "      <td>None</td>\n",
              "      <td>None</td>\n",
              "      <td>None</td>\n",
              "      <td>Urban Area</td>\n",
              "      <td>800401</td>\n",
              "      <td>15342</td>\n",
              "      <td>50.0</td>\n",
              "      <td>0.0</td>\n",
              "      <td>6.0</td>\n",
              "      <td>Recognized</td>\n",
              "      <td>HRDD</td>\n",
              "      <td>None</td>\n",
              "      <td>Class 1</td>\n",
              "      <td>Class 12</td>\n",
              "      <td>C.B.S.E.</td>\n",
              "      <td>137</td>\n",
              "      <td>S0099</td>\n",
              "      <td>CENTRAL PENDAM GOVERNMENT SENIOR SECONDARY SCHOOL</td>\n",
              "      <td>Available</td>\n",
              "      <td>0</td>\n",
              "      <td>Available</td>\n",
              "      <td>5</td>\n",
              "      <td>Available</td>\n",
              "      <td>Available</td>\n",
              "      <td>2</td>\n",
              "      <td>Not Available</td>\n",
              "      <td>Available</td>\n",
              "    </tr>\n",
              "  </tbody>\n",
              "</table>\n",
              "</div>"
            ],
            "text/plain": [
              "   index DistrictName  ... IsLockerForStaffAvailable IsSportsStoreRoomAvailable\n",
              "0      0         East  ...             Not Available              Not Available\n",
              "1      1         East  ...             Not Available                  Available\n",
              "\n",
              "[2 rows x 43 columns]"
            ]
          },
          "metadata": {},
          "execution_count": 12
        }
      ]
    },
    {
      "cell_type": "code",
      "metadata": {
        "id": "RKX6aMG28AwX",
        "colab": {
          "base_uri": "https://localhost:8080/"
        },
        "outputId": "1e475e19-59d4-4d98-ed0d-30303456c878"
      },
      "source": [
        "df.info()"
      ],
      "execution_count": 13,
      "outputs": [
        {
          "output_type": "stream",
          "name": "stdout",
          "text": [
            "<class 'pandas.core.frame.DataFrame'>\n",
            "RangeIndex: 2 entries, 0 to 1\n",
            "Data columns (total 43 columns):\n",
            " #   Column                      Non-Null Count  Dtype  \n",
            "---  ------                      --------------  -----  \n",
            " 0   index                       2 non-null      int64  \n",
            " 1   DistrictName                2 non-null      object \n",
            " 2   EstablishmentCode           2 non-null      object \n",
            " 3   EstablishmentName           2 non-null      object \n",
            " 4   BRCName                     2 non-null      object \n",
            " 5   CRCName                     2 non-null      object \n",
            " 6   SchoolLevel                 2 non-null      object \n",
            " 7   ManagementName              2 non-null      object \n",
            " 8   LocalityHabitation          2 non-null      object \n",
            " 9   SubdivisionName             2 non-null      object \n",
            " 10  ConstituencyName            2 non-null      object \n",
            " 11  RevenueBlockName            2 non-null      object \n",
            " 12  CivicBodyName               2 non-null      object \n",
            " 13  WardName                    2 non-null      object \n",
            " 14  PostOfficeName              2 non-null      object \n",
            " 15  PhoneNo                     1 non-null      object \n",
            " 16  FaxNo                       0 non-null      object \n",
            " 17  EmailID                     0 non-null      object \n",
            " 18  Website                     0 non-null      object \n",
            " 19  LocatedInRuralOrUrban       2 non-null      object \n",
            " 20  DiseCode                    1 non-null      object \n",
            " 21  EstablishedDate             2 non-null      object \n",
            " 22  DistrictHQDistance (in Km)  2 non-null      float64\n",
            " 23  CRCDistance (in Km)         2 non-null      float64\n",
            " 24  BACDistance (in Km)         2 non-null      float64\n",
            " 25  IsRecognized                2 non-null      object \n",
            " 26  RecognizedBy                2 non-null      object \n",
            " 27  ContactPersonName           0 non-null      object \n",
            " 28  LowestClass                 2 non-null      object \n",
            " 29  HighestClass                2 non-null      object \n",
            " 30  BoardName                   1 non-null      object \n",
            " 31  index                       2 non-null      int64  \n",
            " 32  EstablishmentCode           2 non-null      object \n",
            " 33  EstablishmentName           2 non-null      object \n",
            " 34  IsLibraryAvailable          2 non-null      object \n",
            " 35  AvailableBooksCount         2 non-null      int64  \n",
            " 36  IsFireExtgAvailable         2 non-null      object \n",
            " 37  ExtinguisherCount           2 non-null      int64  \n",
            " 38  HOIRoomAvailable            2 non-null      object \n",
            " 39  IsStaffRoomAvailable        2 non-null      object \n",
            " 40  NoofStaffRoom               2 non-null      int64  \n",
            " 41  IsLockerForStaffAvailable   2 non-null      object \n",
            " 42  IsSportsStoreRoomAvailable  2 non-null      object \n",
            "dtypes: float64(3), int64(5), object(35)\n",
            "memory usage: 816.0+ bytes\n"
          ]
        }
      ]
    },
    {
      "cell_type": "markdown",
      "metadata": {
        "id": "8HFsQfZLts0i"
      },
      "source": [
        "5. Now, select just the schools where the SchoolLevel is \"PS\" that do not have libraries."
      ]
    },
    {
      "cell_type": "code",
      "metadata": {
        "id": "kDXqMQjdw2fK",
        "colab": {
          "base_uri": "https://localhost:8080/",
          "height": 323
        },
        "outputId": "fe2bb84d-6dfc-4dfe-d7b4-f26e92354d2c"
      },
      "source": [
        "# Write your SQL query in this string\n",
        "sql = \"\"\"\n",
        "SELECT s.EstablishmentName, s.SchoolLevel, f.IsLibraryAvailable \n",
        "FROM school_details s INNER JOIN school_facility_details f\n",
        "  ON s.EstablishmentCode = f.EstablishmentCode\n",
        "WHERE s.SchoolLevel = \"PS\" AND f.IsLibraryAvailable = 'Not Available'\n",
        "\"\"\"\n",
        "\n",
        "# Read the sql query into pandas to view the results\n",
        "df = pd.read_sql_query(sql, engine)\n",
        "df.head()"
      ],
      "execution_count": 14,
      "outputs": [
        {
          "output_type": "stream",
          "name": "stdout",
          "text": [
            "2021-11-18 21:59:05,827 INFO sqlalchemy.engine.Engine \n",
            "SELECT s.EstablishmentName, s.SchoolLevel, f.IsLibraryAvailable \n",
            "FROM school_details s INNER JOIN school_facility_details f\n",
            "  ON s.EstablishmentCode = f.EstablishmentCode\n",
            "WHERE s.SchoolLevel = \"PS\" AND f.IsLibraryAvailable = 'Not Available'\n",
            "\n",
            "2021-11-18 21:59:05,830 INFO sqlalchemy.engine.Engine [raw sql] ()\n"
          ]
        },
        {
          "output_type": "execute_result",
          "data": {
            "text/html": [
              "<div>\n",
              "<style scoped>\n",
              "    .dataframe tbody tr th:only-of-type {\n",
              "        vertical-align: middle;\n",
              "    }\n",
              "\n",
              "    .dataframe tbody tr th {\n",
              "        vertical-align: top;\n",
              "    }\n",
              "\n",
              "    .dataframe thead th {\n",
              "        text-align: right;\n",
              "    }\n",
              "</style>\n",
              "<table border=\"1\" class=\"dataframe\">\n",
              "  <thead>\n",
              "    <tr style=\"text-align: right;\">\n",
              "      <th></th>\n",
              "      <th>EstablishmentName</th>\n",
              "      <th>SchoolLevel</th>\n",
              "      <th>IsLibraryAvailable</th>\n",
              "    </tr>\n",
              "  </thead>\n",
              "  <tbody>\n",
              "    <tr>\n",
              "      <th>0</th>\n",
              "      <td>EASWARAMMA SAI GURUKOOL ACCADEMY</td>\n",
              "      <td>PS</td>\n",
              "      <td>Not Available</td>\n",
              "    </tr>\n",
              "    <tr>\n",
              "      <th>1</th>\n",
              "      <td>NEW GARDEN BOARDING SCHOOL (SAJONG)</td>\n",
              "      <td>PS</td>\n",
              "      <td>Not Available</td>\n",
              "    </tr>\n",
              "    <tr>\n",
              "      <th>2</th>\n",
              "      <td>SARASWATI SHISHU VIDHYALAYA, BUDANG</td>\n",
              "      <td>PS</td>\n",
              "      <td>Not Available</td>\n",
              "    </tr>\n",
              "    <tr>\n",
              "      <th>3</th>\n",
              "      <td>SAWNEY GOVERNMENT PRIMARY SCHOOL</td>\n",
              "      <td>PS</td>\n",
              "      <td>Not Available</td>\n",
              "    </tr>\n",
              "    <tr>\n",
              "      <th>4</th>\n",
              "      <td>UPPER PACHAK GOVERNMENT PRIMARY SCHOOL</td>\n",
              "      <td>PS</td>\n",
              "      <td>Not Available</td>\n",
              "    </tr>\n",
              "  </tbody>\n",
              "</table>\n",
              "</div>"
            ],
            "text/plain": [
              "                        EstablishmentName SchoolLevel IsLibraryAvailable\n",
              "0        EASWARAMMA SAI GURUKOOL ACCADEMY          PS      Not Available\n",
              "1     NEW GARDEN BOARDING SCHOOL (SAJONG)          PS      Not Available\n",
              "2     SARASWATI SHISHU VIDHYALAYA, BUDANG          PS      Not Available\n",
              "3        SAWNEY GOVERNMENT PRIMARY SCHOOL          PS      Not Available\n",
              "4  UPPER PACHAK GOVERNMENT PRIMARY SCHOOL          PS      Not Available"
            ]
          },
          "metadata": {},
          "execution_count": 14
        }
      ]
    },
    {
      "cell_type": "markdown",
      "metadata": {
        "id": "oEj7VseBw26j"
      },
      "source": [
        "6. Build off the previous query, but order the results alphabetically by name."
      ]
    },
    {
      "cell_type": "code",
      "metadata": {
        "id": "xw6SGQHQw4dS",
        "colab": {
          "base_uri": "https://localhost:8080/",
          "height": 357
        },
        "outputId": "b038c0e8-2c8c-4c34-ed6f-3b55a023f2b8"
      },
      "source": [
        "# Write your SQL query in this string\n",
        "sql = \"\"\"\n",
        "SELECT s.EstablishmentName, s.SchoolLevel, f.IsLibraryAvailable \n",
        "FROM school_details s INNER JOIN school_facility_details f\n",
        "  ON s.EstablishmentCode = f.EstablishmentCode\n",
        "WHERE s.SchoolLevel = \"PS\" AND f.IsLibraryAvailable = 'Not Available'\n",
        "ORDER BY s.EstablishmentName\n",
        "\n",
        "\"\"\"\n",
        "\n",
        "# Read the sql query into pandas to view the results\n",
        "df = pd.read_sql_query(sql, engine)\n",
        "df.head()"
      ],
      "execution_count": 15,
      "outputs": [
        {
          "output_type": "stream",
          "name": "stdout",
          "text": [
            "2021-11-18 21:59:08,431 INFO sqlalchemy.engine.Engine \n",
            "SELECT s.EstablishmentName, s.SchoolLevel, f.IsLibraryAvailable \n",
            "FROM school_details s INNER JOIN school_facility_details f\n",
            "  ON s.EstablishmentCode = f.EstablishmentCode\n",
            "WHERE s.SchoolLevel = \"PS\" AND f.IsLibraryAvailable = 'Not Available'\n",
            "ORDER BY s.EstablishmentName\n",
            "\n",
            "\n",
            "2021-11-18 21:59:08,433 INFO sqlalchemy.engine.Engine [raw sql] ()\n"
          ]
        },
        {
          "output_type": "execute_result",
          "data": {
            "text/html": [
              "<div>\n",
              "<style scoped>\n",
              "    .dataframe tbody tr th:only-of-type {\n",
              "        vertical-align: middle;\n",
              "    }\n",
              "\n",
              "    .dataframe tbody tr th {\n",
              "        vertical-align: top;\n",
              "    }\n",
              "\n",
              "    .dataframe thead th {\n",
              "        text-align: right;\n",
              "    }\n",
              "</style>\n",
              "<table border=\"1\" class=\"dataframe\">\n",
              "  <thead>\n",
              "    <tr style=\"text-align: right;\">\n",
              "      <th></th>\n",
              "      <th>EstablishmentName</th>\n",
              "      <th>SchoolLevel</th>\n",
              "      <th>IsLibraryAvailable</th>\n",
              "    </tr>\n",
              "  </thead>\n",
              "  <tbody>\n",
              "    <tr>\n",
              "      <th>0</th>\n",
              "      <td>(I.E.C) INDIAN EVANGALISTIC CRUSADE MISSION PR...</td>\n",
              "      <td>PS</td>\n",
              "      <td>Not Available</td>\n",
              "    </tr>\n",
              "    <tr>\n",
              "      <th>1</th>\n",
              "      <td>10TH MILE GOVERNMENT PRIMARY SCHOOL</td>\n",
              "      <td>PS</td>\n",
              "      <td>Not Available</td>\n",
              "    </tr>\n",
              "    <tr>\n",
              "      <th>2</th>\n",
              "      <td>AAPGAZI GOVERNMENT PRIMARY SCHOOL</td>\n",
              "      <td>PS</td>\n",
              "      <td>Not Available</td>\n",
              "    </tr>\n",
              "    <tr>\n",
              "      <th>3</th>\n",
              "      <td>AARUBOTEY GOVERNMENT PRIMARY SCHOOL</td>\n",
              "      <td>PS</td>\n",
              "      <td>Not Available</td>\n",
              "    </tr>\n",
              "    <tr>\n",
              "      <th>4</th>\n",
              "      <td>AHO-YANGTAM GOVERNMENT PRIMARY SCHOOL</td>\n",
              "      <td>PS</td>\n",
              "      <td>Not Available</td>\n",
              "    </tr>\n",
              "  </tbody>\n",
              "</table>\n",
              "</div>"
            ],
            "text/plain": [
              "                                   EstablishmentName  ... IsLibraryAvailable\n",
              "0  (I.E.C) INDIAN EVANGALISTIC CRUSADE MISSION PR...  ...      Not Available\n",
              "1                10TH MILE GOVERNMENT PRIMARY SCHOOL  ...      Not Available\n",
              "2                  AAPGAZI GOVERNMENT PRIMARY SCHOOL  ...      Not Available\n",
              "3                AARUBOTEY GOVERNMENT PRIMARY SCHOOL  ...      Not Available\n",
              "4              AHO-YANGTAM GOVERNMENT PRIMARY SCHOOL  ...      Not Available\n",
              "\n",
              "[5 rows x 3 columns]"
            ]
          },
          "metadata": {},
          "execution_count": 15
        }
      ]
    },
    {
      "cell_type": "code",
      "metadata": {
        "id": "a49BF5JpyUwT"
      },
      "source": [
        "# Close the database connection\n",
        "conn.close()"
      ],
      "execution_count": 16,
      "outputs": []
    }
  ]
}