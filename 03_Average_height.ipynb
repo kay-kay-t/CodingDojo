{
  "nbformat": 4,
  "nbformat_minor": 0,
  "metadata": {
    "colab": {
      "name": "03_Average height.ipynb",
      "provenance": [],
      "collapsed_sections": [],
      "authorship_tag": "ABX9TyPos9GK64oP1SBb9v3feOKL",
      "include_colab_link": true
    },
    "kernelspec": {
      "name": "python3",
      "display_name": "Python 3"
    },
    "language_info": {
      "name": "python"
    }
  },
  "cells": [
    {
      "cell_type": "markdown",
      "metadata": {
        "id": "view-in-github",
        "colab_type": "text"
      },
      "source": [
        "<a href=\"https://colab.research.google.com/github/kay-kay-t/CodingDojo/blob/main/03_Average_height.ipynb\" target=\"_parent\"><img src=\"https://colab.research.google.com/assets/colab-badge.svg\" alt=\"Open In Colab\"/></a>"
      ]
    },
    {
      "cell_type": "code",
      "metadata": {
        "colab": {
          "base_uri": "https://localhost:8080/"
        },
        "id": "J1VzaOz5iCbi",
        "outputId": "240970fc-9bab-4fcb-df86-b7c7b03db8e7"
      },
      "source": [
        "from google.colab import drive\n",
        "drive.mount('/content/drive')"
      ],
      "execution_count": 2,
      "outputs": [
        {
          "output_type": "stream",
          "name": "stdout",
          "text": [
            "Drive already mounted at /content/drive; to attempt to forcibly remount, call drive.mount(\"/content/drive\", force_remount=True).\n"
          ]
        }
      ]
    },
    {
      "cell_type": "code",
      "metadata": {
        "id": "fT5fKpydi1TF"
      },
      "source": [
        "# Imports\n",
        "import pandas as pd\n",
        "filename = '/content/athleteEventsNoPersonal.csv'"
      ],
      "execution_count": 3,
      "outputs": []
    },
    {
      "cell_type": "code",
      "metadata": {
        "colab": {
          "base_uri": "https://localhost:8080/",
          "height": 203
        },
        "id": "GPDuGulHjIyv",
        "outputId": "eff7b0ad-622e-46bb-e773-e210f4a1f647"
      },
      "source": [
        "# Load data where ad = athletes data\n",
        "ad = pd.read_csv(filename)\n",
        "ad.head()"
      ],
      "execution_count": 4,
      "outputs": [
        {
          "output_type": "execute_result",
          "data": {
            "text/html": [
              "<div>\n",
              "<style scoped>\n",
              "    .dataframe tbody tr th:only-of-type {\n",
              "        vertical-align: middle;\n",
              "    }\n",
              "\n",
              "    .dataframe tbody tr th {\n",
              "        vertical-align: top;\n",
              "    }\n",
              "\n",
              "    .dataframe thead th {\n",
              "        text-align: right;\n",
              "    }\n",
              "</style>\n",
              "<table border=\"1\" class=\"dataframe\">\n",
              "  <thead>\n",
              "    <tr style=\"text-align: right;\">\n",
              "      <th></th>\n",
              "      <th>ID</th>\n",
              "      <th>Age</th>\n",
              "      <th>Height</th>\n",
              "      <th>Team</th>\n",
              "      <th>NOC</th>\n",
              "      <th>Games</th>\n",
              "      <th>Year</th>\n",
              "      <th>Season</th>\n",
              "      <th>City</th>\n",
              "      <th>Sport</th>\n",
              "      <th>Event</th>\n",
              "      <th>Medal</th>\n",
              "    </tr>\n",
              "  </thead>\n",
              "  <tbody>\n",
              "    <tr>\n",
              "      <th>0</th>\n",
              "      <td>5</td>\n",
              "      <td>21.0</td>\n",
              "      <td>185.0</td>\n",
              "      <td>Netherlands</td>\n",
              "      <td>NED</td>\n",
              "      <td>1988 Winter</td>\n",
              "      <td>1988</td>\n",
              "      <td>Winter</td>\n",
              "      <td>Calgary</td>\n",
              "      <td>Speed Skating</td>\n",
              "      <td>Speed Skating Women's 500 metres</td>\n",
              "      <td>NaN</td>\n",
              "    </tr>\n",
              "    <tr>\n",
              "      <th>1</th>\n",
              "      <td>5</td>\n",
              "      <td>21.0</td>\n",
              "      <td>185.0</td>\n",
              "      <td>Netherlands</td>\n",
              "      <td>NED</td>\n",
              "      <td>1988 Winter</td>\n",
              "      <td>1988</td>\n",
              "      <td>Winter</td>\n",
              "      <td>Calgary</td>\n",
              "      <td>Speed Skating</td>\n",
              "      <td>Speed Skating Women's 1,000 metres</td>\n",
              "      <td>NaN</td>\n",
              "    </tr>\n",
              "    <tr>\n",
              "      <th>2</th>\n",
              "      <td>5</td>\n",
              "      <td>25.0</td>\n",
              "      <td>185.0</td>\n",
              "      <td>Netherlands</td>\n",
              "      <td>NED</td>\n",
              "      <td>1992 Winter</td>\n",
              "      <td>1992</td>\n",
              "      <td>Winter</td>\n",
              "      <td>Albertville</td>\n",
              "      <td>Speed Skating</td>\n",
              "      <td>Speed Skating Women's 500 metres</td>\n",
              "      <td>NaN</td>\n",
              "    </tr>\n",
              "    <tr>\n",
              "      <th>3</th>\n",
              "      <td>5</td>\n",
              "      <td>25.0</td>\n",
              "      <td>185.0</td>\n",
              "      <td>Netherlands</td>\n",
              "      <td>NED</td>\n",
              "      <td>1992 Winter</td>\n",
              "      <td>1992</td>\n",
              "      <td>Winter</td>\n",
              "      <td>Albertville</td>\n",
              "      <td>Speed Skating</td>\n",
              "      <td>Speed Skating Women's 1,000 metres</td>\n",
              "      <td>NaN</td>\n",
              "    </tr>\n",
              "    <tr>\n",
              "      <th>4</th>\n",
              "      <td>5</td>\n",
              "      <td>27.0</td>\n",
              "      <td>185.0</td>\n",
              "      <td>Netherlands</td>\n",
              "      <td>NED</td>\n",
              "      <td>1994 Winter</td>\n",
              "      <td>1994</td>\n",
              "      <td>Winter</td>\n",
              "      <td>Lillehammer</td>\n",
              "      <td>Speed Skating</td>\n",
              "      <td>Speed Skating Women's 500 metres</td>\n",
              "      <td>NaN</td>\n",
              "    </tr>\n",
              "  </tbody>\n",
              "</table>\n",
              "</div>"
            ],
            "text/plain": [
              "   ID   Age  Height  ...          Sport                               Event Medal\n",
              "0   5  21.0   185.0  ...  Speed Skating    Speed Skating Women's 500 metres   NaN\n",
              "1   5  21.0   185.0  ...  Speed Skating  Speed Skating Women's 1,000 metres   NaN\n",
              "2   5  25.0   185.0  ...  Speed Skating    Speed Skating Women's 500 metres   NaN\n",
              "3   5  25.0   185.0  ...  Speed Skating  Speed Skating Women's 1,000 metres   NaN\n",
              "4   5  27.0   185.0  ...  Speed Skating    Speed Skating Women's 500 metres   NaN\n",
              "\n",
              "[5 rows x 12 columns]"
            ]
          },
          "metadata": {},
          "execution_count": 4
        }
      ]
    },
    {
      "cell_type": "markdown",
      "metadata": {
        "id": "5qJ4BPUu81KW"
      },
      "source": [
        "1.a. How many rows\n",
        "  b. How many columns"
      ]
    },
    {
      "cell_type": "code",
      "metadata": {
        "colab": {
          "base_uri": "https://localhost:8080/"
        },
        "id": "RMtnxLxu8wbO",
        "outputId": "ce77afa6-e207-411c-f6e8-da25044ccf26"
      },
      "source": [
        "ad.shape"
      ],
      "execution_count": 5,
      "outputs": [
        {
          "output_type": "execute_result",
          "data": {
            "text/plain": [
              "(40616, 12)"
            ]
          },
          "metadata": {},
          "execution_count": 5
        }
      ]
    },
    {
      "cell_type": "markdown",
      "metadata": {
        "id": "625kXe3m9FAp"
      },
      "source": [
        "  1. c. Which columns have missing values? (Why do think there are there so many null values in the Medals column?)"
      ]
    },
    {
      "cell_type": "code",
      "metadata": {
        "colab": {
          "base_uri": "https://localhost:8080/"
        },
        "id": "5a9ZK1YNEmVQ",
        "outputId": "d91749e0-2add-492a-a3bd-b36815c89f64"
      },
      "source": [
        "# As we can see below, there's missing values in columns Age, Height and Medal. \n",
        "# Medal column has NaN values, because the athlet didn't get any medals in particular event\n",
        "ad.info()"
      ],
      "execution_count": 6,
      "outputs": [
        {
          "output_type": "stream",
          "name": "stdout",
          "text": [
            "<class 'pandas.core.frame.DataFrame'>\n",
            "RangeIndex: 40616 entries, 0 to 40615\n",
            "Data columns (total 12 columns):\n",
            " #   Column  Non-Null Count  Dtype  \n",
            "---  ------  --------------  -----  \n",
            " 0   ID      40616 non-null  int64  \n",
            " 1   Age     39143 non-null  float64\n",
            " 2   Height  31615 non-null  float64\n",
            " 3   Team    40616 non-null  object \n",
            " 4   NOC     40616 non-null  object \n",
            " 5   Games   40616 non-null  object \n",
            " 6   Year    40616 non-null  int64  \n",
            " 7   Season  40616 non-null  object \n",
            " 8   City    40616 non-null  object \n",
            " 9   Sport   40616 non-null  object \n",
            " 10  Event   40616 non-null  object \n",
            " 11  Medal   5917 non-null   object \n",
            "dtypes: float64(2), int64(2), object(8)\n",
            "memory usage: 3.7+ MB\n"
          ]
        }
      ]
    },
    {
      "cell_type": "markdown",
      "metadata": {
        "id": "xLd6sZ6pGlrf"
      },
      "source": [
        "1.d. How many entries correspond to the city of London?"
      ]
    },
    {
      "cell_type": "code",
      "metadata": {
        "colab": {
          "base_uri": "https://localhost:8080/"
        },
        "id": "IxbwfPbrGubS",
        "outputId": "7f5978fe-6bef-4a69-e4af-81515f826d5b"
      },
      "source": [
        "# Per code below 3370 entries correspond to the city of London\n",
        "London = ad.loc[ad['City'] == 'London', :]\n",
        "London.shape"
      ],
      "execution_count": 7,
      "outputs": [
        {
          "output_type": "execute_result",
          "data": {
            "text/plain": [
              "(3370, 12)"
            ]
          },
          "metadata": {},
          "execution_count": 7
        }
      ]
    },
    {
      "cell_type": "code",
      "metadata": {
        "colab": {
          "base_uri": "https://localhost:8080/",
          "height": 417
        },
        "id": "TK601hj-H-ch",
        "outputId": "e8e6d900-d8b9-46f0-bb27-ec2f2fd927be"
      },
      "source": [
        "# Data frame below showing some of them\n",
        "London"
      ],
      "execution_count": 8,
      "outputs": [
        {
          "output_type": "execute_result",
          "data": {
            "text/html": [
              "<div>\n",
              "<style scoped>\n",
              "    .dataframe tbody tr th:only-of-type {\n",
              "        vertical-align: middle;\n",
              "    }\n",
              "\n",
              "    .dataframe tbody tr th {\n",
              "        vertical-align: top;\n",
              "    }\n",
              "\n",
              "    .dataframe thead th {\n",
              "        text-align: right;\n",
              "    }\n",
              "</style>\n",
              "<table border=\"1\" class=\"dataframe\">\n",
              "  <thead>\n",
              "    <tr style=\"text-align: right;\">\n",
              "      <th></th>\n",
              "      <th>ID</th>\n",
              "      <th>Age</th>\n",
              "      <th>Height</th>\n",
              "      <th>Team</th>\n",
              "      <th>NOC</th>\n",
              "      <th>Games</th>\n",
              "      <th>Year</th>\n",
              "      <th>Season</th>\n",
              "      <th>City</th>\n",
              "      <th>Sport</th>\n",
              "      <th>Event</th>\n",
              "      <th>Medal</th>\n",
              "    </tr>\n",
              "  </thead>\n",
              "  <tbody>\n",
              "    <tr>\n",
              "      <th>36</th>\n",
              "      <td>54</td>\n",
              "      <td>NaN</td>\n",
              "      <td>NaN</td>\n",
              "      <td>Iran</td>\n",
              "      <td>IRI</td>\n",
              "      <td>1948 Summer</td>\n",
              "      <td>1948</td>\n",
              "      <td>Summer</td>\n",
              "      <td>London</td>\n",
              "      <td>Boxing</td>\n",
              "      <td>Boxing Men's Heavyweight</td>\n",
              "      <td>NaN</td>\n",
              "    </tr>\n",
              "    <tr>\n",
              "      <th>42</th>\n",
              "      <td>67</td>\n",
              "      <td>26.0</td>\n",
              "      <td>179.0</td>\n",
              "      <td>Russia</td>\n",
              "      <td>RUS</td>\n",
              "      <td>2012 Summer</td>\n",
              "      <td>2012</td>\n",
              "      <td>Summer</td>\n",
              "      <td>London</td>\n",
              "      <td>Athletics</td>\n",
              "      <td>Athletics Women's Javelin Throw</td>\n",
              "      <td>NaN</td>\n",
              "    </tr>\n",
              "    <tr>\n",
              "      <th>66</th>\n",
              "      <td>155</td>\n",
              "      <td>34.0</td>\n",
              "      <td>185.0</td>\n",
              "      <td>Egypt</td>\n",
              "      <td>EGY</td>\n",
              "      <td>2012 Summer</td>\n",
              "      <td>2012</td>\n",
              "      <td>Summer</td>\n",
              "      <td>London</td>\n",
              "      <td>Wrestling</td>\n",
              "      <td>Wrestling Men's Heavyweight, Greco-Roman</td>\n",
              "      <td>NaN</td>\n",
              "    </tr>\n",
              "    <tr>\n",
              "      <th>69</th>\n",
              "      <td>159</td>\n",
              "      <td>19.0</td>\n",
              "      <td>167.0</td>\n",
              "      <td>Egypt</td>\n",
              "      <td>EGY</td>\n",
              "      <td>2012 Summer</td>\n",
              "      <td>2012</td>\n",
              "      <td>Summer</td>\n",
              "      <td>London</td>\n",
              "      <td>Synchronized Swimming</td>\n",
              "      <td>Synchronized Swimming Women's Team</td>\n",
              "      <td>NaN</td>\n",
              "    </tr>\n",
              "    <tr>\n",
              "      <th>72</th>\n",
              "      <td>185</td>\n",
              "      <td>31.0</td>\n",
              "      <td>NaN</td>\n",
              "      <td>Egypt</td>\n",
              "      <td>EGY</td>\n",
              "      <td>1948 Summer</td>\n",
              "      <td>1948</td>\n",
              "      <td>Summer</td>\n",
              "      <td>London</td>\n",
              "      <td>Fencing</td>\n",
              "      <td>Fencing Men's Foil, Individual</td>\n",
              "      <td>NaN</td>\n",
              "    </tr>\n",
              "    <tr>\n",
              "      <th>...</th>\n",
              "      <td>...</td>\n",
              "      <td>...</td>\n",
              "      <td>...</td>\n",
              "      <td>...</td>\n",
              "      <td>...</td>\n",
              "      <td>...</td>\n",
              "      <td>...</td>\n",
              "      <td>...</td>\n",
              "      <td>...</td>\n",
              "      <td>...</td>\n",
              "      <td>...</td>\n",
              "      <td>...</td>\n",
              "    </tr>\n",
              "    <tr>\n",
              "      <th>40577</th>\n",
              "      <td>135489</td>\n",
              "      <td>22.0</td>\n",
              "      <td>182.0</td>\n",
              "      <td>Russia</td>\n",
              "      <td>RUS</td>\n",
              "      <td>2012 Summer</td>\n",
              "      <td>2012</td>\n",
              "      <td>Summer</td>\n",
              "      <td>London</td>\n",
              "      <td>Swimming</td>\n",
              "      <td>Swimming Women's 200 metres Backstroke</td>\n",
              "      <td>Silver</td>\n",
              "    </tr>\n",
              "    <tr>\n",
              "      <th>40578</th>\n",
              "      <td>135489</td>\n",
              "      <td>22.0</td>\n",
              "      <td>182.0</td>\n",
              "      <td>Russia</td>\n",
              "      <td>RUS</td>\n",
              "      <td>2012 Summer</td>\n",
              "      <td>2012</td>\n",
              "      <td>Summer</td>\n",
              "      <td>London</td>\n",
              "      <td>Swimming</td>\n",
              "      <td>Swimming Women's 4 x 100 metres Medley Relay</td>\n",
              "      <td>NaN</td>\n",
              "    </tr>\n",
              "    <tr>\n",
              "      <th>40590</th>\n",
              "      <td>135517</td>\n",
              "      <td>22.0</td>\n",
              "      <td>NaN</td>\n",
              "      <td>Austria</td>\n",
              "      <td>AUT</td>\n",
              "      <td>1948 Summer</td>\n",
              "      <td>1948</td>\n",
              "      <td>Summer</td>\n",
              "      <td>London</td>\n",
              "      <td>Swimming</td>\n",
              "      <td>Swimming Men's 100 metres Backstroke</td>\n",
              "      <td>NaN</td>\n",
              "    </tr>\n",
              "    <tr>\n",
              "      <th>40595</th>\n",
              "      <td>135528</td>\n",
              "      <td>28.0</td>\n",
              "      <td>181.0</td>\n",
              "      <td>Germany</td>\n",
              "      <td>GER</td>\n",
              "      <td>2012 Summer</td>\n",
              "      <td>2012</td>\n",
              "      <td>Summer</td>\n",
              "      <td>London</td>\n",
              "      <td>Badminton</td>\n",
              "      <td>Badminton Men's Singles</td>\n",
              "      <td>NaN</td>\n",
              "    </tr>\n",
              "    <tr>\n",
              "      <th>40609</th>\n",
              "      <td>135558</td>\n",
              "      <td>32.0</td>\n",
              "      <td>200.0</td>\n",
              "      <td>Poland</td>\n",
              "      <td>POL</td>\n",
              "      <td>2012 Summer</td>\n",
              "      <td>2012</td>\n",
              "      <td>Summer</td>\n",
              "      <td>London</td>\n",
              "      <td>Volleyball</td>\n",
              "      <td>Volleyball Men's Volleyball</td>\n",
              "      <td>NaN</td>\n",
              "    </tr>\n",
              "  </tbody>\n",
              "</table>\n",
              "<p>3370 rows × 12 columns</p>\n",
              "</div>"
            ],
            "text/plain": [
              "           ID   Age  ...                                         Event   Medal\n",
              "36         54   NaN  ...                      Boxing Men's Heavyweight     NaN\n",
              "42         67  26.0  ...               Athletics Women's Javelin Throw     NaN\n",
              "66        155  34.0  ...      Wrestling Men's Heavyweight, Greco-Roman     NaN\n",
              "69        159  19.0  ...            Synchronized Swimming Women's Team     NaN\n",
              "72        185  31.0  ...                Fencing Men's Foil, Individual     NaN\n",
              "...       ...   ...  ...                                           ...     ...\n",
              "40577  135489  22.0  ...        Swimming Women's 200 metres Backstroke  Silver\n",
              "40578  135489  22.0  ...  Swimming Women's 4 x 100 metres Medley Relay     NaN\n",
              "40590  135517  22.0  ...          Swimming Men's 100 metres Backstroke     NaN\n",
              "40595  135528  28.0  ...                       Badminton Men's Singles     NaN\n",
              "40609  135558  32.0  ...                   Volleyball Men's Volleyball     NaN\n",
              "\n",
              "[3370 rows x 12 columns]"
            ]
          },
          "metadata": {},
          "execution_count": 8
        }
      ]
    },
    {
      "cell_type": "markdown",
      "metadata": {
        "id": "QnqM5Bq8Iu-O"
      },
      "source": [
        " 1.e. What age is the youngest athlete in our sample data?  Hint: use min()"
      ]
    },
    {
      "cell_type": "code",
      "metadata": {
        "id": "p5dm0z3bIuOi",
        "colab": {
          "base_uri": "https://localhost:8080/"
        },
        "outputId": "64b4e912-a04c-46d1-a528-d58b399b8daa"
      },
      "source": [
        "ad['Age'].min()"
      ],
      "execution_count": 9,
      "outputs": [
        {
          "output_type": "execute_result",
          "data": {
            "text/plain": [
              "11.0"
            ]
          },
          "metadata": {},
          "execution_count": 9
        }
      ]
    },
    {
      "cell_type": "markdown",
      "metadata": {
        "id": "cui2WUA1KhQz"
      },
      "source": [
        "2.a. How many athletes who participated in the Sport \"Tug-Of-War\" were from Team \"Sweden\" in our sample dataset?"
      ]
    },
    {
      "cell_type": "code",
      "metadata": {
        "id": "PV5Amx97KEqW",
        "colab": {
          "base_uri": "https://localhost:8080/"
        },
        "outputId": "5ac47364-30ed-4486-d436-4cb71b9369e1"
      },
      "source": [
        "# Creating filter to match columns \"Sport\" and \"Team\" together\n",
        "sport = ad['Sport'] == 'Tug-Of-War'\n",
        "team = ad['Team'] == 'Sweden'\n",
        "ToW_Sweden = ad[sport & team]\n",
        "len(ToW_Sweden)"
      ],
      "execution_count": 10,
      "outputs": [
        {
          "output_type": "execute_result",
          "data": {
            "text/plain": [
              "6"
            ]
          },
          "metadata": {},
          "execution_count": 10
        }
      ]
    },
    {
      "cell_type": "markdown",
      "metadata": {
        "id": "VZeg_evCOQ3v"
      },
      "source": [
        " 2.b. How many Gold medals were awarded to athletes who were over 40 years old?"
      ]
    },
    {
      "cell_type": "code",
      "metadata": {
        "id": "gOMT6qrHOLlZ",
        "colab": {
          "base_uri": "https://localhost:8080/"
        },
        "outputId": "1910fc44-4245-42bd-b459-a1a6ea8e9c23"
      },
      "source": [
        " medal = ad['Medal'] == 'Gold'\n",
        " age = ad['Age'] > 40\n",
        " gold_40 = ad[medal & age] \n",
        " len(gold_40)"
      ],
      "execution_count": 11,
      "outputs": [
        {
          "output_type": "execute_result",
          "data": {
            "text/plain": [
              "66"
            ]
          },
          "metadata": {},
          "execution_count": 11
        }
      ]
    },
    {
      "cell_type": "markdown",
      "metadata": {
        "id": "QXwPYeMyQibF"
      },
      "source": [
        "3. Determine the average height of:\n",
        "a. All rows included.\n",
        "\n",
        "\n",
        "\n"
      ]
    },
    {
      "cell_type": "code",
      "metadata": {
        "id": "22MPhWCkQucL",
        "colab": {
          "base_uri": "https://localhost:8080/"
        },
        "outputId": "0c31b049-3cb7-4c87-838a-08c55b23aaa6"
      },
      "source": [
        "round(ad['Height'].mean(), 1)"
      ],
      "execution_count": 12,
      "outputs": [
        {
          "output_type": "execute_result",
          "data": {
            "text/plain": [
              "175.4"
            ]
          },
          "metadata": {},
          "execution_count": 12
        }
      ]
    },
    {
      "cell_type": "markdown",
      "metadata": {
        "id": "syBessduRucu"
      },
      "source": [
        "3. Determine the average height of:\n",
        "b. All rows included, but grouped by Event."
      ]
    },
    {
      "cell_type": "code",
      "metadata": {
        "id": "ju7zESsTR3IX",
        "colab": {
          "base_uri": "https://localhost:8080/",
          "height": 447
        },
        "outputId": "1641bdaf-923d-4668-894f-9d302688c794"
      },
      "source": [
        "round(ad.groupby(['Event'])[['Height']].mean())"
      ],
      "execution_count": 13,
      "outputs": [
        {
          "output_type": "execute_result",
          "data": {
            "text/html": [
              "<div>\n",
              "<style scoped>\n",
              "    .dataframe tbody tr th:only-of-type {\n",
              "        vertical-align: middle;\n",
              "    }\n",
              "\n",
              "    .dataframe tbody tr th {\n",
              "        vertical-align: top;\n",
              "    }\n",
              "\n",
              "    .dataframe thead th {\n",
              "        text-align: right;\n",
              "    }\n",
              "</style>\n",
              "<table border=\"1\" class=\"dataframe\">\n",
              "  <thead>\n",
              "    <tr style=\"text-align: right;\">\n",
              "      <th></th>\n",
              "      <th>Height</th>\n",
              "    </tr>\n",
              "    <tr>\n",
              "      <th>Event</th>\n",
              "      <th></th>\n",
              "    </tr>\n",
              "  </thead>\n",
              "  <tbody>\n",
              "    <tr>\n",
              "      <th>Alpine Skiing Men's Combined</th>\n",
              "      <td>179.0</td>\n",
              "    </tr>\n",
              "    <tr>\n",
              "      <th>Alpine Skiing Men's Downhill</th>\n",
              "      <td>178.0</td>\n",
              "    </tr>\n",
              "    <tr>\n",
              "      <th>Alpine Skiing Men's Giant Slalom</th>\n",
              "      <td>177.0</td>\n",
              "    </tr>\n",
              "    <tr>\n",
              "      <th>Alpine Skiing Men's Slalom</th>\n",
              "      <td>176.0</td>\n",
              "    </tr>\n",
              "    <tr>\n",
              "      <th>Alpine Skiing Men's Super G</th>\n",
              "      <td>180.0</td>\n",
              "    </tr>\n",
              "    <tr>\n",
              "      <th>...</th>\n",
              "      <td>...</td>\n",
              "    </tr>\n",
              "    <tr>\n",
              "      <th>Wrestling Women's Flyweight, Freestyle</th>\n",
              "      <td>158.0</td>\n",
              "    </tr>\n",
              "    <tr>\n",
              "      <th>Wrestling Women's Heavyweight, Freestyle</th>\n",
              "      <td>173.0</td>\n",
              "    </tr>\n",
              "    <tr>\n",
              "      <th>Wrestling Women's Light-Heavyweight, Freestyle</th>\n",
              "      <td>170.0</td>\n",
              "    </tr>\n",
              "    <tr>\n",
              "      <th>Wrestling Women's Lightweight, Freestyle</th>\n",
              "      <td>163.0</td>\n",
              "    </tr>\n",
              "    <tr>\n",
              "      <th>Wrestling Women's Middleweight, Freestyle</th>\n",
              "      <td>165.0</td>\n",
              "    </tr>\n",
              "  </tbody>\n",
              "</table>\n",
              "<p>726 rows × 1 columns</p>\n",
              "</div>"
            ],
            "text/plain": [
              "                                                Height\n",
              "Event                                                 \n",
              "Alpine Skiing Men's Combined                     179.0\n",
              "Alpine Skiing Men's Downhill                     178.0\n",
              "Alpine Skiing Men's Giant Slalom                 177.0\n",
              "Alpine Skiing Men's Slalom                       176.0\n",
              "Alpine Skiing Men's Super G                      180.0\n",
              "...                                                ...\n",
              "Wrestling Women's Flyweight, Freestyle           158.0\n",
              "Wrestling Women's Heavyweight, Freestyle         173.0\n",
              "Wrestling Women's Light-Heavyweight, Freestyle   170.0\n",
              "Wrestling Women's Lightweight, Freestyle         163.0\n",
              "Wrestling Women's Middleweight, Freestyle        165.0\n",
              "\n",
              "[726 rows x 1 columns]"
            ]
          },
          "metadata": {},
          "execution_count": 13
        }
      ]
    },
    {
      "cell_type": "markdown",
      "metadata": {
        "id": "6TkkZTrvVPZ9"
      },
      "source": [
        " 3. Determine the average height of: c. Bonus: average height of all  the athletes, but don't want to include any athlete more than once"
      ]
    },
    {
      "cell_type": "code",
      "metadata": {
        "id": "IcZ9Ye3pVZ__",
        "colab": {
          "base_uri": "https://localhost:8080/"
        },
        "outputId": "fc9df8c1-39ae-497f-98e0-032880c62f2b"
      },
      "source": [
        " ad['ID'].value_counts()"
      ],
      "execution_count": 14,
      "outputs": [
        {
          "output_type": "execute_result",
          "data": {
            "text/plain": [
              "119591    36\n",
              "44875     32\n",
              "76437     31\n",
              "133279    30\n",
              "21462     29\n",
              "          ..\n",
              "37600      1\n",
              "131794     1\n",
              "72401      1\n",
              "115402     1\n",
              "6147       1\n",
              "Name: ID, Length: 20336, dtype: int64"
            ]
          },
          "metadata": {},
          "execution_count": 14
        }
      ]
    },
    {
      "cell_type": "code",
      "metadata": {
        "id": "FTVMCQI4WnmO",
        "colab": {
          "base_uri": "https://localhost:8080/"
        },
        "outputId": "a3eeb928-0ec0-45bd-8102-13fc8fe84052"
      },
      "source": [
        "one_per_athlete = ad.drop_duplicates(subset = 'ID', keep = 'first')\n",
        "round(one_per_athlete['Height'].mean(), 1)\n",
        "\n"
      ],
      "execution_count": 15,
      "outputs": [
        {
          "output_type": "execute_result",
          "data": {
            "text/plain": [
              "176.3"
            ]
          },
          "metadata": {},
          "execution_count": 15
        }
      ]
    }
  ]
}