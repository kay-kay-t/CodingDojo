{
  "nbformat": 4,
  "nbformat_minor": 0,
  "metadata": {
    "colab": {
      "name": " Basic Functions I.ipynb",
      "provenance": [],
      "collapsed_sections": [],
      "authorship_tag": "ABX9TyPPPAUKgQtZphHGdDVRprds",
      "include_colab_link": true
    },
    "kernelspec": {
      "name": "python3",
      "display_name": "Python 3"
    },
    "language_info": {
      "name": "python"
    }
  },
  "cells": [
    {
      "cell_type": "markdown",
      "metadata": {
        "id": "view-in-github",
        "colab_type": "text"
      },
      "source": [
        "<a href=\"https://colab.research.google.com/github/kay-kay-t/CodingDojo/blob/main/Basic_Functions_I.ipynb\" target=\"_parent\"><img src=\"https://colab.research.google.com/assets/colab-badge.svg\" alt=\"Open In Colab\"/></a>"
      ]
    },
    {
      "cell_type": "code",
      "metadata": {
        "colab": {
          "base_uri": "https://localhost:8080/"
        },
        "id": "51q_VaRyJYwF",
        "outputId": "cddf18aa-8e2f-442d-8394-96d1d75c7a81"
      },
      "source": [
        "#1\n",
        "def a():\n",
        "    return 5\n",
        "print(a())"
      ],
      "execution_count": null,
      "outputs": [
        {
          "output_type": "stream",
          "text": [
            "5\n"
          ],
          "name": "stdout"
        }
      ]
    },
    {
      "cell_type": "code",
      "metadata": {
        "colab": {
          "base_uri": "https://localhost:8080/"
        },
        "id": "8WOpilE9N8Wa",
        "outputId": "41e809b6-7abb-4a2f-d267-4492bf1dc759"
      },
      "source": [
        "#2\n",
        "def a():\n",
        "    return 5\n",
        "print(a()+a())"
      ],
      "execution_count": null,
      "outputs": [
        {
          "output_type": "stream",
          "text": [
            "10\n"
          ],
          "name": "stdout"
        }
      ]
    },
    {
      "cell_type": "code",
      "metadata": {
        "colab": {
          "base_uri": "https://localhost:8080/"
        },
        "id": "qB8a9vy0OACK",
        "outputId": "141563c6-99f4-4458-e974-215d831c70b8"
      },
      "source": [
        "#3\n",
        "def a():\n",
        "    return 5\n",
        "    return 10\n",
        "print(a())"
      ],
      "execution_count": null,
      "outputs": [
        {
          "output_type": "stream",
          "text": [
            "5\n"
          ],
          "name": "stdout"
        }
      ]
    },
    {
      "cell_type": "code",
      "metadata": {
        "colab": {
          "base_uri": "https://localhost:8080/"
        },
        "id": "dbj5XkCqODDI",
        "outputId": "40c43010-6b2f-4d26-dd45-a9761b3b4887"
      },
      "source": [
        "#4\n",
        "def a():\n",
        "    return 5\n",
        "    print(10)\n",
        "print(a())"
      ],
      "execution_count": null,
      "outputs": [
        {
          "output_type": "stream",
          "text": [
            "5\n"
          ],
          "name": "stdout"
        }
      ]
    },
    {
      "cell_type": "code",
      "metadata": {
        "colab": {
          "base_uri": "https://localhost:8080/"
        },
        "id": "Qmt69juTORg8",
        "outputId": "a79716d8-2b28-4593-fe86-f9f224ef68c7"
      },
      "source": [
        "#5\n",
        "def a():\n",
        "    print(5)\n",
        "x = a()\n",
        "print(x)"
      ],
      "execution_count": null,
      "outputs": [
        {
          "output_type": "stream",
          "text": [
            "5\n",
            "None\n"
          ],
          "name": "stdout"
        }
      ]
    },
    {
      "cell_type": "code",
      "metadata": {
        "colab": {
          "base_uri": "https://localhost:8080/",
          "height": 229
        },
        "id": "pPh-a3ktOYcj",
        "outputId": "60b217a8-dd16-4be3-b651-9a7494cc2087"
      },
      "source": [
        "#6\n",
        "def a(b,c):\n",
        "    print(b+c)\n",
        "print(a(1,2) + a(2,3))"
      ],
      "execution_count": null,
      "outputs": [
        {
          "output_type": "stream",
          "text": [
            "3\n",
            "5\n"
          ],
          "name": "stdout"
        },
        {
          "output_type": "error",
          "ename": "TypeError",
          "evalue": "ignored",
          "traceback": [
            "\u001b[0;31m---------------------------------------------------------------------------\u001b[0m",
            "\u001b[0;31mTypeError\u001b[0m                                 Traceback (most recent call last)",
            "\u001b[0;32m<ipython-input-6-c5f8fce73963>\u001b[0m in \u001b[0;36m<module>\u001b[0;34m()\u001b[0m\n\u001b[1;32m      2\u001b[0m \u001b[0;32mdef\u001b[0m \u001b[0ma\u001b[0m\u001b[0;34m(\u001b[0m\u001b[0mb\u001b[0m\u001b[0;34m,\u001b[0m\u001b[0mc\u001b[0m\u001b[0;34m)\u001b[0m\u001b[0;34m:\u001b[0m\u001b[0;34m\u001b[0m\u001b[0;34m\u001b[0m\u001b[0m\n\u001b[1;32m      3\u001b[0m     \u001b[0mprint\u001b[0m\u001b[0;34m(\u001b[0m\u001b[0mb\u001b[0m\u001b[0;34m+\u001b[0m\u001b[0mc\u001b[0m\u001b[0;34m)\u001b[0m\u001b[0;34m\u001b[0m\u001b[0;34m\u001b[0m\u001b[0m\n\u001b[0;32m----> 4\u001b[0;31m \u001b[0mprint\u001b[0m\u001b[0;34m(\u001b[0m\u001b[0ma\u001b[0m\u001b[0;34m(\u001b[0m\u001b[0;36m1\u001b[0m\u001b[0;34m,\u001b[0m\u001b[0;36m2\u001b[0m\u001b[0;34m)\u001b[0m \u001b[0;34m+\u001b[0m \u001b[0ma\u001b[0m\u001b[0;34m(\u001b[0m\u001b[0;36m2\u001b[0m\u001b[0;34m,\u001b[0m\u001b[0;36m3\u001b[0m\u001b[0;34m)\u001b[0m\u001b[0;34m)\u001b[0m\u001b[0;34m\u001b[0m\u001b[0;34m\u001b[0m\u001b[0m\n\u001b[0m",
            "\u001b[0;31mTypeError\u001b[0m: unsupported operand type(s) for +: 'NoneType' and 'NoneType'"
          ]
        }
      ]
    },
    {
      "cell_type": "code",
      "metadata": {
        "colab": {
          "base_uri": "https://localhost:8080/"
        },
        "id": "C7NstWlhOeZ2",
        "outputId": "b565278c-9381-47ec-c4a3-c69d44e70ab0"
      },
      "source": [
        "#7\n",
        "def a(b,c):\n",
        "    return str(b)+str(c)\n",
        "print(a(2,5))"
      ],
      "execution_count": null,
      "outputs": [
        {
          "output_type": "stream",
          "text": [
            "25\n"
          ],
          "name": "stdout"
        }
      ]
    },
    {
      "cell_type": "code",
      "metadata": {
        "colab": {
          "base_uri": "https://localhost:8080/",
          "height": 128
        },
        "id": "CPUMda3DOhbb",
        "outputId": "ff48ec6d-90fd-4d8e-9ac1-49610d136a51"
      },
      "source": [
        "#8\n",
        "def a():\n",
        "    b = 100\n",
        "    print(b)\n",
        "    if b < 10:\n",
        "        return 5\n",
        "    else:\n",
        "        return 10\n",
        "    return 7\n",
        "print(a())"
      ],
      "execution_count": null,
      "outputs": [
        {
          "output_type": "error",
          "ename": "SyntaxError",
          "evalue": "ignored",
          "traceback": [
            "\u001b[0;36m  File \u001b[0;32m\"<ipython-input-8-8768de16f635>\"\u001b[0;36m, line \u001b[0;32m7\u001b[0m\n\u001b[0;31m    else:\u001b[0m\n\u001b[0m       ^\u001b[0m\n\u001b[0;31mSyntaxError\u001b[0m\u001b[0;31m:\u001b[0m invalid character in identifier\n"
          ]
        }
      ]
    },
    {
      "cell_type": "code",
      "metadata": {
        "colab": {
          "base_uri": "https://localhost:8080/"
        },
        "id": "0tyFojP6OnVU",
        "outputId": "869cf44d-c522-4a90-d850-62d8e8166c04"
      },
      "source": [
        "#9\n",
        "def a(b,c):\n",
        "    if b<c:\n",
        "        return 7\n",
        "    else:\n",
        "        return 14\n",
        "    return 3\n",
        "print(a(2,3))\n",
        "print(a(5,3))\n",
        "print(a(2,3) + a(5,3))"
      ],
      "execution_count": null,
      "outputs": [
        {
          "output_type": "stream",
          "text": [
            "7\n",
            "14\n",
            "21\n"
          ],
          "name": "stdout"
        }
      ]
    },
    {
      "cell_type": "code",
      "metadata": {
        "colab": {
          "base_uri": "https://localhost:8080/"
        },
        "id": "Dd7neSz3Ovii",
        "outputId": "a48bfbae-ce4c-496e-b2ce-8ead85f35681"
      },
      "source": [
        "#10\n",
        "def a(b,c):\n",
        "    return b+c\n",
        "    return 10\n",
        "print(a(3,5))"
      ],
      "execution_count": null,
      "outputs": [
        {
          "output_type": "stream",
          "text": [
            "8\n"
          ],
          "name": "stdout"
        }
      ]
    },
    {
      "cell_type": "code",
      "metadata": {
        "colab": {
          "base_uri": "https://localhost:8080/"
        },
        "id": "qtmFyqw9Oza_",
        "outputId": "efe891b4-63c6-4149-fe04-856d0913801c"
      },
      "source": [
        "#11\n",
        "b = 500\n",
        "print(b)\n",
        "def a():\n",
        "    b = 300\n",
        "    print(b)\n",
        "print(b)\n",
        "a()\n",
        "print(b)"
      ],
      "execution_count": null,
      "outputs": [
        {
          "output_type": "stream",
          "text": [
            "500\n",
            "500\n",
            "300\n",
            "500\n"
          ],
          "name": "stdout"
        }
      ]
    },
    {
      "cell_type": "code",
      "metadata": {
        "colab": {
          "base_uri": "https://localhost:8080/"
        },
        "id": "rn-JOVqsO2oQ",
        "outputId": "bb1f59b8-f85f-4ade-a5be-9cf3e5161879"
      },
      "source": [
        "#12\n",
        "b = 500\n",
        "print(b)\n",
        "def a():\n",
        "    b = 300\n",
        "    print(b)\n",
        "    return b\n",
        "print(b)\n",
        "a()\n",
        "print(b)"
      ],
      "execution_count": null,
      "outputs": [
        {
          "output_type": "stream",
          "text": [
            "500\n",
            "500\n",
            "300\n",
            "500\n"
          ],
          "name": "stdout"
        }
      ]
    },
    {
      "cell_type": "code",
      "metadata": {
        "colab": {
          "base_uri": "https://localhost:8080/"
        },
        "id": "gw6oRw_JO5Hr",
        "outputId": "89de2818-c763-49a0-9bfc-076d6ed3ef84"
      },
      "source": [
        "#13\n",
        "b = 500\n",
        "print(b)\n",
        "def a():\n",
        "    b = 300\n",
        "    print(b)\n",
        "    return b\n",
        "print(b)\n",
        "b=a()\n",
        "print(b)"
      ],
      "execution_count": null,
      "outputs": [
        {
          "output_type": "stream",
          "text": [
            "500\n",
            "500\n",
            "300\n",
            "300\n"
          ],
          "name": "stdout"
        }
      ]
    },
    {
      "cell_type": "code",
      "metadata": {
        "colab": {
          "base_uri": "https://localhost:8080/"
        },
        "id": "pGCB6H6qO98d",
        "outputId": "8e20b3f3-fe20-4e6f-cd1f-912cd96c7c1b"
      },
      "source": [
        "#14\n",
        "def a():\n",
        "    print(1)\n",
        "    b()\n",
        "    print(2)\n",
        "def b():\n",
        "    print(3)\n",
        "a()"
      ],
      "execution_count": null,
      "outputs": [
        {
          "output_type": "stream",
          "text": [
            "1\n",
            "3\n",
            "2\n"
          ],
          "name": "stdout"
        }
      ]
    },
    {
      "cell_type": "code",
      "metadata": {
        "colab": {
          "base_uri": "https://localhost:8080/"
        },
        "id": "05zgFucUPC_-",
        "outputId": "e68df5f9-a0da-41ad-e2e9-a33d70726ef4"
      },
      "source": [
        "#15\n",
        "def a():\n",
        "    print(1)\n",
        "    x = b()\n",
        "    print(x)\n",
        "    return 10\n",
        "def b():\n",
        "    print(3)\n",
        "    return 5\n",
        "y = a()\n",
        "print(y)"
      ],
      "execution_count": null,
      "outputs": [
        {
          "output_type": "stream",
          "text": [
            "1\n",
            "3\n",
            "5\n",
            "10\n"
          ],
          "name": "stdout"
        }
      ]
    }
  ]
}