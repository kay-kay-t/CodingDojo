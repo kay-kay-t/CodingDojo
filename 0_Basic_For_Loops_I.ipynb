{
  "nbformat": 4,
  "nbformat_minor": 0,
  "metadata": {
    "colab": {
      "name": "Basic For Loops I.ipynb",
      "provenance": [],
      "collapsed_sections": [],
      "authorship_tag": "ABX9TyPczbyHUnWHbKOR+D21C4tC",
      "include_colab_link": true
    },
    "kernelspec": {
      "name": "python3",
      "display_name": "Python 3"
    },
    "language_info": {
      "name": "python"
    }
  },
  "cells": [
    {
      "cell_type": "markdown",
      "metadata": {
        "id": "view-in-github",
        "colab_type": "text"
      },
      "source": [
        "<a href=\"https://colab.research.google.com/github/kay-kay-t/CodingDojo/blob/main/Basic_For_Loops_I.ipynb\" target=\"_parent\"><img src=\"https://colab.research.google.com/assets/colab-badge.svg\" alt=\"Open In Colab\"/></a>"
      ]
    },
    {
      "cell_type": "code",
      "metadata": {
        "id": "VcoxasdhH_2Y"
      },
      "source": [
        "# 1. Basic\n",
        "for i in range(151):\n",
        "  print(i)"
      ],
      "execution_count": null,
      "outputs": []
    },
    {
      "cell_type": "code",
      "metadata": {
        "id": "apaGWbvgIYpU"
      },
      "source": [
        "# 2. Multiples of Five\n",
        "for i in range(5,1005,5):\n",
        "  print(i)"
      ],
      "execution_count": null,
      "outputs": []
    },
    {
      "cell_type": "code",
      "metadata": {
        "id": "TOoBprKsIWER"
      },
      "source": [
        "# 3. Counting, the Dojo Way\n",
        "for i in range(1,101):\n",
        "  if i % 10 == 0:\n",
        "    print(\"Coding Dojo\")\n",
        "  elif i % 5 == 0:\n",
        "    print(\"Coding\") \n",
        "  else:\n",
        "    print(i)"
      ],
      "execution_count": null,
      "outputs": []
    },
    {
      "cell_type": "code",
      "metadata": {
        "colab": {
          "base_uri": "https://localhost:8080/"
        },
        "id": "uLZnioMCzJZr",
        "outputId": "633def64-d4f4-4a33-94e0-64c9d4d8e4cb"
      },
      "source": [
        "# 4. Whoa. That Sucker's Huge\n",
        "sum = 0\n",
        "for i in range(500001):\n",
        "  if i % 2 != 0:\n",
        "    sum = sum + i\n",
        "print(sum)"
      ],
      "execution_count": null,
      "outputs": [
        {
          "output_type": "stream",
          "text": [
            "62500000000\n"
          ],
          "name": "stdout"
        }
      ]
    },
    {
      "cell_type": "code",
      "metadata": {
        "id": "MI4LtJiY1lxB"
      },
      "source": [
        "# 5. Countdown by Fours\n",
        "for i in range(2018, 0, -4):\n",
        "  print(i)"
      ],
      "execution_count": null,
      "outputs": []
    },
    {
      "cell_type": "code",
      "metadata": {
        "colab": {
          "base_uri": "https://localhost:8080/"
        },
        "id": "6w8Bgr_H2oD8",
        "outputId": "9332d71c-94ae-42d2-a263-fb71132e2e0c"
      },
      "source": [
        "# 6. Flexible Counter \n",
        "lowNum = 3\n",
        "highNum = 15\n",
        "mult = 2\n",
        "for i in range(lowNum, highNum+1):\n",
        "  if i % mult == 0:\n",
        "    print(i) "
      ],
      "execution_count": null,
      "outputs": [
        {
          "output_type": "stream",
          "text": [
            "4\n",
            "6\n",
            "8\n",
            "10\n",
            "12\n",
            "14\n"
          ],
          "name": "stdout"
        }
      ]
    }
  ]
}
