{
  "nbformat": 4,
  "nbformat_minor": 0,
  "metadata": {
    "colab": {
      "name": "01_Colab_Setup. .ipynb",
      "provenance": [],
      "collapsed_sections": [],
      "authorship_tag": "ABX9TyPpdiSj4SgGNzVtYm1jGBo7",
      "include_colab_link": true
    },
    "kernelspec": {
      "name": "python3",
      "display_name": "Python 3"
    },
    "language_info": {
      "name": "python"
    }
  },
  "cells": [
    {
      "cell_type": "markdown",
      "metadata": {
        "id": "view-in-github",
        "colab_type": "text"
      },
      "source": [
        "<a href=\"https://colab.research.google.com/github/kay-kay-t/CodingDojo/blob/main/01_Colab_Setup_.ipynb\" target=\"_parent\"><img src=\"https://colab.research.google.com/assets/colab-badge.svg\" alt=\"Open In Colab\"/></a>"
      ]
    },
    {
      "cell_type": "markdown",
      "metadata": {
        "id": "kKOL6oVH4Sp9"
      },
      "source": [
        "1)How much would the monthly payment be for a 30 year mortgage (30 * 12 = 360 month term) with a 400,000 dollar principal and a 3% APR (interest rate with fees included)? "
      ]
    },
    {
      "cell_type": "code",
      "metadata": {
        "colab": {
          "base_uri": "https://localhost:8080/"
        },
        "id": "CLJiqlJHUQoa",
        "outputId": "3a7378a2-2666-46af-e599-5de5eb16ed85"
      },
      "source": [
        "P = 400000\n",
        "r = (3 / 100) / 12\n",
        "n = 360\n",
        "\n",
        "P * (r * ((1 + r)**n) / ((1 + r)**n - 1))"
      ],
      "execution_count": 16,
      "outputs": [
        {
          "output_type": "execute_result",
          "data": {
            "text/plain": [
              "1686.4161349178237"
            ]
          },
          "metadata": {},
          "execution_count": 16
        }
      ]
    },
    {
      "cell_type": "markdown",
      "metadata": {
        "id": "HoLKWwYK4XCe"
      },
      "source": [
        "2) How much is the monthly payment if the interest rate is 6%? (use the same term length and principle)"
      ]
    },
    {
      "cell_type": "code",
      "metadata": {
        "colab": {
          "base_uri": "https://localhost:8080/"
        },
        "id": "JorOMxVC4Oce",
        "outputId": "8b61051a-e552-4a2b-9afa-3bdfff1e1080"
      },
      "source": [
        "P = 400000\n",
        "r = (6 / 100) / 12\n",
        "n = 360\n",
        "\n",
        "P * (r * ((1 + r)**n) / ((1 + r)**n - 1))"
      ],
      "execution_count": 17,
      "outputs": [
        {
          "output_type": "execute_result",
          "data": {
            "text/plain": [
              "2398.2021006110276"
            ]
          },
          "metadata": {},
          "execution_count": 17
        }
      ]
    }
  ]
}