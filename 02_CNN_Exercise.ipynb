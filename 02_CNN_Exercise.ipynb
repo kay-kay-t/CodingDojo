{
  "nbformat": 4,
  "nbformat_minor": 0,
  "metadata": {
    "colab": {
      "name": "02_CNN_Exercise.ipynb",
      "provenance": [],
      "mount_file_id": "1oOYQIGKUDrWOkcep4ZYFLRwqMLAjdVtm",
      "authorship_tag": "ABX9TyN0M3jzcap+WCOlIRbN3YAM",
      "include_colab_link": true
    },
    "kernelspec": {
      "name": "python3",
      "display_name": "Python 3"
    },
    "language_info": {
      "name": "python"
    }
  },
  "cells": [
    {
      "cell_type": "markdown",
      "metadata": {
        "id": "view-in-github",
        "colab_type": "text"
      },
      "source": [
        "<a href=\"https://colab.research.google.com/github/kay-kay-t/CodingDojo/blob/main/02_CNN_Exercise.ipynb\" target=\"_parent\"><img src=\"https://colab.research.google.com/assets/colab-badge.svg\" alt=\"Open In Colab\"/></a>"
      ]
    },
    {
      "cell_type": "markdown",
      "metadata": {
        "id": "Ll5kp4TklHFs"
      },
      "source": [
        "0. T-shirt/top\n",
        "1. Trouser\n",
        "2. Pullover\n",
        "3. Dress\n",
        "4. Coat\n",
        "5. Sandal\n",
        "6. Shirt\n",
        "7. Sneaker\n",
        "8. Bag\n",
        "9. Ankle boot"
      ]
    },
    {
      "cell_type": "code",
      "metadata": {
        "id": "8J3gJHpxi26H"
      },
      "source": [
        "import numpy as np\n",
        "import matplotlib.pyplot as plt\n",
        "import pandas as pd\n",
        "from sklearn.model_selection import train_test_split\n",
        "from sklearn.preprocessing import StandardScaler\n",
        "from tensorflow.keras.models import Sequential\n",
        "from tensorflow.keras.layers import Dense, Flatten, Conv2D, MaxPooling2D\n",
        "from tensorflow.keras.utils import to_categorical"
      ],
      "execution_count": null,
      "outputs": []
    },
    {
      "cell_type": "code",
      "metadata": {
        "id": "Ecj8xQNRkUMA"
      },
      "source": [
        "# Loading data\n",
        "train = pd.read_csv('/content/drive/MyDrive/Data/fashion-mnist_train.csv')\n",
        "preds = pd.read_csv('/content/drive/MyDrive/Data/fashion-mnist_train.csv')"
      ],
      "execution_count": null,
      "outputs": []
    },
    {
      "cell_type": "code",
      "metadata": {
        "colab": {
          "base_uri": "https://localhost:8080/",
          "height": 252
        },
        "id": "dvg8v-_pko2d",
        "outputId": "e1efa385-78e9-444f-afc3-ee9fa7b4b801"
      },
      "source": [
        "train.head()"
      ],
      "execution_count": null,
      "outputs": [
        {
          "output_type": "execute_result",
          "data": {
            "text/html": [
              "<div>\n",
              "<style scoped>\n",
              "    .dataframe tbody tr th:only-of-type {\n",
              "        vertical-align: middle;\n",
              "    }\n",
              "\n",
              "    .dataframe tbody tr th {\n",
              "        vertical-align: top;\n",
              "    }\n",
              "\n",
              "    .dataframe thead th {\n",
              "        text-align: right;\n",
              "    }\n",
              "</style>\n",
              "<table border=\"1\" class=\"dataframe\">\n",
              "  <thead>\n",
              "    <tr style=\"text-align: right;\">\n",
              "      <th></th>\n",
              "      <th>label</th>\n",
              "      <th>pixel1</th>\n",
              "      <th>pixel2</th>\n",
              "      <th>pixel3</th>\n",
              "      <th>pixel4</th>\n",
              "      <th>pixel5</th>\n",
              "      <th>pixel6</th>\n",
              "      <th>pixel7</th>\n",
              "      <th>pixel8</th>\n",
              "      <th>pixel9</th>\n",
              "      <th>pixel10</th>\n",
              "      <th>pixel11</th>\n",
              "      <th>pixel12</th>\n",
              "      <th>pixel13</th>\n",
              "      <th>pixel14</th>\n",
              "      <th>pixel15</th>\n",
              "      <th>pixel16</th>\n",
              "      <th>pixel17</th>\n",
              "      <th>pixel18</th>\n",
              "      <th>pixel19</th>\n",
              "      <th>pixel20</th>\n",
              "      <th>pixel21</th>\n",
              "      <th>pixel22</th>\n",
              "      <th>pixel23</th>\n",
              "      <th>pixel24</th>\n",
              "      <th>pixel25</th>\n",
              "      <th>pixel26</th>\n",
              "      <th>pixel27</th>\n",
              "      <th>pixel28</th>\n",
              "      <th>pixel29</th>\n",
              "      <th>pixel30</th>\n",
              "      <th>pixel31</th>\n",
              "      <th>pixel32</th>\n",
              "      <th>pixel33</th>\n",
              "      <th>pixel34</th>\n",
              "      <th>pixel35</th>\n",
              "      <th>pixel36</th>\n",
              "      <th>pixel37</th>\n",
              "      <th>pixel38</th>\n",
              "      <th>pixel39</th>\n",
              "      <th>...</th>\n",
              "      <th>pixel745</th>\n",
              "      <th>pixel746</th>\n",
              "      <th>pixel747</th>\n",
              "      <th>pixel748</th>\n",
              "      <th>pixel749</th>\n",
              "      <th>pixel750</th>\n",
              "      <th>pixel751</th>\n",
              "      <th>pixel752</th>\n",
              "      <th>pixel753</th>\n",
              "      <th>pixel754</th>\n",
              "      <th>pixel755</th>\n",
              "      <th>pixel756</th>\n",
              "      <th>pixel757</th>\n",
              "      <th>pixel758</th>\n",
              "      <th>pixel759</th>\n",
              "      <th>pixel760</th>\n",
              "      <th>pixel761</th>\n",
              "      <th>pixel762</th>\n",
              "      <th>pixel763</th>\n",
              "      <th>pixel764</th>\n",
              "      <th>pixel765</th>\n",
              "      <th>pixel766</th>\n",
              "      <th>pixel767</th>\n",
              "      <th>pixel768</th>\n",
              "      <th>pixel769</th>\n",
              "      <th>pixel770</th>\n",
              "      <th>pixel771</th>\n",
              "      <th>pixel772</th>\n",
              "      <th>pixel773</th>\n",
              "      <th>pixel774</th>\n",
              "      <th>pixel775</th>\n",
              "      <th>pixel776</th>\n",
              "      <th>pixel777</th>\n",
              "      <th>pixel778</th>\n",
              "      <th>pixel779</th>\n",
              "      <th>pixel780</th>\n",
              "      <th>pixel781</th>\n",
              "      <th>pixel782</th>\n",
              "      <th>pixel783</th>\n",
              "      <th>pixel784</th>\n",
              "    </tr>\n",
              "  </thead>\n",
              "  <tbody>\n",
              "    <tr>\n",
              "      <th>0</th>\n",
              "      <td>2</td>\n",
              "      <td>0</td>\n",
              "      <td>0</td>\n",
              "      <td>0</td>\n",
              "      <td>0</td>\n",
              "      <td>0</td>\n",
              "      <td>0</td>\n",
              "      <td>0</td>\n",
              "      <td>0</td>\n",
              "      <td>0</td>\n",
              "      <td>0</td>\n",
              "      <td>0</td>\n",
              "      <td>0</td>\n",
              "      <td>0</td>\n",
              "      <td>0</td>\n",
              "      <td>0</td>\n",
              "      <td>0</td>\n",
              "      <td>0</td>\n",
              "      <td>0</td>\n",
              "      <td>0</td>\n",
              "      <td>0</td>\n",
              "      <td>0</td>\n",
              "      <td>0</td>\n",
              "      <td>0</td>\n",
              "      <td>0</td>\n",
              "      <td>0</td>\n",
              "      <td>0</td>\n",
              "      <td>0</td>\n",
              "      <td>0</td>\n",
              "      <td>0</td>\n",
              "      <td>0</td>\n",
              "      <td>0</td>\n",
              "      <td>0</td>\n",
              "      <td>0</td>\n",
              "      <td>0</td>\n",
              "      <td>0</td>\n",
              "      <td>0</td>\n",
              "      <td>0</td>\n",
              "      <td>0</td>\n",
              "      <td>0</td>\n",
              "      <td>...</td>\n",
              "      <td>0</td>\n",
              "      <td>0</td>\n",
              "      <td>0</td>\n",
              "      <td>0</td>\n",
              "      <td>0</td>\n",
              "      <td>0</td>\n",
              "      <td>0</td>\n",
              "      <td>0</td>\n",
              "      <td>0</td>\n",
              "      <td>0</td>\n",
              "      <td>0</td>\n",
              "      <td>0</td>\n",
              "      <td>0</td>\n",
              "      <td>0</td>\n",
              "      <td>0</td>\n",
              "      <td>0</td>\n",
              "      <td>0</td>\n",
              "      <td>0</td>\n",
              "      <td>0</td>\n",
              "      <td>0</td>\n",
              "      <td>0</td>\n",
              "      <td>0</td>\n",
              "      <td>0</td>\n",
              "      <td>0</td>\n",
              "      <td>0</td>\n",
              "      <td>0</td>\n",
              "      <td>0</td>\n",
              "      <td>0</td>\n",
              "      <td>0</td>\n",
              "      <td>0</td>\n",
              "      <td>0</td>\n",
              "      <td>0</td>\n",
              "      <td>0</td>\n",
              "      <td>0</td>\n",
              "      <td>0</td>\n",
              "      <td>0</td>\n",
              "      <td>0</td>\n",
              "      <td>0</td>\n",
              "      <td>0</td>\n",
              "      <td>0</td>\n",
              "    </tr>\n",
              "    <tr>\n",
              "      <th>1</th>\n",
              "      <td>9</td>\n",
              "      <td>0</td>\n",
              "      <td>0</td>\n",
              "      <td>0</td>\n",
              "      <td>0</td>\n",
              "      <td>0</td>\n",
              "      <td>0</td>\n",
              "      <td>0</td>\n",
              "      <td>0</td>\n",
              "      <td>0</td>\n",
              "      <td>0</td>\n",
              "      <td>0</td>\n",
              "      <td>0</td>\n",
              "      <td>0</td>\n",
              "      <td>0</td>\n",
              "      <td>0</td>\n",
              "      <td>0</td>\n",
              "      <td>0</td>\n",
              "      <td>0</td>\n",
              "      <td>0</td>\n",
              "      <td>0</td>\n",
              "      <td>0</td>\n",
              "      <td>0</td>\n",
              "      <td>0</td>\n",
              "      <td>0</td>\n",
              "      <td>0</td>\n",
              "      <td>0</td>\n",
              "      <td>0</td>\n",
              "      <td>0</td>\n",
              "      <td>0</td>\n",
              "      <td>0</td>\n",
              "      <td>0</td>\n",
              "      <td>0</td>\n",
              "      <td>0</td>\n",
              "      <td>0</td>\n",
              "      <td>0</td>\n",
              "      <td>0</td>\n",
              "      <td>0</td>\n",
              "      <td>0</td>\n",
              "      <td>0</td>\n",
              "      <td>...</td>\n",
              "      <td>0</td>\n",
              "      <td>0</td>\n",
              "      <td>0</td>\n",
              "      <td>0</td>\n",
              "      <td>0</td>\n",
              "      <td>0</td>\n",
              "      <td>0</td>\n",
              "      <td>0</td>\n",
              "      <td>0</td>\n",
              "      <td>0</td>\n",
              "      <td>0</td>\n",
              "      <td>0</td>\n",
              "      <td>0</td>\n",
              "      <td>0</td>\n",
              "      <td>0</td>\n",
              "      <td>0</td>\n",
              "      <td>0</td>\n",
              "      <td>0</td>\n",
              "      <td>0</td>\n",
              "      <td>0</td>\n",
              "      <td>0</td>\n",
              "      <td>0</td>\n",
              "      <td>0</td>\n",
              "      <td>0</td>\n",
              "      <td>0</td>\n",
              "      <td>0</td>\n",
              "      <td>0</td>\n",
              "      <td>0</td>\n",
              "      <td>0</td>\n",
              "      <td>0</td>\n",
              "      <td>0</td>\n",
              "      <td>0</td>\n",
              "      <td>0</td>\n",
              "      <td>0</td>\n",
              "      <td>0</td>\n",
              "      <td>0</td>\n",
              "      <td>0</td>\n",
              "      <td>0</td>\n",
              "      <td>0</td>\n",
              "      <td>0</td>\n",
              "    </tr>\n",
              "    <tr>\n",
              "      <th>2</th>\n",
              "      <td>6</td>\n",
              "      <td>0</td>\n",
              "      <td>0</td>\n",
              "      <td>0</td>\n",
              "      <td>0</td>\n",
              "      <td>0</td>\n",
              "      <td>0</td>\n",
              "      <td>0</td>\n",
              "      <td>5</td>\n",
              "      <td>0</td>\n",
              "      <td>0</td>\n",
              "      <td>0</td>\n",
              "      <td>105</td>\n",
              "      <td>92</td>\n",
              "      <td>101</td>\n",
              "      <td>107</td>\n",
              "      <td>100</td>\n",
              "      <td>132</td>\n",
              "      <td>0</td>\n",
              "      <td>0</td>\n",
              "      <td>2</td>\n",
              "      <td>4</td>\n",
              "      <td>0</td>\n",
              "      <td>1</td>\n",
              "      <td>0</td>\n",
              "      <td>0</td>\n",
              "      <td>0</td>\n",
              "      <td>0</td>\n",
              "      <td>0</td>\n",
              "      <td>0</td>\n",
              "      <td>0</td>\n",
              "      <td>0</td>\n",
              "      <td>0</td>\n",
              "      <td>0</td>\n",
              "      <td>0</td>\n",
              "      <td>0</td>\n",
              "      <td>0</td>\n",
              "      <td>0</td>\n",
              "      <td>0</td>\n",
              "      <td>150</td>\n",
              "      <td>...</td>\n",
              "      <td>211</td>\n",
              "      <td>220</td>\n",
              "      <td>214</td>\n",
              "      <td>74</td>\n",
              "      <td>0</td>\n",
              "      <td>255</td>\n",
              "      <td>222</td>\n",
              "      <td>128</td>\n",
              "      <td>0</td>\n",
              "      <td>0</td>\n",
              "      <td>0</td>\n",
              "      <td>0</td>\n",
              "      <td>0</td>\n",
              "      <td>0</td>\n",
              "      <td>0</td>\n",
              "      <td>0</td>\n",
              "      <td>0</td>\n",
              "      <td>44</td>\n",
              "      <td>12</td>\n",
              "      <td>0</td>\n",
              "      <td>0</td>\n",
              "      <td>40</td>\n",
              "      <td>134</td>\n",
              "      <td>162</td>\n",
              "      <td>191</td>\n",
              "      <td>214</td>\n",
              "      <td>163</td>\n",
              "      <td>146</td>\n",
              "      <td>165</td>\n",
              "      <td>79</td>\n",
              "      <td>0</td>\n",
              "      <td>0</td>\n",
              "      <td>0</td>\n",
              "      <td>30</td>\n",
              "      <td>43</td>\n",
              "      <td>0</td>\n",
              "      <td>0</td>\n",
              "      <td>0</td>\n",
              "      <td>0</td>\n",
              "      <td>0</td>\n",
              "    </tr>\n",
              "    <tr>\n",
              "      <th>3</th>\n",
              "      <td>0</td>\n",
              "      <td>0</td>\n",
              "      <td>0</td>\n",
              "      <td>0</td>\n",
              "      <td>1</td>\n",
              "      <td>2</td>\n",
              "      <td>0</td>\n",
              "      <td>0</td>\n",
              "      <td>0</td>\n",
              "      <td>0</td>\n",
              "      <td>0</td>\n",
              "      <td>114</td>\n",
              "      <td>183</td>\n",
              "      <td>112</td>\n",
              "      <td>55</td>\n",
              "      <td>23</td>\n",
              "      <td>72</td>\n",
              "      <td>102</td>\n",
              "      <td>165</td>\n",
              "      <td>160</td>\n",
              "      <td>28</td>\n",
              "      <td>0</td>\n",
              "      <td>0</td>\n",
              "      <td>0</td>\n",
              "      <td>1</td>\n",
              "      <td>0</td>\n",
              "      <td>0</td>\n",
              "      <td>0</td>\n",
              "      <td>0</td>\n",
              "      <td>0</td>\n",
              "      <td>0</td>\n",
              "      <td>0</td>\n",
              "      <td>0</td>\n",
              "      <td>1</td>\n",
              "      <td>0</td>\n",
              "      <td>0</td>\n",
              "      <td>24</td>\n",
              "      <td>188</td>\n",
              "      <td>163</td>\n",
              "      <td>93</td>\n",
              "      <td>...</td>\n",
              "      <td>171</td>\n",
              "      <td>249</td>\n",
              "      <td>207</td>\n",
              "      <td>197</td>\n",
              "      <td>202</td>\n",
              "      <td>45</td>\n",
              "      <td>0</td>\n",
              "      <td>3</td>\n",
              "      <td>0</td>\n",
              "      <td>0</td>\n",
              "      <td>0</td>\n",
              "      <td>0</td>\n",
              "      <td>0</td>\n",
              "      <td>0</td>\n",
              "      <td>0</td>\n",
              "      <td>0</td>\n",
              "      <td>0</td>\n",
              "      <td>0</td>\n",
              "      <td>1</td>\n",
              "      <td>0</td>\n",
              "      <td>0</td>\n",
              "      <td>0</td>\n",
              "      <td>22</td>\n",
              "      <td>21</td>\n",
              "      <td>25</td>\n",
              "      <td>69</td>\n",
              "      <td>52</td>\n",
              "      <td>45</td>\n",
              "      <td>74</td>\n",
              "      <td>39</td>\n",
              "      <td>3</td>\n",
              "      <td>0</td>\n",
              "      <td>0</td>\n",
              "      <td>0</td>\n",
              "      <td>0</td>\n",
              "      <td>1</td>\n",
              "      <td>0</td>\n",
              "      <td>0</td>\n",
              "      <td>0</td>\n",
              "      <td>0</td>\n",
              "    </tr>\n",
              "    <tr>\n",
              "      <th>4</th>\n",
              "      <td>3</td>\n",
              "      <td>0</td>\n",
              "      <td>0</td>\n",
              "      <td>0</td>\n",
              "      <td>0</td>\n",
              "      <td>0</td>\n",
              "      <td>0</td>\n",
              "      <td>0</td>\n",
              "      <td>0</td>\n",
              "      <td>0</td>\n",
              "      <td>0</td>\n",
              "      <td>0</td>\n",
              "      <td>0</td>\n",
              "      <td>46</td>\n",
              "      <td>0</td>\n",
              "      <td>21</td>\n",
              "      <td>68</td>\n",
              "      <td>0</td>\n",
              "      <td>0</td>\n",
              "      <td>0</td>\n",
              "      <td>0</td>\n",
              "      <td>0</td>\n",
              "      <td>0</td>\n",
              "      <td>0</td>\n",
              "      <td>0</td>\n",
              "      <td>0</td>\n",
              "      <td>0</td>\n",
              "      <td>0</td>\n",
              "      <td>0</td>\n",
              "      <td>0</td>\n",
              "      <td>0</td>\n",
              "      <td>0</td>\n",
              "      <td>0</td>\n",
              "      <td>0</td>\n",
              "      <td>0</td>\n",
              "      <td>0</td>\n",
              "      <td>0</td>\n",
              "      <td>25</td>\n",
              "      <td>187</td>\n",
              "      <td>189</td>\n",
              "      <td>...</td>\n",
              "      <td>230</td>\n",
              "      <td>237</td>\n",
              "      <td>229</td>\n",
              "      <td>0</td>\n",
              "      <td>0</td>\n",
              "      <td>1</td>\n",
              "      <td>0</td>\n",
              "      <td>0</td>\n",
              "      <td>0</td>\n",
              "      <td>0</td>\n",
              "      <td>0</td>\n",
              "      <td>0</td>\n",
              "      <td>0</td>\n",
              "      <td>0</td>\n",
              "      <td>0</td>\n",
              "      <td>0</td>\n",
              "      <td>0</td>\n",
              "      <td>0</td>\n",
              "      <td>0</td>\n",
              "      <td>0</td>\n",
              "      <td>0</td>\n",
              "      <td>68</td>\n",
              "      <td>116</td>\n",
              "      <td>112</td>\n",
              "      <td>136</td>\n",
              "      <td>147</td>\n",
              "      <td>144</td>\n",
              "      <td>121</td>\n",
              "      <td>102</td>\n",
              "      <td>63</td>\n",
              "      <td>0</td>\n",
              "      <td>0</td>\n",
              "      <td>0</td>\n",
              "      <td>0</td>\n",
              "      <td>0</td>\n",
              "      <td>0</td>\n",
              "      <td>0</td>\n",
              "      <td>0</td>\n",
              "      <td>0</td>\n",
              "      <td>0</td>\n",
              "    </tr>\n",
              "  </tbody>\n",
              "</table>\n",
              "<p>5 rows × 785 columns</p>\n",
              "</div>"
            ],
            "text/plain": [
              "   label  pixel1  pixel2  pixel3  ...  pixel781  pixel782  pixel783  pixel784\n",
              "0      2       0       0       0  ...         0         0         0         0\n",
              "1      9       0       0       0  ...         0         0         0         0\n",
              "2      6       0       0       0  ...         0         0         0         0\n",
              "3      0       0       0       0  ...         0         0         0         0\n",
              "4      3       0       0       0  ...         0         0         0         0\n",
              "\n",
              "[5 rows x 785 columns]"
            ]
          },
          "metadata": {},
          "execution_count": 184
        }
      ]
    },
    {
      "cell_type": "code",
      "metadata": {
        "colab": {
          "base_uri": "https://localhost:8080/"
        },
        "id": "wjOyD12ik0XQ",
        "outputId": "0d25768e-ff59-483b-a781-2554ae87aa85"
      },
      "source": [
        "train.info()"
      ],
      "execution_count": null,
      "outputs": [
        {
          "output_type": "stream",
          "name": "stdout",
          "text": [
            "<class 'pandas.core.frame.DataFrame'>\n",
            "RangeIndex: 60000 entries, 0 to 59999\n",
            "Columns: 785 entries, label to pixel784\n",
            "dtypes: int64(785)\n",
            "memory usage: 359.3 MB\n"
          ]
        }
      ]
    },
    {
      "cell_type": "code",
      "metadata": {
        "colab": {
          "base_uri": "https://localhost:8080/"
        },
        "id": "Zk8TBdO7uCCq",
        "outputId": "2c37abb3-20f7-4037-9e8e-55a03b9f19e2"
      },
      "source": [
        "# Checking for missing values\n",
        "train.isnull().sum()"
      ],
      "execution_count": null,
      "outputs": [
        {
          "output_type": "execute_result",
          "data": {
            "text/plain": [
              "label       0\n",
              "pixel1      0\n",
              "pixel2      0\n",
              "pixel3      0\n",
              "pixel4      0\n",
              "           ..\n",
              "pixel780    0\n",
              "pixel781    0\n",
              "pixel782    0\n",
              "pixel783    0\n",
              "pixel784    0\n",
              "Length: 785, dtype: int64"
            ]
          },
          "metadata": {},
          "execution_count": 186
        }
      ]
    },
    {
      "cell_type": "code",
      "metadata": {
        "id": "MVaNizt0lUt6"
      },
      "source": [
        "# Setting target and features and scaling data between 0 and 1\n",
        "X_train = train.drop(columns = 'label')/255\n",
        "y_train = train['label']"
      ],
      "execution_count": null,
      "outputs": []
    },
    {
      "cell_type": "code",
      "metadata": {
        "id": "0cUQjMXOmiUQ"
      },
      "source": [
        "# # Scale data between 0 and 1\n",
        "# X_train_sc = X_train / 255\n",
        "# X_test_sc = X_test / 255"
      ],
      "execution_count": null,
      "outputs": []
    },
    {
      "cell_type": "code",
      "metadata": {
        "id": "BIuLH09Hk_Cr"
      },
      "source": [
        "# Test train split\n",
        "X_train, X_test, y_train, y_test = train_test_split(X_train, y_train, test_size = 0.2, random_state = 12345)"
      ],
      "execution_count": null,
      "outputs": []
    },
    {
      "cell_type": "code",
      "metadata": {
        "colab": {
          "base_uri": "https://localhost:8080/"
        },
        "id": "aLTXf5S7nnUj",
        "outputId": "fbd8c6a1-fb3b-4bb0-c307-9aad6a6ab5c2"
      },
      "source": [
        "X_train.shape"
      ],
      "execution_count": null,
      "outputs": [
        {
          "output_type": "execute_result",
          "data": {
            "text/plain": [
              "(48000, 784)"
            ]
          },
          "metadata": {},
          "execution_count": 190
        }
      ]
    },
    {
      "cell_type": "code",
      "metadata": {
        "colab": {
          "base_uri": "https://localhost:8080/",
          "height": 311
        },
        "id": "HLWz5aJRoIrd",
        "outputId": "534b94de-c3ba-4367-d507-3445067aa1da"
      },
      "source": [
        "# Checking how some of the images look like\n",
        "# Useful: https://matplotlib.org/devdocs/gallery/subplots_axes_and_figures/subplots_demo.html\n",
        "fig, axs = plt.subplots(2, 3)\n",
        "fig.suptitle('Data images examples')\n",
        "axs[0, 0].imshow(np.array(X_train.loc[0, :]).reshape(28, 28))\n",
        "axs[0, 1].imshow(np.array(X_train.loc[1, :]).reshape(28, 28))\n",
        "axs[0, 2].imshow(np.array(X_train.loc[6, :]).reshape(28, 28))\n",
        "axs[1, 0].imshow(np.array(X_train.loc[10, :]).reshape(28, 28))\n",
        "axs[1, 1].imshow(np.array(X_train.loc[20, :]).reshape(28, 28))\n",
        "axs[1, 2].imshow(np.array(X_train.loc[30, :]).reshape(28, 28))\n"
      ],
      "execution_count": null,
      "outputs": [
        {
          "output_type": "execute_result",
          "data": {
            "text/plain": [
              "<matplotlib.image.AxesImage at 0x7fd404e5f290>"
            ]
          },
          "metadata": {},
          "execution_count": 191
        },
        {
          "output_type": "display_data",
          "data": {
            "image/png": "[encoded data removed]",
            "text/plain": [
              "<Figure size 432x288 with 6 Axes>"
            ]
          },
          "metadata": {
            "needs_background": "light"
          }
        }
      ]
    },
    {
      "cell_type": "code",
      "metadata": {
        "id": "mYn-qdhYuquX"
      },
      "source": [
        "# Reshaping data\n",
        "# Since this data's pixels have one color I'm reshaping it to be 28x28x1\n",
        "X_train = np.array(X_train).reshape(X_train.shape[0], 28, 28, 1)\n",
        "X_test = np.array(X_test).reshape(X_test.shape[0], 28, 28, 1)"
      ],
      "execution_count": null,
      "outputs": []
    },
    {
      "cell_type": "code",
      "metadata": {
        "id": "pP0-uyz31gjP"
      },
      "source": [
        "# Converting target itno categorical\n",
        "y_train = to_categorical(y_train, num_classes = 10)\n",
        "y_test = to_categorical(y_test, num_classes = 10)"
      ],
      "execution_count": null,
      "outputs": []
    },
    {
      "cell_type": "code",
      "metadata": {
        "colab": {
          "base_uri": "https://localhost:8080/"
        },
        "id": "MJySOqcB18kW",
        "outputId": "bf7e694c-6036-41d8-9a4a-309c1afecd77"
      },
      "source": [
        "# Step 1: Define our network structure\n",
        "# Save the input shape\n",
        "input_shape = X_train.shape[1:4]\n",
        "input_shape"
      ],
      "execution_count": null,
      "outputs": [
        {
          "output_type": "execute_result",
          "data": {
            "text/plain": [
              "(28, 28, 1)"
            ]
          },
          "metadata": {},
          "execution_count": 194
        }
      ]
    },
    {
      "cell_type": "code",
      "metadata": {
        "id": "v4PLsM0j2Cu5"
      },
      "source": [
        "# Sequential model\n",
        "model = Sequential()"
      ],
      "execution_count": null,
      "outputs": []
    },
    {
      "cell_type": "code",
      "metadata": {
        "id": "RFmGX3_X2TJ_"
      },
      "source": [
        "# Convolutional layer\n",
        "model.add(Conv2D(filters = 32, # How many filters you want to use\n",
        "                 kernel_size = 3, # size of each filter\n",
        "                 activation = 'relu',\n",
        "                 input_shape = input_shape)) # What is the shape of your input features (we defined this above)\n",
        "# Pooling layer\n",
        "model.add(MaxPooling2D(pool_size = 2)) # Size of pooling\n",
        "# Flattening layer\n",
        "model.add(Flatten())\n",
        "# Output layer\n",
        "model.add(Dense(10, # How many output possibilities we have\n",
        "                activation = 'softmax')) # What is activation function"
      ],
      "execution_count": null,
      "outputs": []
    },
    {
      "cell_type": "code",
      "metadata": {
        "id": "cVQKiDSK3S8_"
      },
      "source": [
        "# Step 2: Compile\n",
        "model.compile(loss = 'categorical_crossentropy', optimizer = 'adam', metrics = ['acc'])"
      ],
      "execution_count": null,
      "outputs": []
    },
    {
      "cell_type": "code",
      "metadata": {
        "colab": {
          "base_uri": "https://localhost:8080/"
        },
        "id": "QEA1urru3UjW",
        "outputId": "039b6b29-8314-4dd0-dc24-7b6f9c31c30f"
      },
      "source": [
        "# Step 3: Fit our model\n",
        "history = model.fit(X_train, y_train,\n",
        "                    validation_data = (X_test, y_test), \n",
        "                    epochs=50)"
      ],
      "execution_count": null,
      "outputs": [
        {
          "output_type": "stream",
          "name": "stdout",
          "text": [
            "Epoch 1/50\n",
            "1500/1500 [==============================] - 25s 16ms/step - loss: 0.4718 - acc: 0.8335 - val_loss: 0.3683 - val_acc: 0.8689\n",
            "Epoch 2/50\n",
            "1500/1500 [==============================] - 24s 16ms/step - loss: 0.3330 - acc: 0.8839 - val_loss: 0.3236 - val_acc: 0.8891\n",
            "Epoch 3/50\n",
            "1500/1500 [==============================] - 24s 16ms/step - loss: 0.2942 - acc: 0.8969 - val_loss: 0.2927 - val_acc: 0.8963\n",
            "Epoch 4/50\n",
            "1500/1500 [==============================] - 24s 16ms/step - loss: 0.2712 - acc: 0.9040 - val_loss: 0.2855 - val_acc: 0.8970\n",
            "Epoch 5/50\n",
            "1500/1500 [==============================] - 24s 16ms/step - loss: 0.2522 - acc: 0.9114 - val_loss: 0.2808 - val_acc: 0.9010\n",
            "Epoch 6/50\n",
            "1500/1500 [==============================] - 24s 16ms/step - loss: 0.2372 - acc: 0.9158 - val_loss: 0.2685 - val_acc: 0.9075\n",
            "Epoch 7/50\n",
            "1500/1500 [==============================] - 27s 18ms/step - loss: 0.2238 - acc: 0.9209 - val_loss: 0.2671 - val_acc: 0.9072\n",
            "Epoch 8/50\n",
            "1500/1500 [==============================] - 24s 16ms/step - loss: 0.2099 - acc: 0.9251 - val_loss: 0.2555 - val_acc: 0.9113\n",
            "Epoch 9/50\n",
            "1500/1500 [==============================] - 23s 16ms/step - loss: 0.1972 - acc: 0.9296 - val_loss: 0.2603 - val_acc: 0.9093\n",
            "Epoch 10/50\n",
            "1500/1500 [==============================] - 24s 16ms/step - loss: 0.1864 - acc: 0.9335 - val_loss: 0.2667 - val_acc: 0.9067\n",
            "Epoch 11/50\n",
            "1500/1500 [==============================] - 24s 16ms/step - loss: 0.1767 - acc: 0.9366 - val_loss: 0.2605 - val_acc: 0.9095\n",
            "Epoch 12/50\n",
            "1500/1500 [==============================] - 24s 16ms/step - loss: 0.1700 - acc: 0.9394 - val_loss: 0.2567 - val_acc: 0.9133\n",
            "Epoch 13/50\n",
            "1500/1500 [==============================] - 24s 16ms/step - loss: 0.1606 - acc: 0.9431 - val_loss: 0.2538 - val_acc: 0.9143\n",
            "Epoch 14/50\n",
            "1500/1500 [==============================] - 23s 16ms/step - loss: 0.1534 - acc: 0.9453 - val_loss: 0.2556 - val_acc: 0.9135\n",
            "Epoch 15/50\n",
            "1500/1500 [==============================] - 23s 16ms/step - loss: 0.1476 - acc: 0.9467 - val_loss: 0.2634 - val_acc: 0.9111\n",
            "Epoch 16/50\n",
            "1500/1500 [==============================] - 24s 16ms/step - loss: 0.1410 - acc: 0.9502 - val_loss: 0.2806 - val_acc: 0.9052\n",
            "Epoch 17/50\n",
            "1500/1500 [==============================] - 23s 16ms/step - loss: 0.1361 - acc: 0.9522 - val_loss: 0.2760 - val_acc: 0.9114\n",
            "Epoch 18/50\n",
            "1500/1500 [==============================] - 24s 16ms/step - loss: 0.1300 - acc: 0.9541 - val_loss: 0.2725 - val_acc: 0.9122\n",
            "Epoch 19/50\n",
            "1500/1500 [==============================] - 24s 16ms/step - loss: 0.1267 - acc: 0.9553 - val_loss: 0.2784 - val_acc: 0.9108\n",
            "Epoch 20/50\n",
            "1500/1500 [==============================] - 24s 16ms/step - loss: 0.1214 - acc: 0.9567 - val_loss: 0.2736 - val_acc: 0.9151\n",
            "Epoch 21/50\n",
            "1500/1500 [==============================] - 24s 16ms/step - loss: 0.1182 - acc: 0.9584 - val_loss: 0.2825 - val_acc: 0.9107\n",
            "Epoch 22/50\n",
            "1500/1500 [==============================] - 24s 16ms/step - loss: 0.1141 - acc: 0.9593 - val_loss: 0.2915 - val_acc: 0.9112\n",
            "Epoch 23/50\n",
            "1500/1500 [==============================] - 24s 16ms/step - loss: 0.1098 - acc: 0.9615 - val_loss: 0.2940 - val_acc: 0.9103\n",
            "Epoch 24/50\n",
            "1500/1500 [==============================] - 24s 16ms/step - loss: 0.1067 - acc: 0.9618 - val_loss: 0.2964 - val_acc: 0.9087\n",
            "Epoch 25/50\n",
            "1500/1500 [==============================] - 24s 16ms/step - loss: 0.1027 - acc: 0.9651 - val_loss: 0.2981 - val_acc: 0.9124\n",
            "Epoch 26/50\n",
            "1500/1500 [==============================] - 24s 16ms/step - loss: 0.1004 - acc: 0.9647 - val_loss: 0.3149 - val_acc: 0.9083\n",
            "Epoch 27/50\n",
            "1500/1500 [==============================] - 24s 16ms/step - loss: 0.0972 - acc: 0.9664 - val_loss: 0.3090 - val_acc: 0.9103\n",
            "Epoch 28/50\n",
            "1500/1500 [==============================] - 24s 16ms/step - loss: 0.0950 - acc: 0.9664 - val_loss: 0.3019 - val_acc: 0.9119\n",
            "Epoch 29/50\n",
            "1500/1500 [==============================] - 24s 16ms/step - loss: 0.0925 - acc: 0.9676 - val_loss: 0.3479 - val_acc: 0.8981\n",
            "Epoch 30/50\n",
            "1500/1500 [==============================] - 24s 16ms/step - loss: 0.0896 - acc: 0.9683 - val_loss: 0.3263 - val_acc: 0.9080\n",
            "Epoch 31/50\n",
            "1500/1500 [==============================] - 24s 16ms/step - loss: 0.0871 - acc: 0.9698 - val_loss: 0.3190 - val_acc: 0.9114\n",
            "Epoch 32/50\n",
            "1500/1500 [==============================] - 24s 16ms/step - loss: 0.0840 - acc: 0.9710 - val_loss: 0.3390 - val_acc: 0.9057\n",
            "Epoch 33/50\n",
            "1500/1500 [==============================] - 24s 16ms/step - loss: 0.0822 - acc: 0.9709 - val_loss: 0.3350 - val_acc: 0.9104\n",
            "Epoch 34/50\n",
            "1500/1500 [==============================] - 24s 16ms/step - loss: 0.0812 - acc: 0.9717 - val_loss: 0.3506 - val_acc: 0.9043\n",
            "Epoch 35/50\n",
            "1500/1500 [==============================] - 24s 16ms/step - loss: 0.0800 - acc: 0.9718 - val_loss: 0.3577 - val_acc: 0.9084\n",
            "Epoch 36/50\n",
            "1500/1500 [==============================] - 24s 16ms/step - loss: 0.0781 - acc: 0.9726 - val_loss: 0.3423 - val_acc: 0.9103\n",
            "Epoch 37/50\n",
            "1500/1500 [==============================] - 24s 16ms/step - loss: 0.0741 - acc: 0.9743 - val_loss: 0.3504 - val_acc: 0.9087\n",
            "Epoch 38/50\n",
            "1500/1500 [==============================] - 24s 16ms/step - loss: 0.0741 - acc: 0.9748 - val_loss: 0.3714 - val_acc: 0.9040\n",
            "Epoch 39/50\n",
            "1500/1500 [==============================] - 24s 16ms/step - loss: 0.0709 - acc: 0.9754 - val_loss: 0.3714 - val_acc: 0.9078\n",
            "Epoch 40/50\n",
            "1500/1500 [==============================] - 24s 16ms/step - loss: 0.0705 - acc: 0.9756 - val_loss: 0.3662 - val_acc: 0.9095\n",
            "Epoch 41/50\n",
            "1500/1500 [==============================] - 24s 16ms/step - loss: 0.0682 - acc: 0.9760 - val_loss: 0.3757 - val_acc: 0.9054\n",
            "Epoch 42/50\n",
            "1500/1500 [==============================] - 24s 16ms/step - loss: 0.0671 - acc: 0.9776 - val_loss: 0.3706 - val_acc: 0.9082\n",
            "Epoch 43/50\n",
            "1500/1500 [==============================] - 24s 16ms/step - loss: 0.0652 - acc: 0.9775 - val_loss: 0.4034 - val_acc: 0.9055\n",
            "Epoch 44/50\n",
            "1500/1500 [==============================] - 24s 16ms/step - loss: 0.0628 - acc: 0.9787 - val_loss: 0.3983 - val_acc: 0.9086\n",
            "Epoch 45/50\n",
            "1500/1500 [==============================] - 24s 16ms/step - loss: 0.0625 - acc: 0.9787 - val_loss: 0.3885 - val_acc: 0.9089\n",
            "Epoch 46/50\n",
            "1500/1500 [==============================] - 24s 16ms/step - loss: 0.0600 - acc: 0.9797 - val_loss: 0.3984 - val_acc: 0.9066\n",
            "Epoch 47/50\n",
            "1500/1500 [==============================] - 24s 16ms/step - loss: 0.0597 - acc: 0.9798 - val_loss: 0.4058 - val_acc: 0.9050\n",
            "Epoch 48/50\n",
            "1500/1500 [==============================] - 24s 16ms/step - loss: 0.0571 - acc: 0.9809 - val_loss: 0.4026 - val_acc: 0.9072\n",
            "Epoch 49/50\n",
            "1500/1500 [==============================] - 24s 16ms/step - loss: 0.0567 - acc: 0.9806 - val_loss: 0.4237 - val_acc: 0.9043\n",
            "Epoch 50/50\n",
            "1500/1500 [==============================] - 24s 16ms/step - loss: 0.0571 - acc: 0.9807 - val_loss: 0.4174 - val_acc: 0.9053\n"
          ]
        }
      ]
    },
    {
      "cell_type": "code",
      "metadata": {
        "colab": {
          "base_uri": "https://localhost:8080/",
          "height": 265
        },
        "id": "_ghkTaD87vJX",
        "outputId": "50990485-0cea-46ac-d7af-d0145b16ef82"
      },
      "source": [
        "# Visualize the loss\n",
        "plt.plot(history.history['loss'], label='Train loss')\n",
        "plt.plot(history.history['val_loss'], label='Test Loss')\n",
        "plt.legend();"
      ],
      "execution_count": null,
      "outputs": [
        {
          "output_type": "display_data",
          "data": {
            "image/png": "[encoded data removed]",
            "text/plain": [
              "<Figure size 432x288 with 1 Axes>"
            ]
          },
          "metadata": {
            "needs_background": "light"
          }
        }
      ]
    },
    {
      "cell_type": "code",
      "metadata": {
        "colab": {
          "base_uri": "https://localhost:8080/",
          "height": 265
        },
        "id": "GZO1Q-qL70m4",
        "outputId": "901195d4-570b-43c6-8c14-6d8052c8e7a9"
      },
      "source": [
        "# Visualize the accuracy\n",
        "plt.plot(history.history['acc'], label='Train Accuracy')\n",
        "plt.plot(history.history['val_acc'], label='Test Accuracy')\n",
        "plt.legend();"
      ],
      "execution_count": null,
      "outputs": [
        {
          "output_type": "display_data",
          "data": {
            "image/png": "[encoded data removed]",
            "text/plain": [
              "<Figure size 432x288 with 1 Axes>"
            ]
          },
          "metadata": {
            "needs_background": "light"
          }
        }
      ]
    },
    {
      "cell_type": "code",
      "metadata": {
        "id": "6IF4l3S-Hd4l"
      },
      "source": [
        "# Now checking how our model works on testing data\n",
        "X_preds = preds.drop(columns = 'label')/255\n",
        "y_preds = preds['label']"
      ],
      "execution_count": null,
      "outputs": []
    },
    {
      "cell_type": "code",
      "metadata": {
        "id": "9RGN2udtIz4_"
      },
      "source": [
        "# Reshaping\n",
        "X_preds = np.array(X_preds).reshape(X_preds.shape[0], 28, 28, 1)"
      ],
      "execution_count": null,
      "outputs": []
    },
    {
      "cell_type": "code",
      "metadata": {
        "id": "qhpAS6grID6d"
      },
      "source": [
        "# Predictions for testing data\n",
        "prediction = np.argmax(model.predict(X_preds), axis=-1)"
      ],
      "execution_count": null,
      "outputs": []
    },
    {
      "cell_type": "code",
      "metadata": {
        "colab": {
          "base_uri": "https://localhost:8080/"
        },
        "id": "YDc8DayWD2lF",
        "outputId": "600b4682-7aee-4a33-95c8-0467ab945f90"
      },
      "source": [
        "# Accuracy on test set\n",
        "from sklearn.metrics import accuracy_score\n",
        "accuracy_score(y_preds, prediction)"
      ],
      "execution_count": null,
      "outputs": [
        {
          "output_type": "execute_result",
          "data": {
            "text/plain": [
              "0.9679166666666666"
            ]
          },
          "metadata": {},
          "execution_count": 204
        }
      ]
    }
  ]
}