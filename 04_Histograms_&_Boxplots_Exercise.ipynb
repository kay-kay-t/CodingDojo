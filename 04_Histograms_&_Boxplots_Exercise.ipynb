{
  "nbformat": 4,
  "nbformat_minor": 0,
  "metadata": {
    "colab": {
      "name": "04_Histograms & Boxplots Exercise.ipynb",
      "provenance": [],
      "authorship_tag": "ABX9TyMMBLXrDevSv7hLEtar7M8t",
      "include_colab_link": true
    },
    "kernelspec": {
      "name": "python3",
      "display_name": "Python 3"
    },
    "language_info": {
      "name": "python"
    }
  },
  "cells": [
    {
      "cell_type": "markdown",
      "metadata": {
        "id": "view-in-github",
        "colab_type": "text"
      },
      "source": [
        "<a href=\"https://colab.research.google.com/github/kay-kay-t/CodingDojo/blob/main/04_Histograms_%26_Boxplots_Exercise.ipynb\" target=\"_parent\"><img src=\"https://colab.research.google.com/assets/colab-badge.svg\" alt=\"Open In Colab\"/></a>"
      ]
    },
    {
      "cell_type": "code",
      "metadata": {
        "colab": {
          "base_uri": "https://localhost:8080/"
        },
        "id": "bI8xIpvjg3hp",
        "outputId": "b1835660-c98f-4d29-c902-05ba7a8974b4"
      },
      "source": [
        "from google.colab import drive\n",
        "drive.mount('/content/drive')"
      ],
      "execution_count": 1,
      "outputs": [
        {
          "output_type": "stream",
          "name": "stdout",
          "text": [
            "Drive already mounted at /content/drive; to attempt to forcibly remount, call drive.mount(\"/content/drive\", force_remount=True).\n"
          ]
        }
      ]
    },
    {
      "cell_type": "code",
      "metadata": {
        "id": "DEFn2ZbuhGUt"
      },
      "source": [
        "import seaborn as sns\n",
        "import numpy as np\n",
        "import pandas as pd\n",
        "import matplotlib.pyplot as plt"
      ],
      "execution_count": 2,
      "outputs": []
    },
    {
      "cell_type": "code",
      "metadata": {
        "colab": {
          "base_uri": "https://localhost:8080/",
          "height": 237
        },
        "id": "4UBYMI3_hKGo",
        "outputId": "bd8d83fb-b448-43d3-a890-7cffb56af7b1"
      },
      "source": [
        "c_d = pd.read_excel('/content/catsvdogs.xlsx', header=0)\n",
        "c_d.head()"
      ],
      "execution_count": 3,
      "outputs": [
        {
          "output_type": "execute_result",
          "data": {
            "text/html": [
              "<div>\n",
              "<style scoped>\n",
              "    .dataframe tbody tr th:only-of-type {\n",
              "        vertical-align: middle;\n",
              "    }\n",
              "\n",
              "    .dataframe tbody tr th {\n",
              "        vertical-align: top;\n",
              "    }\n",
              "\n",
              "    .dataframe thead th {\n",
              "        text-align: right;\n",
              "    }\n",
              "</style>\n",
              "<table border=\"1\" class=\"dataframe\">\n",
              "  <thead>\n",
              "    <tr style=\"text-align: right;\">\n",
              "      <th></th>\n",
              "      <th>Location</th>\n",
              "      <th>Number of Households (in 1000)</th>\n",
              "      <th>Percentage of households with pets</th>\n",
              "      <th>Number of Pet Households (in 1000)</th>\n",
              "      <th>Percentage of Dog Owners</th>\n",
              "      <th>Dog Owning Households (1000s)</th>\n",
              "      <th>Mean Number of Dogs per household</th>\n",
              "      <th>Dog Population (in 1000)</th>\n",
              "      <th>Percentage of Cat Owners</th>\n",
              "      <th>Cat Owning Households</th>\n",
              "      <th>Mean Number of Cats</th>\n",
              "      <th>Cat Population</th>\n",
              "    </tr>\n",
              "  </thead>\n",
              "  <tbody>\n",
              "    <tr>\n",
              "      <th>0</th>\n",
              "      <td>Alabama</td>\n",
              "      <td>1828</td>\n",
              "      <td>59.5</td>\n",
              "      <td>1088</td>\n",
              "      <td>44.1</td>\n",
              "      <td>807</td>\n",
              "      <td>1.7</td>\n",
              "      <td>1410</td>\n",
              "      <td>27.4</td>\n",
              "      <td>501</td>\n",
              "      <td>2.5</td>\n",
              "      <td>1252</td>\n",
              "    </tr>\n",
              "    <tr>\n",
              "      <th>1</th>\n",
              "      <td>Arizona</td>\n",
              "      <td>2515</td>\n",
              "      <td>59.5</td>\n",
              "      <td>1497</td>\n",
              "      <td>40.1</td>\n",
              "      <td>1008</td>\n",
              "      <td>1.8</td>\n",
              "      <td>1798</td>\n",
              "      <td>29.6</td>\n",
              "      <td>743</td>\n",
              "      <td>1.9</td>\n",
              "      <td>1438</td>\n",
              "    </tr>\n",
              "    <tr>\n",
              "      <th>2</th>\n",
              "      <td>Arkansas</td>\n",
              "      <td>1148</td>\n",
              "      <td>62.4</td>\n",
              "      <td>716</td>\n",
              "      <td>47.9</td>\n",
              "      <td>550</td>\n",
              "      <td>2.0</td>\n",
              "      <td>1097</td>\n",
              "      <td>30.6</td>\n",
              "      <td>351</td>\n",
              "      <td>2.3</td>\n",
              "      <td>810</td>\n",
              "    </tr>\n",
              "    <tr>\n",
              "      <th>3</th>\n",
              "      <td>California</td>\n",
              "      <td>12974</td>\n",
              "      <td>52.9</td>\n",
              "      <td>6865</td>\n",
              "      <td>32.8</td>\n",
              "      <td>4260</td>\n",
              "      <td>1.6</td>\n",
              "      <td>6687</td>\n",
              "      <td>28.3</td>\n",
              "      <td>3687</td>\n",
              "      <td>1.9</td>\n",
              "      <td>7118</td>\n",
              "    </tr>\n",
              "    <tr>\n",
              "      <th>4</th>\n",
              "      <td>Colorado</td>\n",
              "      <td>1986</td>\n",
              "      <td>61.3</td>\n",
              "      <td>1217</td>\n",
              "      <td>42.5</td>\n",
              "      <td>845</td>\n",
              "      <td>1.6</td>\n",
              "      <td>1349</td>\n",
              "      <td>32.3</td>\n",
              "      <td>642</td>\n",
              "      <td>1.9</td>\n",
              "      <td>1191</td>\n",
              "    </tr>\n",
              "  </tbody>\n",
              "</table>\n",
              "</div>"
            ],
            "text/plain": [
              "     Location  ...  Cat Population\n",
              "0     Alabama  ...            1252\n",
              "1     Arizona  ...            1438\n",
              "2    Arkansas  ...             810\n",
              "3  California  ...            7118\n",
              "4    Colorado  ...            1191\n",
              "\n",
              "[5 rows x 12 columns]"
            ]
          },
          "metadata": {},
          "execution_count": 3
        }
      ]
    },
    {
      "cell_type": "markdown",
      "metadata": {
        "id": "0656t_bThgeq"
      },
      "source": [
        "1. Plot a histogram of the Percentage of Dog Owners.\n"
      ]
    },
    {
      "cell_type": "code",
      "metadata": {
        "colab": {
          "base_uri": "https://localhost:8080/",
          "height": 265
        },
        "id": "_ihOuAQThfzR",
        "outputId": "61fcfeda-491b-4a4f-993c-5250b97aea0d"
      },
      "source": [
        "c_d['Percentage of Dog Owners'].hist()\n",
        "plt.ticklabel_format(useOffset=False, style='plain')"
      ],
      "execution_count": 4,
      "outputs": [
        {
          "output_type": "display_data",
          "data": {
            "image/png": "[encoded data removed]",
            "text/plain": [
              "<Figure size 432x288 with 1 Axes>"
            ]
          },
          "metadata": {
            "needs_background": "light"
          }
        }
      ]
    },
    {
      "cell_type": "markdown",
      "metadata": {
        "id": "5nNjjQRVh8DJ"
      },
      "source": [
        "2. Plot a histogram of the Percentage of Cat Owners."
      ]
    },
    {
      "cell_type": "code",
      "metadata": {
        "colab": {
          "base_uri": "https://localhost:8080/",
          "height": 265
        },
        "id": "HOitXIRSh9dQ",
        "outputId": "cef3859d-6667-42a7-9693-54ab66af3ee4"
      },
      "source": [
        "c_d['Percentage of Cat Owners'].hist()\n",
        "plt.ticklabel_format(useOffset=False, style='plain')"
      ],
      "execution_count": 5,
      "outputs": [
        {
          "output_type": "display_data",
          "data": {
            "image/png": "[encoded data removed]",
            "text/plain": [
              "<Figure size 432x288 with 1 Axes>"
            ]
          },
          "metadata": {
            "needs_background": "light"
          }
        }
      ]
    },
    {
      "cell_type": "markdown",
      "metadata": {
        "id": "y6HTNiK7iQxk"
      },
      "source": [
        "3a. What can we see by comparing these two histograms? What information does this tell us?"
      ]
    },
    {
      "cell_type": "code",
      "metadata": {
        "id": "jzMekKbBiS2E"
      },
      "source": [
        "# It tells us that percentage of dog owners veries between 24-47% approximately and cat owners sits between 27-41%."
      ],
      "execution_count": 6,
      "outputs": []
    },
    {
      "cell_type": "markdown",
      "metadata": {
        "id": "jV7S_D6kjWNC"
      },
      "source": [
        "3b. Optional/Bonus: plot these two histograms on the same plot. "
      ]
    },
    {
      "cell_type": "code",
      "metadata": {
        "colab": {
          "base_uri": "https://localhost:8080/",
          "height": 265
        },
        "id": "6pI_Nf4QjXZ0",
        "outputId": "83733df9-3386-4070-ab21-67a6e970e9fe"
      },
      "source": [
        "dog_o = c_d['Percentage of Dog Owners']\n",
        "cat_o = c_d['Percentage of Cat Owners']\n",
        "\n",
        "plt.hist(dog_o, alpha = 0.9, edgecolor='black', label='Dogs')\n",
        "plt.hist(cat_o, alpha = 0.5, edgecolor='black', label='Cats')\n",
        "plt.legend(loc='upper right')\n",
        "\n",
        "plt.grid()\n",
        "\n",
        "plt.show()\n",
        "\n",
        "\n"
      ],
      "execution_count": 7,
      "outputs": [
        {
          "output_type": "display_data",
          "data": {
            "image/png": "[encoded data removed]",
            "text/plain": [
              "<Figure size 432x288 with 1 Axes>"
            ]
          },
          "metadata": {
            "needs_background": "light"
          }
        }
      ]
    },
    {
      "cell_type": "markdown",
      "metadata": {
        "id": "sY12MgSq_H-3"
      },
      "source": [
        "4. Create two boxplots on the same plot: one of the mean number of cats per household and the other of the mean number of dogs."
      ]
    },
    {
      "cell_type": "code",
      "metadata": {
        "colab": {
          "base_uri": "https://localhost:8080/",
          "height": 428
        },
        "id": "2r1iIe_h_G25",
        "outputId": "41f7e534-312e-466e-b4c6-ae731fd1fbec"
      },
      "source": [
        "fig, axes = plt.subplots(nrows = 1, ncols = 1, figsize = (10,7))\n",
        "boxplots = axes.boxplot([c_d['Mean Number of Cats'],c_d['Mean Number of Dogs per household']],\n",
        "           notch = True,\n",
        "           labels=['Cats', 'Dogs'],\n",
        "           widths = .7,\n",
        "           patch_artist=True,\n",
        "           medianprops = dict(linestyle='-', linewidth=1, color='Black'),\n",
        "           boxprops = dict(linestyle='--', linewidth=2, color='Black', facecolor = 'Yellow', alpha = .4));          \n",
        "boxplot1 = boxplots['boxes'][0]\n",
        "boxplot1.set_facecolor('red')\n",
        "plt.ylabel('Mean Number of Animals per State', fontsize = 20); \n",
        "plt.xticks(fontsize = 16);\n",
        "plt.yticks(fontsize = 16);\n",
        "\n"
      ],
      "execution_count": 42,
      "outputs": [
        {
          "output_type": "display_data",
          "data": {
            "image/png": "[encoded data removed]",
            "text/plain": [
              "<Figure size 720x504 with 1 Axes>"
            ]
          },
          "metadata": {
            "needs_background": "light"
          }
        }
      ]
    },
    {
      "cell_type": "markdown",
      "metadata": {
        "id": "tczchHsxPjXN"
      },
      "source": [
        "5. What can we see by comparing these two boxplots? What information does this tell us?"
      ]
    },
    {
      "cell_type": "markdown",
      "metadata": {
        "id": "qyiuIKEUPkZh"
      },
      "source": [
        "By comparing these two boxplots, we can see, that there's a higher number of cats per household than dogs."
      ]
    }
  ]
}