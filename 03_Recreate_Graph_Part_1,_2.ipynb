{
  "nbformat": 4,
  "nbformat_minor": 0,
  "metadata": {
    "colab": {
      "name": "03_Recreate Graph Part 1, 2.ipynb",
      "provenance": [],
      "collapsed_sections": [],
      "authorship_tag": "ABX9TyNG89FDr53KIuoev6A5ZhoF",
      "include_colab_link": true
    },
    "kernelspec": {
      "name": "python3",
      "display_name": "Python 3"
    },
    "language_info": {
      "name": "python"
    }
  },
  "cells": [
    {
      "cell_type": "markdown",
      "metadata": {
        "id": "view-in-github",
        "colab_type": "text"
      },
      "source": [
        "<a href=\"https://colab.research.google.com/github/kay-kay-t/CodingDojo/blob/main/03_Recreate_Graph_Part_1%2C_2.ipynb\" target=\"_parent\"><img src=\"https://colab.research.google.com/assets/colab-badge.svg\" alt=\"Open In Colab\"/></a>"
      ]
    },
    {
      "cell_type": "code",
      "metadata": {
        "colab": {
          "base_uri": "https://localhost:8080/"
        },
        "id": "xlVw3Setl0IO",
        "outputId": "d26e4b19-8a71-4ddb-a188-8fddf690c9af"
      },
      "source": [
        "# Mount data\n",
        "from google.colab import drive\n",
        "drive.mount('/content/drive')"
      ],
      "execution_count": 1,
      "outputs": [
        {
          "output_type": "stream",
          "name": "stdout",
          "text": [
            "Mounted at /content/drive\n"
          ]
        }
      ]
    },
    {
      "cell_type": "code",
      "metadata": {
        "id": "5-C0y2uEm_xp"
      },
      "source": [
        "# Import libraries\n",
        "import matplotlib.pyplot as plt\n",
        "import pandas as pd"
      ],
      "execution_count": 2,
      "outputs": []
    },
    {
      "cell_type": "markdown",
      "metadata": {
        "id": "SylvUJ7bupwD"
      },
      "source": [
        "**---------------PART 1------------------**"
      ]
    },
    {
      "cell_type": "code",
      "metadata": {
        "colab": {
          "base_uri": "https://localhost:8080/",
          "height": 417
        },
        "id": "Ocdhyommn24Q",
        "outputId": "4bdcd0e5-03b0-4654-edba-be8a87b88096"
      },
      "source": [
        "# Load data\n",
        "df = pd.read_csv('/mortgages.csv')\n",
        "df"
      ],
      "execution_count": 15,
      "outputs": [
        {
          "output_type": "execute_result",
          "data": {
            "text/html": [
              "<div>\n",
              "<style scoped>\n",
              "    .dataframe tbody tr th:only-of-type {\n",
              "        vertical-align: middle;\n",
              "    }\n",
              "\n",
              "    .dataframe tbody tr th {\n",
              "        vertical-align: top;\n",
              "    }\n",
              "\n",
              "    .dataframe thead th {\n",
              "        text-align: right;\n",
              "    }\n",
              "</style>\n",
              "<table border=\"1\" class=\"dataframe\">\n",
              "  <thead>\n",
              "    <tr style=\"text-align: right;\">\n",
              "      <th></th>\n",
              "      <th>Month</th>\n",
              "      <th>Starting Balance</th>\n",
              "      <th>Repayment</th>\n",
              "      <th>Interest Paid</th>\n",
              "      <th>Principal Paid</th>\n",
              "      <th>New Balance</th>\n",
              "      <th>Mortgage Name</th>\n",
              "      <th>Interest Rate</th>\n",
              "    </tr>\n",
              "  </thead>\n",
              "  <tbody>\n",
              "    <tr>\n",
              "      <th>0</th>\n",
              "      <td>1</td>\n",
              "      <td>400000.00</td>\n",
              "      <td>1686.42</td>\n",
              "      <td>1000.00</td>\n",
              "      <td>686.42</td>\n",
              "      <td>399313.58</td>\n",
              "      <td>30 Year</td>\n",
              "      <td>0.03</td>\n",
              "    </tr>\n",
              "    <tr>\n",
              "      <th>1</th>\n",
              "      <td>2</td>\n",
              "      <td>399313.58</td>\n",
              "      <td>1686.42</td>\n",
              "      <td>998.28</td>\n",
              "      <td>688.14</td>\n",
              "      <td>398625.44</td>\n",
              "      <td>30 Year</td>\n",
              "      <td>0.03</td>\n",
              "    </tr>\n",
              "    <tr>\n",
              "      <th>2</th>\n",
              "      <td>3</td>\n",
              "      <td>398625.44</td>\n",
              "      <td>1686.42</td>\n",
              "      <td>996.56</td>\n",
              "      <td>689.86</td>\n",
              "      <td>397935.58</td>\n",
              "      <td>30 Year</td>\n",
              "      <td>0.03</td>\n",
              "    </tr>\n",
              "    <tr>\n",
              "      <th>3</th>\n",
              "      <td>4</td>\n",
              "      <td>397935.58</td>\n",
              "      <td>1686.42</td>\n",
              "      <td>994.83</td>\n",
              "      <td>691.59</td>\n",
              "      <td>397243.99</td>\n",
              "      <td>30 Year</td>\n",
              "      <td>0.03</td>\n",
              "    </tr>\n",
              "    <tr>\n",
              "      <th>4</th>\n",
              "      <td>5</td>\n",
              "      <td>397243.99</td>\n",
              "      <td>1686.42</td>\n",
              "      <td>993.10</td>\n",
              "      <td>693.32</td>\n",
              "      <td>396550.67</td>\n",
              "      <td>30 Year</td>\n",
              "      <td>0.03</td>\n",
              "    </tr>\n",
              "    <tr>\n",
              "      <th>...</th>\n",
              "      <td>...</td>\n",
              "      <td>...</td>\n",
              "      <td>...</td>\n",
              "      <td>...</td>\n",
              "      <td>...</td>\n",
              "      <td>...</td>\n",
              "      <td>...</td>\n",
              "      <td>...</td>\n",
              "    </tr>\n",
              "    <tr>\n",
              "      <th>1075</th>\n",
              "      <td>176</td>\n",
              "      <td>15619.91</td>\n",
              "      <td>3163.17</td>\n",
              "      <td>65.08</td>\n",
              "      <td>3098.09</td>\n",
              "      <td>12521.82</td>\n",
              "      <td>15 Year</td>\n",
              "      <td>0.05</td>\n",
              "    </tr>\n",
              "    <tr>\n",
              "      <th>1076</th>\n",
              "      <td>177</td>\n",
              "      <td>12521.82</td>\n",
              "      <td>3163.17</td>\n",
              "      <td>52.17</td>\n",
              "      <td>3111.00</td>\n",
              "      <td>9410.82</td>\n",
              "      <td>15 Year</td>\n",
              "      <td>0.05</td>\n",
              "    </tr>\n",
              "    <tr>\n",
              "      <th>1077</th>\n",
              "      <td>178</td>\n",
              "      <td>9410.82</td>\n",
              "      <td>3163.17</td>\n",
              "      <td>39.21</td>\n",
              "      <td>3123.96</td>\n",
              "      <td>6286.86</td>\n",
              "      <td>15 Year</td>\n",
              "      <td>0.05</td>\n",
              "    </tr>\n",
              "    <tr>\n",
              "      <th>1078</th>\n",
              "      <td>179</td>\n",
              "      <td>6286.86</td>\n",
              "      <td>3163.17</td>\n",
              "      <td>26.19</td>\n",
              "      <td>3136.98</td>\n",
              "      <td>3149.88</td>\n",
              "      <td>15 Year</td>\n",
              "      <td>0.05</td>\n",
              "    </tr>\n",
              "    <tr>\n",
              "      <th>1079</th>\n",
              "      <td>180</td>\n",
              "      <td>3149.88</td>\n",
              "      <td>3163.17</td>\n",
              "      <td>13.12</td>\n",
              "      <td>3150.05</td>\n",
              "      <td>-0.17</td>\n",
              "      <td>15 Year</td>\n",
              "      <td>0.05</td>\n",
              "    </tr>\n",
              "  </tbody>\n",
              "</table>\n",
              "<p>1080 rows × 8 columns</p>\n",
              "</div>"
            ],
            "text/plain": [
              "      Month  Starting Balance  ...  Mortgage Name  Interest Rate\n",
              "0         1         400000.00  ...        30 Year           0.03\n",
              "1         2         399313.58  ...        30 Year           0.03\n",
              "2         3         398625.44  ...        30 Year           0.03\n",
              "3         4         397935.58  ...        30 Year           0.03\n",
              "4         5         397243.99  ...        30 Year           0.03\n",
              "...     ...               ...  ...            ...            ...\n",
              "1075    176          15619.91  ...        15 Year           0.05\n",
              "1076    177          12521.82  ...        15 Year           0.05\n",
              "1077    178           9410.82  ...        15 Year           0.05\n",
              "1078    179           6286.86  ...        15 Year           0.05\n",
              "1079    180           3149.88  ...        15 Year           0.05\n",
              "\n",
              "[1080 rows x 8 columns]"
            ]
          },
          "metadata": {},
          "execution_count": 15
        }
      ]
    },
    {
      "cell_type": "code",
      "metadata": {
        "colab": {
          "base_uri": "https://localhost:8080/"
        },
        "id": "a5poKFzWqy3P",
        "outputId": "dea526c2-87f0-4e8e-ecc7-9de153d0f727"
      },
      "source": [
        "# Getting some information on data set\n",
        "df.info"
      ],
      "execution_count": 12,
      "outputs": [
        {
          "output_type": "execute_result",
          "data": {
            "text/plain": [
              "<bound method DataFrame.info of       Month  Starting Balance  ...  Mortgage Name  Interest Rate\n",
              "0         1         400000.00  ...        30 Year           0.03\n",
              "1         2         399313.58  ...        30 Year           0.03\n",
              "2         3         398625.44  ...        30 Year           0.03\n",
              "3         4         397935.58  ...        30 Year           0.03\n",
              "4         5         397243.99  ...        30 Year           0.03\n",
              "...     ...               ...  ...            ...            ...\n",
              "1075    176          15619.91  ...        15 Year           0.05\n",
              "1076    177          12521.82  ...        15 Year           0.05\n",
              "1077    178           9410.82  ...        15 Year           0.05\n",
              "1078    179           6286.86  ...        15 Year           0.05\n",
              "1079    180           3149.88  ...        15 Year           0.05\n",
              "\n",
              "[1080 rows x 8 columns]>"
            ]
          },
          "metadata": {},
          "execution_count": 12
        }
      ]
    },
    {
      "cell_type": "markdown",
      "metadata": {
        "id": "QEVqw6_5pZh1"
      },
      "source": [
        "1) Create a filter so the Mortgage Name is '30 Year'.  Use the len() to find how many rows correspond to 30 years.\n"
      ]
    },
    {
      "cell_type": "code",
      "metadata": {
        "colab": {
          "base_uri": "https://localhost:8080/"
        },
        "id": "LAAjyzbwoK-E",
        "outputId": "62649572-d419-41cc-afc0-477839643cf7"
      },
      "source": [
        "# Code below shows there's 1080 rows with 30 Year Mortgage\n",
        "mortgage = df['Mortgage Name'] == '30 Year'\n",
        "len(mortgage)"
      ],
      "execution_count": 9,
      "outputs": [
        {
          "output_type": "execute_result",
          "data": {
            "text/plain": [
              "1080"
            ]
          },
          "metadata": {},
          "execution_count": 9
        }
      ]
    },
    {
      "cell_type": "markdown",
      "metadata": {
        "id": "TsuRhsq6qhS0"
      },
      "source": [
        "2) Create a filter for an interest rate of 3% (notice how it is written in the data!).  "
      ]
    },
    {
      "cell_type": "code",
      "metadata": {
        "colab": {
          "base_uri": "https://localhost:8080/"
        },
        "id": "5eRR6PkLqiuV",
        "outputId": "bd5c9e85-a123-4a92-ab00-2c6210b989c7"
      },
      "source": [
        "int_r3 = df['Interest Rate'] == 0.03\n",
        "len(int_r)"
      ],
      "execution_count": 23,
      "outputs": [
        {
          "output_type": "execute_result",
          "data": {
            "text/plain": [
              "1080"
            ]
          },
          "metadata": {},
          "execution_count": 23
        }
      ]
    },
    {
      "cell_type": "markdown",
      "metadata": {
        "id": "CTFM2kblrBnx"
      },
      "source": [
        "3) Define a new dataframe based on both the year and the interest filters you have created.  "
      ]
    },
    {
      "cell_type": "code",
      "metadata": {
        "colab": {
          "base_uri": "https://localhost:8080/",
          "height": 203
        },
        "id": "lcPA6dpyrF75",
        "outputId": "d37615dc-23dd-4c36-aa61-f467d9010036"
      },
      "source": [
        "m30_r3 = df.loc[mortgage & int_r3]\n",
        "m30_r3.head()"
      ],
      "execution_count": 24,
      "outputs": [
        {
          "output_type": "execute_result",
          "data": {
            "text/html": [
              "<div>\n",
              "<style scoped>\n",
              "    .dataframe tbody tr th:only-of-type {\n",
              "        vertical-align: middle;\n",
              "    }\n",
              "\n",
              "    .dataframe tbody tr th {\n",
              "        vertical-align: top;\n",
              "    }\n",
              "\n",
              "    .dataframe thead th {\n",
              "        text-align: right;\n",
              "    }\n",
              "</style>\n",
              "<table border=\"1\" class=\"dataframe\">\n",
              "  <thead>\n",
              "    <tr style=\"text-align: right;\">\n",
              "      <th></th>\n",
              "      <th>Month</th>\n",
              "      <th>Starting Balance</th>\n",
              "      <th>Repayment</th>\n",
              "      <th>Interest Paid</th>\n",
              "      <th>Principal Paid</th>\n",
              "      <th>New Balance</th>\n",
              "      <th>Mortgage Name</th>\n",
              "      <th>Interest Rate</th>\n",
              "    </tr>\n",
              "  </thead>\n",
              "  <tbody>\n",
              "    <tr>\n",
              "      <th>0</th>\n",
              "      <td>1</td>\n",
              "      <td>400000.00</td>\n",
              "      <td>1686.42</td>\n",
              "      <td>1000.00</td>\n",
              "      <td>686.42</td>\n",
              "      <td>399313.58</td>\n",
              "      <td>30 Year</td>\n",
              "      <td>0.03</td>\n",
              "    </tr>\n",
              "    <tr>\n",
              "      <th>1</th>\n",
              "      <td>2</td>\n",
              "      <td>399313.58</td>\n",
              "      <td>1686.42</td>\n",
              "      <td>998.28</td>\n",
              "      <td>688.14</td>\n",
              "      <td>398625.44</td>\n",
              "      <td>30 Year</td>\n",
              "      <td>0.03</td>\n",
              "    </tr>\n",
              "    <tr>\n",
              "      <th>2</th>\n",
              "      <td>3</td>\n",
              "      <td>398625.44</td>\n",
              "      <td>1686.42</td>\n",
              "      <td>996.56</td>\n",
              "      <td>689.86</td>\n",
              "      <td>397935.58</td>\n",
              "      <td>30 Year</td>\n",
              "      <td>0.03</td>\n",
              "    </tr>\n",
              "    <tr>\n",
              "      <th>3</th>\n",
              "      <td>4</td>\n",
              "      <td>397935.58</td>\n",
              "      <td>1686.42</td>\n",
              "      <td>994.83</td>\n",
              "      <td>691.59</td>\n",
              "      <td>397243.99</td>\n",
              "      <td>30 Year</td>\n",
              "      <td>0.03</td>\n",
              "    </tr>\n",
              "    <tr>\n",
              "      <th>4</th>\n",
              "      <td>5</td>\n",
              "      <td>397243.99</td>\n",
              "      <td>1686.42</td>\n",
              "      <td>993.10</td>\n",
              "      <td>693.32</td>\n",
              "      <td>396550.67</td>\n",
              "      <td>30 Year</td>\n",
              "      <td>0.03</td>\n",
              "    </tr>\n",
              "  </tbody>\n",
              "</table>\n",
              "</div>"
            ],
            "text/plain": [
              "   Month  Starting Balance  Repayment  ...  New Balance  Mortgage Name  Interest Rate\n",
              "0      1         400000.00    1686.42  ...    399313.58        30 Year           0.03\n",
              "1      2         399313.58    1686.42  ...    398625.44        30 Year           0.03\n",
              "2      3         398625.44    1686.42  ...    397935.58        30 Year           0.03\n",
              "3      4         397935.58    1686.42  ...    397243.99        30 Year           0.03\n",
              "4      5         397243.99    1686.42  ...    396550.67        30 Year           0.03\n",
              "\n",
              "[5 rows x 8 columns]"
            ]
          },
          "metadata": {},
          "execution_count": 24
        }
      ]
    },
    {
      "cell_type": "markdown",
      "metadata": {
        "id": "oZVCQAnzrcIb"
      },
      "source": [
        "4) We have a choice for the 5% interest rate.  We can just create another filter where df.['Interest Rate'] == .05 "
      ]
    },
    {
      "cell_type": "code",
      "metadata": {
        "colab": {
          "base_uri": "https://localhost:8080/"
        },
        "id": "C510OzKrri0b",
        "outputId": "3f58d202-7401-4eb5-da10-8e3ee57bb4ed"
      },
      "source": [
        "int_r5 = df['Interest Rate'] == 0.05\n",
        "len(int_r5)"
      ],
      "execution_count": 25,
      "outputs": [
        {
          "output_type": "execute_result",
          "data": {
            "text/plain": [
              "1080"
            ]
          },
          "metadata": {},
          "execution_count": 25
        }
      ]
    },
    {
      "cell_type": "code",
      "metadata": {
        "colab": {
          "base_uri": "https://localhost:8080/",
          "height": 203
        },
        "id": "9EYNVb4mtBrt",
        "outputId": "6c81eceb-54fb-4922-82eb-c1be3a60a7ac"
      },
      "source": [
        "m30_r5 = df.loc[mortgage & int_r5]\n",
        "m30_r5.head()"
      ],
      "execution_count": 28,
      "outputs": [
        {
          "output_type": "execute_result",
          "data": {
            "text/html": [
              "<div>\n",
              "<style scoped>\n",
              "    .dataframe tbody tr th:only-of-type {\n",
              "        vertical-align: middle;\n",
              "    }\n",
              "\n",
              "    .dataframe tbody tr th {\n",
              "        vertical-align: top;\n",
              "    }\n",
              "\n",
              "    .dataframe thead th {\n",
              "        text-align: right;\n",
              "    }\n",
              "</style>\n",
              "<table border=\"1\" class=\"dataframe\">\n",
              "  <thead>\n",
              "    <tr style=\"text-align: right;\">\n",
              "      <th></th>\n",
              "      <th>Month</th>\n",
              "      <th>Starting Balance</th>\n",
              "      <th>Repayment</th>\n",
              "      <th>Interest Paid</th>\n",
              "      <th>Principal Paid</th>\n",
              "      <th>New Balance</th>\n",
              "      <th>Mortgage Name</th>\n",
              "      <th>Interest Rate</th>\n",
              "    </tr>\n",
              "  </thead>\n",
              "  <tbody>\n",
              "    <tr>\n",
              "      <th>360</th>\n",
              "      <td>1</td>\n",
              "      <td>400000.00</td>\n",
              "      <td>2147.29</td>\n",
              "      <td>1666.66</td>\n",
              "      <td>480.63</td>\n",
              "      <td>399519.37</td>\n",
              "      <td>30 Year</td>\n",
              "      <td>0.05</td>\n",
              "    </tr>\n",
              "    <tr>\n",
              "      <th>361</th>\n",
              "      <td>2</td>\n",
              "      <td>399519.37</td>\n",
              "      <td>2147.29</td>\n",
              "      <td>1664.66</td>\n",
              "      <td>482.63</td>\n",
              "      <td>399036.74</td>\n",
              "      <td>30 Year</td>\n",
              "      <td>0.05</td>\n",
              "    </tr>\n",
              "    <tr>\n",
              "      <th>362</th>\n",
              "      <td>3</td>\n",
              "      <td>399036.74</td>\n",
              "      <td>2147.29</td>\n",
              "      <td>1662.65</td>\n",
              "      <td>484.64</td>\n",
              "      <td>398552.10</td>\n",
              "      <td>30 Year</td>\n",
              "      <td>0.05</td>\n",
              "    </tr>\n",
              "    <tr>\n",
              "      <th>363</th>\n",
              "      <td>4</td>\n",
              "      <td>398552.10</td>\n",
              "      <td>2147.29</td>\n",
              "      <td>1660.63</td>\n",
              "      <td>486.66</td>\n",
              "      <td>398065.44</td>\n",
              "      <td>30 Year</td>\n",
              "      <td>0.05</td>\n",
              "    </tr>\n",
              "    <tr>\n",
              "      <th>364</th>\n",
              "      <td>5</td>\n",
              "      <td>398065.44</td>\n",
              "      <td>2147.29</td>\n",
              "      <td>1658.60</td>\n",
              "      <td>488.69</td>\n",
              "      <td>397576.75</td>\n",
              "      <td>30 Year</td>\n",
              "      <td>0.05</td>\n",
              "    </tr>\n",
              "  </tbody>\n",
              "</table>\n",
              "</div>"
            ],
            "text/plain": [
              "     Month  Starting Balance  ...  Mortgage Name  Interest Rate\n",
              "360      1         400000.00  ...        30 Year           0.05\n",
              "361      2         399519.37  ...        30 Year           0.05\n",
              "362      3         399036.74  ...        30 Year           0.05\n",
              "363      4         398552.10  ...        30 Year           0.05\n",
              "364      5         398065.44  ...        30 Year           0.05\n",
              "\n",
              "[5 rows x 8 columns]"
            ]
          },
          "metadata": {},
          "execution_count": 28
        }
      ]
    },
    {
      "cell_type": "markdown",
      "metadata": {
        "id": "P5FWD5vkr-uv"
      },
      "source": [
        "5) Since we want to graph the cumulative sum of the interest paid, you can use the function .cumsum().  What are the first three values in the output for the cumulative sum of the 3% rate?"
      ]
    },
    {
      "cell_type": "code",
      "metadata": {
        "colab": {
          "base_uri": "https://localhost:8080/"
        },
        "id": "i769ul4qr12C",
        "outputId": "ab985f71-72d1-4bbb-8020-4e03d8c3a20b"
      },
      "source": [
        "cumsum_m30_r3 = m30_r3['Interest Paid'].cumsum()\n",
        "cumsum_m30_r3"
      ],
      "execution_count": 34,
      "outputs": [
        {
          "output_type": "execute_result",
          "data": {
            "text/plain": [
              "0        1000.00\n",
              "1        1998.28\n",
              "2        2994.84\n",
              "3        3989.67\n",
              "4        4982.77\n",
              "         ...    \n",
              "355    207064.13\n",
              "356    207080.87\n",
              "357    207093.44\n",
              "358    207101.82\n",
              "359    207106.01\n",
              "Name: Interest Paid, Length: 360, dtype: float64"
            ]
          },
          "metadata": {},
          "execution_count": 34
        }
      ]
    },
    {
      "cell_type": "code",
      "metadata": {
        "colab": {
          "base_uri": "https://localhost:8080/"
        },
        "id": "1K4YkjVBtUYw",
        "outputId": "7b0a6613-5671-4559-dbf4-bb06ff5711c2"
      },
      "source": [
        "cumsum_m30_r5 = m30_r5['Interest Paid'].cumsum()\n",
        "cumsum_m30_r5"
      ],
      "execution_count": 33,
      "outputs": [
        {
          "output_type": "execute_result",
          "data": {
            "text/plain": [
              "360      1666.66\n",
              "361      3331.32\n",
              "362      4993.97\n",
              "363      6654.60\n",
              "364      8313.20\n",
              "         ...    \n",
              "715    372928.64\n",
              "716    372964.02\n",
              "717    372990.60\n",
              "718    373008.35\n",
              "719    373017.23\n",
              "Name: Interest Paid, Length: 360, dtype: float64"
            ]
          },
          "metadata": {},
          "execution_count": 33
        }
      ]
    },
    {
      "cell_type": "markdown",
      "metadata": {
        "id": "ZLxArd_RsQ5R"
      },
      "source": [
        "6) Use plt.plot(x, y, c=color) to plot the black line (5%).  We want the x values to be the ['Month'] and the y values to be the cumulative sum of the Interest Paid.  You can use the code from the previous question to define your y values within the plt.plot() function!  Hint: for black, c = 'k'"
      ]
    },
    {
      "cell_type": "code",
      "metadata": {
        "colab": {
          "base_uri": "https://localhost:8080/",
          "height": 265
        },
        "id": "89FUI6VmsVBO",
        "outputId": "2f54f059-11c6-402e-a2ec-78f20c624983"
      },
      "source": [
        "plt.plot(m30_r5['Month'], cumsum_m30_r5, c = 'k');"
      ],
      "execution_count": 31,
      "outputs": [
        {
          "output_type": "display_data",
          "data": {
            "image/png": "[encoded data removed]",
            "text/plain": [
              "<Figure size 432x288 with 1 Axes>"
            ]
          },
          "metadata": {
            "needs_background": "light"
          }
        }
      ]
    },
    {
      "cell_type": "markdown",
      "metadata": {
        "id": "r5xkWP8Ptvvm"
      },
      "source": [
        "7) To get both lines on the same graph, just put two plt.plot() functions one after the other in same code block and run it!"
      ]
    },
    {
      "cell_type": "code",
      "metadata": {
        "colab": {
          "base_uri": "https://localhost:8080/",
          "height": 265
        },
        "id": "Prne0brattah",
        "outputId": "367709c3-8734-4aa8-e75f-3bcf2e3b6df9"
      },
      "source": [
        "plt.plot(m30_r5['Month'], cumsum_m30_r5, c = 'k');\n",
        "plt.plot(m30_r3['Month'], cumsum_m30_r3, c = 'b');"
      ],
      "execution_count": 35,
      "outputs": [
        {
          "output_type": "display_data",
          "data": {
            "image/png": "[encoded data removed]",
            "text/plain": [
              "<Figure size 432x288 with 1 Axes>"
            ]
          },
          "metadata": {
            "needs_background": "light"
          }
        }
      ]
    },
    {
      "cell_type": "markdown",
      "metadata": {
        "id": "ALSCUpZgucgv"
      },
      "source": [
        "**-------------------------PART 2---------------------**"
      ]
    },
    {
      "cell_type": "code",
      "metadata": {
        "colab": {
          "base_uri": "https://localhost:8080/",
          "height": 362
        },
        "id": "4BzmTJK7ukjq",
        "outputId": "6145e0e0-083a-4451-aba9-9604350fffeb"
      },
      "source": [
        "# Setting fig parameters\n",
        "fig, axes = plt.subplots(nrows = 1, ncols = 1, figsize=(10, 5));\n",
        "\n",
        "# Recreating graphs\n",
        "plt.plot(m30_r5['Month'], cumsum_m30_r5, c = 'k', label='30 Year 5% APR');\n",
        "plt.plot(m30_r3['Month'], cumsum_m30_r3, c = 'b', label='30 Year 3% APR');\n",
        "\n",
        "# Setting axes labels and title\n",
        "plt.xlabel('Month', fontsize=15)\n",
        "plt.ylabel('Dollars', fontsize=15)\n",
        "plt.title('Cumulative Interest Paid', fontsize=15)\n",
        "plt.xticks(fontsize = 15)\n",
        "plt.yticks(fontsize = 15) \n",
        "\n",
        "# Setting starting limits\n",
        "plt.ylim([0, 400000])\n",
        "plt.xlim([0, 360])\n",
        "\n",
        "# Setting legend\n",
        "plt.legend(loc='lower right', fontsize=14)\n",
        "\n",
        "plt.grid()\n",
        "plt.show()"
      ],
      "execution_count": 89,
      "outputs": [
        {
          "output_type": "display_data",
          "data": {
            "image/png": "[encoded data removed]",
            "text/plain": [
              "<Figure size 720x360 with 1 Axes>"
            ]
          },
          "metadata": {
            "needs_background": "light"
          }
        }
      ]
    }
  ]
}