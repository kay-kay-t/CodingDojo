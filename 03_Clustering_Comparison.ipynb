{
  "nbformat": 4,
  "nbformat_minor": 0,
  "metadata": {
    "colab": {
      "name": "03_Clustering Comparison.ipynb",
      "provenance": [],
      "collapsed_sections": [],
      "mount_file_id": "1UfePmm-W-jRPTQ-JXFJ3ATzRNplX5Wxi",
      "authorship_tag": "ABX9TyPYYHfPC4dpQOt2jBN6tCFY",
      "include_colab_link": true
    },
    "kernelspec": {
      "name": "python3",
      "display_name": "Python 3"
    },
    "language_info": {
      "name": "python"
    }
  },
  "cells": [
    {
      "cell_type": "markdown",
      "metadata": {
        "id": "view-in-github",
        "colab_type": "text"
      },
      "source": [
        "<a href=\"https://colab.research.google.com/github/kay-kay-t/CodingDojo/blob/main/03_Clustering_Comparison.ipynb\" target=\"_parent\"><img src=\"https://colab.research.google.com/assets/colab-badge.svg\" alt=\"Open In Colab\"/></a>"
      ]
    },
    {
      "cell_type": "code",
      "metadata": {
        "id": "skQ_-az69_sg"
      },
      "source": [
        "#import libraries\n",
        "import matplotlib.pyplot as plt\n",
        "import seaborn as sns\n",
        "import pandas as pd\n",
        "import numpy as np\n",
        "from sklearn.preprocessing import StandardScaler\n",
        "from sklearn.cluster import KMeans, AgglomerativeClustering, DBSCAN\n",
        "from sklearn.metrics import silhouette_score"
      ],
      "execution_count": null,
      "outputs": []
    },
    {
      "cell_type": "code",
      "metadata": {
        "colab": {
          "base_uri": "https://localhost:8080/",
          "height": 234
        },
        "id": "Ql0OkHLl-YXw",
        "outputId": "016554b4-a054-47d7-c143-77d150e32776"
      },
      "source": [
        "#Loading data\n",
        "df = pd.read_csv('/content/drive/MyDrive/Data/cust_seg.csv', index_col=[1])\n",
        "df.head()"
      ],
      "execution_count": null,
      "outputs": [
        {
          "output_type": "execute_result",
          "data": {
            "text/html": [
              "<div>\n",
              "<style scoped>\n",
              "    .dataframe tbody tr th:only-of-type {\n",
              "        vertical-align: middle;\n",
              "    }\n",
              "\n",
              "    .dataframe tbody tr th {\n",
              "        vertical-align: top;\n",
              "    }\n",
              "\n",
              "    .dataframe thead th {\n",
              "        text-align: right;\n",
              "    }\n",
              "</style>\n",
              "<table border=\"1\" class=\"dataframe\">\n",
              "  <thead>\n",
              "    <tr style=\"text-align: right;\">\n",
              "      <th></th>\n",
              "      <th>Unnamed: 0</th>\n",
              "      <th>Age</th>\n",
              "      <th>Edu</th>\n",
              "      <th>Years Employed</th>\n",
              "      <th>Income</th>\n",
              "      <th>Card Debt</th>\n",
              "      <th>Other Debt</th>\n",
              "      <th>Defaulted</th>\n",
              "      <th>DebtIncomeRatio</th>\n",
              "    </tr>\n",
              "    <tr>\n",
              "      <th>Customer Id</th>\n",
              "      <th></th>\n",
              "      <th></th>\n",
              "      <th></th>\n",
              "      <th></th>\n",
              "      <th></th>\n",
              "      <th></th>\n",
              "      <th></th>\n",
              "      <th></th>\n",
              "      <th></th>\n",
              "    </tr>\n",
              "  </thead>\n",
              "  <tbody>\n",
              "    <tr>\n",
              "      <th>1</th>\n",
              "      <td>0</td>\n",
              "      <td>41</td>\n",
              "      <td>2</td>\n",
              "      <td>6</td>\n",
              "      <td>19</td>\n",
              "      <td>0.124</td>\n",
              "      <td>1.073</td>\n",
              "      <td>0.0</td>\n",
              "      <td>6.3</td>\n",
              "    </tr>\n",
              "    <tr>\n",
              "      <th>2</th>\n",
              "      <td>1</td>\n",
              "      <td>47</td>\n",
              "      <td>1</td>\n",
              "      <td>26</td>\n",
              "      <td>100</td>\n",
              "      <td>4.582</td>\n",
              "      <td>8.218</td>\n",
              "      <td>0.0</td>\n",
              "      <td>12.8</td>\n",
              "    </tr>\n",
              "    <tr>\n",
              "      <th>3</th>\n",
              "      <td>2</td>\n",
              "      <td>33</td>\n",
              "      <td>2</td>\n",
              "      <td>10</td>\n",
              "      <td>57</td>\n",
              "      <td>6.111</td>\n",
              "      <td>5.802</td>\n",
              "      <td>1.0</td>\n",
              "      <td>20.9</td>\n",
              "    </tr>\n",
              "    <tr>\n",
              "      <th>4</th>\n",
              "      <td>3</td>\n",
              "      <td>29</td>\n",
              "      <td>2</td>\n",
              "      <td>4</td>\n",
              "      <td>19</td>\n",
              "      <td>0.681</td>\n",
              "      <td>0.516</td>\n",
              "      <td>0.0</td>\n",
              "      <td>6.3</td>\n",
              "    </tr>\n",
              "    <tr>\n",
              "      <th>5</th>\n",
              "      <td>4</td>\n",
              "      <td>47</td>\n",
              "      <td>1</td>\n",
              "      <td>31</td>\n",
              "      <td>253</td>\n",
              "      <td>9.308</td>\n",
              "      <td>8.908</td>\n",
              "      <td>0.0</td>\n",
              "      <td>7.2</td>\n",
              "    </tr>\n",
              "  </tbody>\n",
              "</table>\n",
              "</div>"
            ],
            "text/plain": [
              "             Unnamed: 0  Age  Edu  ...  Other Debt  Defaulted  DebtIncomeRatio\n",
              "Customer Id                        ...                                        \n",
              "1                     0   41    2  ...       1.073        0.0              6.3\n",
              "2                     1   47    1  ...       8.218        0.0             12.8\n",
              "3                     2   33    2  ...       5.802        1.0             20.9\n",
              "4                     3   29    2  ...       0.516        0.0              6.3\n",
              "5                     4   47    1  ...       8.908        0.0              7.2\n",
              "\n",
              "[5 rows x 9 columns]"
            ]
          },
          "metadata": {},
          "execution_count": 78
        }
      ]
    },
    {
      "cell_type": "code",
      "metadata": {
        "colab": {
          "base_uri": "https://localhost:8080/"
        },
        "id": "_58Zoy4UE8Ce",
        "outputId": "c6e6df39-66fd-4f10-9d8a-747b29c53e7a"
      },
      "source": [
        "df.info()"
      ],
      "execution_count": null,
      "outputs": [
        {
          "output_type": "stream",
          "name": "stdout",
          "text": [
            "<class 'pandas.core.frame.DataFrame'>\n",
            "Int64Index: 850 entries, 1 to 850\n",
            "Data columns (total 9 columns):\n",
            " #   Column           Non-Null Count  Dtype  \n",
            "---  ------           --------------  -----  \n",
            " 0   Unnamed: 0       850 non-null    int64  \n",
            " 1   Age              850 non-null    int64  \n",
            " 2   Edu              850 non-null    int64  \n",
            " 3   Years Employed   850 non-null    int64  \n",
            " 4   Income           850 non-null    int64  \n",
            " 5   Card Debt        850 non-null    float64\n",
            " 6   Other Debt       850 non-null    float64\n",
            " 7   Defaulted        700 non-null    float64\n",
            " 8   DebtIncomeRatio  850 non-null    float64\n",
            "dtypes: float64(4), int64(5)\n",
            "memory usage: 66.4 KB\n"
          ]
        }
      ]
    },
    {
      "cell_type": "code",
      "metadata": {
        "colab": {
          "base_uri": "https://localhost:8080/"
        },
        "id": "pksxqvOetXay",
        "outputId": "4c0604eb-c690-4c20-f906-cc018ea83396"
      },
      "source": [
        "df['Defaulted'].value_counts"
      ],
      "execution_count": null,
      "outputs": [
        {
          "output_type": "execute_result",
          "data": {
            "text/plain": [
              "<bound method IndexOpsMixin.value_counts of Customer Id\n",
              "1      0.0\n",
              "2      0.0\n",
              "3      1.0\n",
              "4      0.0\n",
              "5      0.0\n",
              "      ... \n",
              "846    NaN\n",
              "847    0.0\n",
              "848    1.0\n",
              "849    0.0\n",
              "850    0.0\n",
              "Name: Defaulted, Length: 850, dtype: float64>"
            ]
          },
          "metadata": {},
          "execution_count": 80
        }
      ]
    },
    {
      "cell_type": "code",
      "metadata": {
        "colab": {
          "base_uri": "https://localhost:8080/"
        },
        "id": "FxcJ-IuPtx45",
        "outputId": "ca2f2ccc-8cca-4668-f2c6-601d1b4b4e37"
      },
      "source": [
        "# Filling Nan values\n",
        "df['Defaulted'].mean()\n",
        "column_means = df.mean()\n",
        "df = df.fillna(column_means)\n",
        "df.info()"
      ],
      "execution_count": null,
      "outputs": [
        {
          "output_type": "stream",
          "name": "stdout",
          "text": [
            "<class 'pandas.core.frame.DataFrame'>\n",
            "Int64Index: 850 entries, 1 to 850\n",
            "Data columns (total 9 columns):\n",
            " #   Column           Non-Null Count  Dtype  \n",
            "---  ------           --------------  -----  \n",
            " 0   Unnamed: 0       850 non-null    int64  \n",
            " 1   Age              850 non-null    int64  \n",
            " 2   Edu              850 non-null    int64  \n",
            " 3   Years Employed   850 non-null    int64  \n",
            " 4   Income           850 non-null    int64  \n",
            " 5   Card Debt        850 non-null    float64\n",
            " 6   Other Debt       850 non-null    float64\n",
            " 7   Defaulted        850 non-null    float64\n",
            " 8   DebtIncomeRatio  850 non-null    float64\n",
            "dtypes: float64(4), int64(5)\n",
            "memory usage: 66.4 KB\n"
          ]
        }
      ]
    },
    {
      "cell_type": "code",
      "metadata": {
        "colab": {
          "base_uri": "https://localhost:8080/",
          "height": 234
        },
        "id": "nX3be1yZ_Jur",
        "outputId": "4dd1c627-ea46-4e96-f7f8-f8efc37e31db"
      },
      "source": [
        "df.drop(columns='Unnamed: 0',  inplace=True)\n",
        "df.head()"
      ],
      "execution_count": null,
      "outputs": [
        {
          "output_type": "execute_result",
          "data": {
            "text/html": [
              "<div>\n",
              "<style scoped>\n",
              "    .dataframe tbody tr th:only-of-type {\n",
              "        vertical-align: middle;\n",
              "    }\n",
              "\n",
              "    .dataframe tbody tr th {\n",
              "        vertical-align: top;\n",
              "    }\n",
              "\n",
              "    .dataframe thead th {\n",
              "        text-align: right;\n",
              "    }\n",
              "</style>\n",
              "<table border=\"1\" class=\"dataframe\">\n",
              "  <thead>\n",
              "    <tr style=\"text-align: right;\">\n",
              "      <th></th>\n",
              "      <th>Age</th>\n",
              "      <th>Edu</th>\n",
              "      <th>Years Employed</th>\n",
              "      <th>Income</th>\n",
              "      <th>Card Debt</th>\n",
              "      <th>Other Debt</th>\n",
              "      <th>Defaulted</th>\n",
              "      <th>DebtIncomeRatio</th>\n",
              "    </tr>\n",
              "    <tr>\n",
              "      <th>Customer Id</th>\n",
              "      <th></th>\n",
              "      <th></th>\n",
              "      <th></th>\n",
              "      <th></th>\n",
              "      <th></th>\n",
              "      <th></th>\n",
              "      <th></th>\n",
              "      <th></th>\n",
              "    </tr>\n",
              "  </thead>\n",
              "  <tbody>\n",
              "    <tr>\n",
              "      <th>1</th>\n",
              "      <td>41</td>\n",
              "      <td>2</td>\n",
              "      <td>6</td>\n",
              "      <td>19</td>\n",
              "      <td>0.124</td>\n",
              "      <td>1.073</td>\n",
              "      <td>0.0</td>\n",
              "      <td>6.3</td>\n",
              "    </tr>\n",
              "    <tr>\n",
              "      <th>2</th>\n",
              "      <td>47</td>\n",
              "      <td>1</td>\n",
              "      <td>26</td>\n",
              "      <td>100</td>\n",
              "      <td>4.582</td>\n",
              "      <td>8.218</td>\n",
              "      <td>0.0</td>\n",
              "      <td>12.8</td>\n",
              "    </tr>\n",
              "    <tr>\n",
              "      <th>3</th>\n",
              "      <td>33</td>\n",
              "      <td>2</td>\n",
              "      <td>10</td>\n",
              "      <td>57</td>\n",
              "      <td>6.111</td>\n",
              "      <td>5.802</td>\n",
              "      <td>1.0</td>\n",
              "      <td>20.9</td>\n",
              "    </tr>\n",
              "    <tr>\n",
              "      <th>4</th>\n",
              "      <td>29</td>\n",
              "      <td>2</td>\n",
              "      <td>4</td>\n",
              "      <td>19</td>\n",
              "      <td>0.681</td>\n",
              "      <td>0.516</td>\n",
              "      <td>0.0</td>\n",
              "      <td>6.3</td>\n",
              "    </tr>\n",
              "    <tr>\n",
              "      <th>5</th>\n",
              "      <td>47</td>\n",
              "      <td>1</td>\n",
              "      <td>31</td>\n",
              "      <td>253</td>\n",
              "      <td>9.308</td>\n",
              "      <td>8.908</td>\n",
              "      <td>0.0</td>\n",
              "      <td>7.2</td>\n",
              "    </tr>\n",
              "  </tbody>\n",
              "</table>\n",
              "</div>"
            ],
            "text/plain": [
              "             Age  Edu  Years Employed  ...  Other Debt  Defaulted  DebtIncomeRatio\n",
              "Customer Id                            ...                                        \n",
              "1             41    2               6  ...       1.073        0.0              6.3\n",
              "2             47    1              26  ...       8.218        0.0             12.8\n",
              "3             33    2              10  ...       5.802        1.0             20.9\n",
              "4             29    2               4  ...       0.516        0.0              6.3\n",
              "5             47    1              31  ...       8.908        0.0              7.2\n",
              "\n",
              "[5 rows x 8 columns]"
            ]
          },
          "metadata": {},
          "execution_count": 82
        }
      ]
    },
    {
      "cell_type": "markdown",
      "metadata": {
        "id": "1AktLv7FD4tk"
      },
      "source": [
        "Trying to group customers using values from col Age & Education and DBSCAN"
      ]
    },
    {
      "cell_type": "code",
      "metadata": {
        "colab": {
          "base_uri": "https://localhost:8080/",
          "height": 295
        },
        "id": "T8UPeUtMDegC",
        "outputId": "73e15041-3979-416d-92a5-de906b554398"
      },
      "source": [
        "# define the columns we want to work with\n",
        "x = df.loc[:, ['Age', 'Edu']].values\n",
        "\n",
        "# scale the data\n",
        "scaler = StandardScaler()\n",
        "scaled_x = scaler.fit_transform(x)\n",
        "\n",
        "dbs = DBSCAN(eps = 0.5, min_samples = 5).fit(scaled_x)\n",
        "\n",
        "df['cluster'] = dbs.labels_\n",
        "\n",
        "# Visualize the clusters\n",
        "plt.scatter(df['Age'], df['Edu'], c = df['cluster'])\n",
        "plt.xlabel('Age')\n",
        "plt.ylabel('Edu')\n",
        "plt.title('Clusters of groups of customers');"
      ],
      "execution_count": null,
      "outputs": [
        {
          "output_type": "display_data",
          "data": {
            "image/png": "[encoded data removed]",
            "text/plain": [
              "<Figure size 432x288 with 1 Axes>"
            ]
          },
          "metadata": {
            "needs_background": "light"
          }
        }
      ]
    },
    {
      "cell_type": "markdown",
      "metadata": {
        "id": "Xu68j9_nZFV5"
      },
      "source": [
        "DBSCAN seperating clusters pretty well. Lets check the score."
      ]
    },
    {
      "cell_type": "code",
      "metadata": {
        "colab": {
          "base_uri": "https://localhost:8080/"
        },
        "id": "PDj7M7MCY-tc",
        "outputId": "b9bf4f77-e51c-4f00-bb6c-e37f5b769a8a"
      },
      "source": [
        "silhouette_score(scaled_x, dbs.labels_)"
      ],
      "execution_count": null,
      "outputs": [
        {
          "output_type": "execute_result",
          "data": {
            "text/plain": [
              "0.32190125786953766"
            ]
          },
          "metadata": {},
          "execution_count": 84
        }
      ]
    },
    {
      "cell_type": "markdown",
      "metadata": {
        "id": "tbt3V8jzZbRe"
      },
      "source": [
        "This score is really low, eventhough clastering looks good to me on visualization."
      ]
    },
    {
      "cell_type": "markdown",
      "metadata": {
        "id": "0Ukfv631duTA"
      },
      "source": [
        "## Grouping by 'Card Debt' and 'Income'"
      ]
    },
    {
      "cell_type": "code",
      "metadata": {
        "colab": {
          "base_uri": "https://localhost:8080/",
          "height": 279
        },
        "id": "uPSrkdRSHvHV",
        "outputId": "10879e22-6413-4dc1-b95d-5020fd572267"
      },
      "source": [
        "# 'Card Debt'and 'Income'\n",
        "# define the columns we want to work with\n",
        "x1 = df.loc[:, ['Card Debt', 'Income']].values\n",
        "\n",
        "# scale the data\n",
        "scaler = StandardScaler()\n",
        "scaled_x1 = scaler.fit_transform(x1)\n",
        "\n",
        "# Save silhouette scores for various cluster numbers in list\n",
        "silhouette_scores = []\n",
        "for i in range(2, 11):\n",
        "  kmeans = KMeans(n_clusters = i)\n",
        "  kmeans.fit(scaled_x1)\n",
        "  silhouette_scores.append(silhouette_score(scaled_x1, kmeans.labels_))\n",
        "# Visualize scores\n",
        "plt.plot(range(2, 11), silhouette_scores, marker = '.')\n",
        "plt.xlabel('Number of Clusters')\n",
        "plt.ylabel('Silhouette Score');"
      ],
      "execution_count": null,
      "outputs": [
        {
          "output_type": "display_data",
          "data": {
            "image/png": "[encoded data removed]",
            "text/plain": [
              "<Figure size 432x288 with 1 Axes>"
            ]
          },
          "metadata": {
            "needs_background": "light"
          }
        }
      ]
    },
    {
      "cell_type": "markdown",
      "metadata": {
        "id": "jcPLTs-9bySh"
      },
      "source": [
        "Per plot above 2 clusters should give us the best result"
      ]
    },
    {
      "cell_type": "code",
      "metadata": {
        "colab": {
          "base_uri": "https://localhost:8080/"
        },
        "id": "O_Na0v5hbvUB",
        "outputId": "db30f1e1-55f6-4db4-d635-1d5e01d084ea"
      },
      "source": [
        "# Instantiate KMeans with 2 clusters\n",
        "kmeans = KMeans(n_clusters = 2)\n",
        "kmeans.fit(scaled_x1)\n",
        "silhouette_score(scaled_x1, kmeans.labels_)"
      ],
      "execution_count": null,
      "outputs": [
        {
          "output_type": "execute_result",
          "data": {
            "text/plain": [
              "0.6682773070346903"
            ]
          },
          "metadata": {},
          "execution_count": 86
        }
      ]
    },
    {
      "cell_type": "markdown",
      "metadata": {
        "id": "jitmR_EkcU0g"
      },
      "source": [
        "Seperating customers based on Card Debt and Income and using KMeans gives us much better result."
      ]
    },
    {
      "cell_type": "code",
      "metadata": {
        "colab": {
          "base_uri": "https://localhost:8080/"
        },
        "id": "D1BVDWxEcjfE",
        "outputId": "5dd7d611-ce0c-4278-9308-eeca7eac81ba"
      },
      "source": [
        "# See Hierarchical clustering silhouette score on the same col\n",
        "hc = AgglomerativeClustering(n_clusters = 2)\n",
        "hc.fit(scaled_x1)\n",
        "silhouette_score(scaled_x1, hc.labels_)"
      ],
      "execution_count": null,
      "outputs": [
        {
          "output_type": "execute_result",
          "data": {
            "text/plain": [
              "0.5435863708875828"
            ]
          },
          "metadata": {},
          "execution_count": 87
        }
      ]
    },
    {
      "cell_type": "markdown",
      "metadata": {
        "id": "2t6imuqDcr4w"
      },
      "source": [
        "This model above gives lower score."
      ]
    },
    {
      "cell_type": "code",
      "metadata": {
        "colab": {
          "base_uri": "https://localhost:8080/"
        },
        "id": "uDI_CTzBcuiN",
        "outputId": "4abf5922-a352-475a-a8e2-d6a9290000e3"
      },
      "source": [
        "# See DBSCAN silhouette score\n",
        "dbs = DBSCAN(eps = 0.5, min_samples = 5).fit(scaled_x1)\n",
        "silhouette_score(scaled_x1, dbs.labels_)"
      ],
      "execution_count": null,
      "outputs": [
        {
          "output_type": "execute_result",
          "data": {
            "text/plain": [
              "0.6965886820590997"
            ]
          },
          "metadata": {},
          "execution_count": 88
        }
      ]
    },
    {
      "cell_type": "markdown",
      "metadata": {
        "id": "0H8Z6Whsc_FL"
      },
      "source": [
        "DBSCAN gives us the best result so far with grouping by Card Debt and Income."
      ]
    },
    {
      "cell_type": "markdown",
      "metadata": {
        "id": "Sd_wX3MQmkRk"
      },
      "source": [
        "## Grouping by Other Debt & DebtIncomeRatio"
      ]
    },
    {
      "cell_type": "code",
      "metadata": {
        "colab": {
          "base_uri": "https://localhost:8080/",
          "height": 279
        },
        "id": "NMtYgtkkJAda",
        "outputId": "4ceecb12-14f8-4a32-ee66-76a897b0a5e2"
      },
      "source": [
        "# define the columns we want to work with\n",
        "x2 = df.loc[:, [ 'Other Debt', 'DebtIncomeRatio']].values\n",
        "\n",
        "# scale the data\n",
        "scaler = StandardScaler()\n",
        "scaled_x2 = scaler.fit_transform(x2)\n",
        "\n",
        "# Save silhouette scores for various cluster numbers in list\n",
        "silhouette_scores = []\n",
        "for i in range(2, 11):\n",
        "  kmeans = KMeans(n_clusters = i)\n",
        "  kmeans.fit(scaled_x2)\n",
        "  silhouette_scores.append(silhouette_score(scaled_x2, kmeans.labels_))\n",
        "# Visualize scores\n",
        "plt.plot(range(2, 11), silhouette_scores, marker = '.')\n",
        "plt.xlabel('Number of Clusters')\n",
        "plt.ylabel('Silhouette Score');\n"
      ],
      "execution_count": null,
      "outputs": [
        {
          "output_type": "display_data",
          "data": {
            "image/png": "[encoded data removed]",
            "text/plain": [
              "<Figure size 432x288 with 1 Axes>"
            ]
          },
          "metadata": {
            "needs_background": "light"
          }
        }
      ]
    },
    {
      "cell_type": "code",
      "metadata": {
        "colab": {
          "base_uri": "https://localhost:8080/"
        },
        "id": "FroqTGVrdi1t",
        "outputId": "763f5570-8d6a-4915-95db-bf5688509ab0"
      },
      "source": [
        "# Instantiate KMeans with 2 clusters\n",
        "kmeans = KMeans(n_clusters = 2)\n",
        "kmeans.fit(scaled_x2)\n",
        "silhouette_score(scaled_x2, kmeans.labels_)"
      ],
      "execution_count": null,
      "outputs": [
        {
          "output_type": "execute_result",
          "data": {
            "text/plain": [
              "0.5516174904325106"
            ]
          },
          "metadata": {},
          "execution_count": 90
        }
      ]
    },
    {
      "cell_type": "code",
      "metadata": {
        "colab": {
          "base_uri": "https://localhost:8080/"
        },
        "id": "mN3UuHSTnBNm",
        "outputId": "ea2915e0-346f-4f9d-eb98-65ea58ba0922"
      },
      "source": [
        "# See Hierarchical clustering silhouette score on the same col\n",
        "hc = AgglomerativeClustering(n_clusters = 2)\n",
        "hc.fit(scaled_x2)\n",
        "silhouette_score(scaled_x2, hc.labels_)"
      ],
      "execution_count": null,
      "outputs": [
        {
          "output_type": "execute_result",
          "data": {
            "text/plain": [
              "0.5868445539971946"
            ]
          },
          "metadata": {},
          "execution_count": 91
        }
      ]
    },
    {
      "cell_type": "code",
      "metadata": {
        "colab": {
          "base_uri": "https://localhost:8080/"
        },
        "id": "97UMAj57nKVV",
        "outputId": "4a58ac48-91eb-4a25-bf28-c1ae2277142f"
      },
      "source": [
        "# See DBSCAN silhouette score\n",
        "dbs = DBSCAN(eps = 0.5, min_samples = 5).fit(scaled_x2)\n",
        "silhouette_score(scaled_x2, dbs.labels_)"
      ],
      "execution_count": null,
      "outputs": [
        {
          "output_type": "execute_result",
          "data": {
            "text/plain": [
              "0.5878236746469223"
            ]
          },
          "metadata": {},
          "execution_count": 92
        }
      ]
    },
    {
      "cell_type": "markdown",
      "metadata": {
        "id": "-jb7DGwknQHC"
      },
      "source": [
        "Comparing based on 'Other Debt' and 'DebtIncomeRatio' gave us the best result of 0.58, which is still lower then grouping by 'Card Debt' and 'Income'."
      ]
    },
    {
      "cell_type": "markdown",
      "metadata": {
        "id": "vidXDNIFJYrn"
      },
      "source": [
        "## Grouping by 'Years Employed' and 'Income'"
      ]
    },
    {
      "cell_type": "code",
      "metadata": {
        "colab": {
          "base_uri": "https://localhost:8080/",
          "height": 282
        },
        "id": "cMDH6LJZDzS8",
        "outputId": "e57d66ac-f60d-4d26-ad87-42f8798f5b33"
      },
      "source": [
        "# define the columns we want to work with\n",
        "x3 = df.loc[:, [ 'Years Employed', 'Income']].values\n",
        "\n",
        "# scale the data\n",
        "scaler = StandardScaler()\n",
        "scaled_x3 = scaler.fit_transform(x3)\n",
        "\n",
        "# Save silhouette scores for various cluster numbers in list\n",
        "silhouette_scores = []\n",
        "for i in range(2, 11):\n",
        "  kmeans = KMeans(n_clusters = i)\n",
        "  kmeans.fit(scaled_x3)\n",
        "  silhouette_scores.append(silhouette_score(scaled_x3, kmeans.labels_))\n",
        "# Visualize scores\n",
        "plt.plot(range(2, 11), silhouette_scores, marker = '.')\n",
        "plt.xlabel('Number of Clusters')\n",
        "plt.ylabel('Silhouette Score');"
      ],
      "execution_count": null,
      "outputs": [
        {
          "output_type": "display_data",
          "data": {
            "image/png": "[encoded data removed]",
            "text/plain": [
              "<Figure size 432x288 with 1 Axes>"
            ]
          },
          "metadata": {
            "needs_background": "light"
          }
        }
      ]
    },
    {
      "cell_type": "code",
      "metadata": {
        "colab": {
          "base_uri": "https://localhost:8080/"
        },
        "id": "CRg59o57omYe",
        "outputId": "4575535f-5c22-4cef-8439-151917b723fe"
      },
      "source": [
        "# Instantiate KMeans with 2 clusters\n",
        "kmeans = KMeans(n_clusters = 2)\n",
        "kmeans.fit(scaled_x3)\n",
        "silhouette_score(scaled_x3, kmeans.labels_)"
      ],
      "execution_count": null,
      "outputs": [
        {
          "output_type": "execute_result",
          "data": {
            "text/plain": [
              "0.5533612711380194"
            ]
          },
          "metadata": {},
          "execution_count": 94
        }
      ]
    },
    {
      "cell_type": "code",
      "metadata": {
        "colab": {
          "base_uri": "https://localhost:8080/"
        },
        "id": "1L4fzW-lotZV",
        "outputId": "a681851f-a0f5-41a5-b159-cdfd00950560"
      },
      "source": [
        "# See Hierarchical clustering silhouette score on the same col\n",
        "hc = AgglomerativeClustering(n_clusters = 2)\n",
        "hc.fit(scaled_x3)\n",
        "silhouette_score(scaled_x3, hc.labels_)"
      ],
      "execution_count": null,
      "outputs": [
        {
          "output_type": "execute_result",
          "data": {
            "text/plain": [
              "0.4803377427962272"
            ]
          },
          "metadata": {},
          "execution_count": 95
        }
      ]
    },
    {
      "cell_type": "code",
      "metadata": {
        "colab": {
          "base_uri": "https://localhost:8080/"
        },
        "id": "_AS656J9ozxN",
        "outputId": "f2092bce-fcde-4076-9947-9669b7c15fb3"
      },
      "source": [
        "# See DBSCAN silhouette score\n",
        "dbs = DBSCAN(eps = 0.5, min_samples = 5).fit(scaled_x3)\n",
        "silhouette_score(scaled_x3, dbs.labels_)"
      ],
      "execution_count": null,
      "outputs": [
        {
          "output_type": "execute_result",
          "data": {
            "text/plain": [
              "0.6189272511355922"
            ]
          },
          "metadata": {},
          "execution_count": 96
        }
      ]
    },
    {
      "cell_type": "markdown",
      "metadata": {
        "id": "gKzq4Fdko6Mk"
      },
      "source": [
        "Based on results above, we can see, that the best predictions we have grouping people by 'Card Debt' and 'Income' and using DBSCAN model to make predictions."
      ]
    },
    {
      "cell_type": "markdown",
      "metadata": {
        "id": "LpweqAdwrPqV"
      },
      "source": [
        "Now, I'm going to try to use all features.\n"
      ]
    },
    {
      "cell_type": "code",
      "metadata": {
        "colab": {
          "base_uri": "https://localhost:8080/",
          "height": 280
        },
        "id": "r9P9skTIri4f",
        "outputId": "7951f55f-34c7-45cb-dba9-fb4b37a048a2"
      },
      "source": [
        "# scale the data\n",
        "scaler = StandardScaler()\n",
        "scaled_df = scaler.fit_transform(df)\n",
        "\n",
        "# Save silhouette scores for various cluster numbers in list\n",
        "silhouette_scores = []\n",
        "for i in range(2, 11):\n",
        "  kmeans = KMeans(n_clusters = i)\n",
        "  kmeans.fit(scaled_df)\n",
        "  silhouette_scores.append(silhouette_score(scaled_df, kmeans.labels_))\n",
        "# Visualize scores\n",
        "plt.plot(range(2, 11), silhouette_scores, marker = '.')\n",
        "plt.xlabel('Number of Clusters')\n",
        "plt.ylabel('Silhouette Score');"
      ],
      "execution_count": null,
      "outputs": [
        {
          "output_type": "display_data",
          "data": {
            "image/png": "[encoded data removed]",
            "text/plain": [
              "<Figure size 432x288 with 1 Axes>"
            ]
          },
          "metadata": {
            "needs_background": "light"
          }
        }
      ]
    },
    {
      "cell_type": "code",
      "metadata": {
        "colab": {
          "base_uri": "https://localhost:8080/"
        },
        "id": "qn3SpYwCs9RS",
        "outputId": "2e6e34e1-16d7-4351-ced0-a92aa8119749"
      },
      "source": [
        "# Instantiate KMeans with 2 clusters\n",
        "kmeans = KMeans(n_clusters = 2)\n",
        "kmeans.fit(scaled_df)\n",
        "silhouette_score(scaled_df, kmeans.labels_)"
      ],
      "execution_count": null,
      "outputs": [
        {
          "output_type": "execute_result",
          "data": {
            "text/plain": [
              "0.31645079060431736"
            ]
          },
          "metadata": {},
          "execution_count": 98
        }
      ]
    },
    {
      "cell_type": "code",
      "metadata": {
        "colab": {
          "base_uri": "https://localhost:8080/"
        },
        "id": "0HzbUd_NtI0z",
        "outputId": "c59b29e2-62ae-4f22-a3f7-093c0042bbf7"
      },
      "source": [
        "# See Hierarchical clustering silhouette score on the same col\n",
        "hc = AgglomerativeClustering(n_clusters = 2)\n",
        "hc.fit(scaled_df)\n",
        "silhouette_score(scaled_df, hc.labels_)"
      ],
      "execution_count": null,
      "outputs": [
        {
          "output_type": "execute_result",
          "data": {
            "text/plain": [
              "0.2589153165723505"
            ]
          },
          "metadata": {},
          "execution_count": 99
        }
      ]
    },
    {
      "cell_type": "code",
      "metadata": {
        "colab": {
          "base_uri": "https://localhost:8080/"
        },
        "id": "mx9tSomPtQhu",
        "outputId": "75d634a7-f100-42ac-bee9-ffc7c316bd44"
      },
      "source": [
        "# See DBSCAN silhouette score\n",
        "dbs = DBSCAN(eps = 0.5, min_samples = 5).fit(scaled_df)\n",
        "silhouette_score(scaled_df, dbs.labels_)"
      ],
      "execution_count": null,
      "outputs": [
        {
          "output_type": "execute_result",
          "data": {
            "text/plain": [
              "-0.26941576912194276"
            ]
          },
          "metadata": {},
          "execution_count": 100
        }
      ]
    },
    {
      "cell_type": "markdown",
      "metadata": {
        "id": "BGcLMnTxudVs"
      },
      "source": [
        "So using all features gives us worth predictions, then using some features."
      ]
    }
  ]
}