{
  "nbformat": 4,
  "nbformat_minor": 0,
  "metadata": {
    "colab": {
      "name": "Basic For Loops II.ipynb",
      "provenance": [],
      "collapsed_sections": [],
      "authorship_tag": "ABX9TyNhfnSv2+HWPy6r+DLIQCjr",
      "include_colab_link": true
    },
    "kernelspec": {
      "name": "python3",
      "display_name": "Python 3"
    },
    "language_info": {
      "name": "python"
    }
  },
  "cells": [
    {
      "cell_type": "markdown",
      "metadata": {
        "id": "view-in-github",
        "colab_type": "text"
      },
      "source": [
        "<a href=\"https://colab.research.google.com/github/kay-kay-t/CodingDojo/blob/main/Basic_For_Loops_II.ipynb\" target=\"_parent\"><img src=\"https://colab.research.google.com/assets/colab-badge.svg\" alt=\"Open In Colab\"/></a>"
      ]
    },
    {
      "cell_type": "code",
      "metadata": {
        "colab": {
          "base_uri": "https://localhost:8080/"
        },
        "id": "SOdVrEr7LePF",
        "outputId": "16de3bfc-eb3c-4f9e-998a-13464d5a401c"
      },
      "source": [
        "# 1. Biggie Size\n",
        "def biggie_size(list):\n",
        "  for i in range(len(list)):\n",
        "    if list[i] > 0:\n",
        "      list[i] = \"big\"\n",
        "  return list\n",
        "biggie_size([-1, 3, 5, -5])      "
      ],
      "execution_count": 4,
      "outputs": [
        {
          "output_type": "execute_result",
          "data": {
            "text/plain": [
              "[-1, 'big', 'big', -5]"
            ]
          },
          "metadata": {},
          "execution_count": 4
        }
      ]
    },
    {
      "cell_type": "code",
      "metadata": {
        "id": "xI4HCjLGHiMK",
        "colab": {
          "base_uri": "https://localhost:8080/"
        },
        "outputId": "2b79563d-f9f7-43a6-fabe-59bedd7bc341"
      },
      "source": [
        "# 2. Count Positives\n",
        "def count_positives(list):\n",
        "  count = 0\n",
        "  for i in range(len(list)):\n",
        "    if list[i] > 0:\n",
        "      count = count + 1\n",
        "  list[len(list) - 1] = count\n",
        "  return list   \n",
        "print(count_positives([-1,1,1,1]))\n",
        "print(count_positives([1,6,-4,-2,-7,-2]))"
      ],
      "execution_count": 2,
      "outputs": [
        {
          "output_type": "stream",
          "text": [
            "[-1, 1, 1, 3]\n",
            "[1, 6, -4, -2, -7, 2]\n"
          ],
          "name": "stdout"
        }
      ]
    },
    {
      "cell_type": "code",
      "metadata": {
        "colab": {
          "base_uri": "https://localhost:8080/"
        },
        "id": "CodiesoRJlhe",
        "outputId": "4dedb746-20f1-4dc3-a350-e2da5227ecc3"
      },
      "source": [
        "# 3. Sum Total\n",
        "def sum_total(list):\n",
        "  sum = 0\n",
        "  for i in list:\n",
        "    sum = sum + i\n",
        "  return sum\n",
        "print(sum_total([1,2,3,4]))\n",
        "print(sum_total([6,3,-2]))  "
      ],
      "execution_count": 1,
      "outputs": [
        {
          "output_type": "stream",
          "text": [
            "10\n",
            "7\n"
          ],
          "name": "stdout"
        }
      ]
    }
  ]
}