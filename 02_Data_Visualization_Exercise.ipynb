{
  "nbformat": 4,
  "nbformat_minor": 0,
  "metadata": {
    "colab": {
      "name": "02_Data Visualization Exercise.ipynb",
      "provenance": [],
      "mount_file_id": "1BWxB7b09g1uUhNy-LnDzfYFac671oby5",
      "authorship_tag": "ABX9TyOt1340/KSmzYqjZEC5sLyj",
      "include_colab_link": true
    },
    "kernelspec": {
      "name": "python3",
      "display_name": "Python 3"
    },
    "language_info": {
      "name": "python"
    }
  },
  "cells": [
    {
      "cell_type": "markdown",
      "metadata": {
        "id": "view-in-github",
        "colab_type": "text"
      },
      "source": [
        "<a href=\"https://colab.research.google.com/github/kay-kay-t/CodingDojo/blob/main/02_Data_Visualization_Exercise.ipynb\" target=\"_parent\"><img src=\"https://colab.research.google.com/assets/colab-badge.svg\" alt=\"Open In Colab\"/></a>"
      ]
    },
    {
      "cell_type": "code",
      "metadata": {
        "colab": {
          "base_uri": "https://localhost:8080/"
        },
        "id": "jVVyznRUkzd0",
        "outputId": "9a0813ee-61d9-4cf9-ebda-ad30cdf7db06"
      },
      "source": [
        "# mount data\n",
        "from google.colab import drive\n",
        "drive.mount('/content/drive')"
      ],
      "execution_count": 104,
      "outputs": [
        {
          "output_type": "stream",
          "name": "stdout",
          "text": [
            "Drive already mounted at /content/drive; to attempt to forcibly remount, call drive.mount(\"/content/drive\", force_remount=True).\n"
          ]
        }
      ]
    },
    {
      "cell_type": "code",
      "metadata": {
        "id": "OlMZeCvck-Sk"
      },
      "source": [
        "# import libraries\n",
        "import matplotlib.pyplot as plt\n",
        "import pandas as pd\n",
        "import seaborn as sns"
      ],
      "execution_count": 105,
      "outputs": []
    },
    {
      "cell_type": "markdown",
      "metadata": {
        "id": "_4LpOuALaL3l"
      },
      "source": [
        "Loading the dataset that shows parcentage of males and females preferances on pizza topings."
      ]
    },
    {
      "cell_type": "code",
      "metadata": {
        "colab": {
          "base_uri": "https://localhost:8080/",
          "height": 634
        },
        "id": "ECGZynqBlHyW",
        "outputId": "0145c5ff-bf86-4b64-d9ab-8b8327573784"
      },
      "source": [
        "# load the dataset\n",
        "pizza = pd.read_excel('/content/PizzaWeek.xlsx')\n",
        "pizza"
      ],
      "execution_count": 106,
      "outputs": [
        {
          "output_type": "execute_result",
          "data": {
            "text/html": [
              "<div>\n",
              "<style scoped>\n",
              "    .dataframe tbody tr th:only-of-type {\n",
              "        vertical-align: middle;\n",
              "    }\n",
              "\n",
              "    .dataframe tbody tr th {\n",
              "        vertical-align: top;\n",
              "    }\n",
              "\n",
              "    .dataframe thead th {\n",
              "        text-align: right;\n",
              "    }\n",
              "</style>\n",
              "<table border=\"1\" class=\"dataframe\">\n",
              "  <thead>\n",
              "    <tr style=\"text-align: right;\">\n",
              "      <th></th>\n",
              "      <th>Topping</th>\n",
              "      <th>Total</th>\n",
              "      <th>Male</th>\n",
              "      <th>Female</th>\n",
              "    </tr>\n",
              "  </thead>\n",
              "  <tbody>\n",
              "    <tr>\n",
              "      <th>0</th>\n",
              "      <td>Mushrooms</td>\n",
              "      <td>65</td>\n",
              "      <td>63</td>\n",
              "      <td>68</td>\n",
              "    </tr>\n",
              "    <tr>\n",
              "      <th>1</th>\n",
              "      <td>Onion</td>\n",
              "      <td>62</td>\n",
              "      <td>62</td>\n",
              "      <td>63</td>\n",
              "    </tr>\n",
              "    <tr>\n",
              "      <th>2</th>\n",
              "      <td>Ham</td>\n",
              "      <td>61</td>\n",
              "      <td>66</td>\n",
              "      <td>56</td>\n",
              "    </tr>\n",
              "    <tr>\n",
              "      <th>3</th>\n",
              "      <td>Peppers</td>\n",
              "      <td>60</td>\n",
              "      <td>63</td>\n",
              "      <td>57</td>\n",
              "    </tr>\n",
              "    <tr>\n",
              "      <th>4</th>\n",
              "      <td>Chicken</td>\n",
              "      <td>56</td>\n",
              "      <td>60</td>\n",
              "      <td>52</td>\n",
              "    </tr>\n",
              "    <tr>\n",
              "      <th>5</th>\n",
              "      <td>Pepperoni</td>\n",
              "      <td>56</td>\n",
              "      <td>66</td>\n",
              "      <td>46</td>\n",
              "    </tr>\n",
              "    <tr>\n",
              "      <th>6</th>\n",
              "      <td>Tomato</td>\n",
              "      <td>51</td>\n",
              "      <td>49</td>\n",
              "      <td>54</td>\n",
              "    </tr>\n",
              "    <tr>\n",
              "      <th>7</th>\n",
              "      <td>Bacon</td>\n",
              "      <td>49</td>\n",
              "      <td>56</td>\n",
              "      <td>43</td>\n",
              "    </tr>\n",
              "    <tr>\n",
              "      <th>8</th>\n",
              "      <td>Pineapple</td>\n",
              "      <td>42</td>\n",
              "      <td>40</td>\n",
              "      <td>44</td>\n",
              "    </tr>\n",
              "    <tr>\n",
              "      <th>9</th>\n",
              "      <td>Sweetcorn</td>\n",
              "      <td>42</td>\n",
              "      <td>38</td>\n",
              "      <td>46</td>\n",
              "    </tr>\n",
              "    <tr>\n",
              "      <th>10</th>\n",
              "      <td>Beef</td>\n",
              "      <td>36</td>\n",
              "      <td>47</td>\n",
              "      <td>26</td>\n",
              "    </tr>\n",
              "    <tr>\n",
              "      <th>11</th>\n",
              "      <td>Olives</td>\n",
              "      <td>33</td>\n",
              "      <td>33</td>\n",
              "      <td>32</td>\n",
              "    </tr>\n",
              "    <tr>\n",
              "      <th>12</th>\n",
              "      <td>Chillies</td>\n",
              "      <td>31</td>\n",
              "      <td>42</td>\n",
              "      <td>22</td>\n",
              "    </tr>\n",
              "    <tr>\n",
              "      <th>13</th>\n",
              "      <td>Jalapenos</td>\n",
              "      <td>30</td>\n",
              "      <td>39</td>\n",
              "      <td>21</td>\n",
              "    </tr>\n",
              "    <tr>\n",
              "      <th>14</th>\n",
              "      <td>Spinach</td>\n",
              "      <td>26</td>\n",
              "      <td>20</td>\n",
              "      <td>32</td>\n",
              "    </tr>\n",
              "    <tr>\n",
              "      <th>15</th>\n",
              "      <td>Pork</td>\n",
              "      <td>25</td>\n",
              "      <td>34</td>\n",
              "      <td>17</td>\n",
              "    </tr>\n",
              "    <tr>\n",
              "      <th>16</th>\n",
              "      <td>Tuna</td>\n",
              "      <td>22</td>\n",
              "      <td>23</td>\n",
              "      <td>21</td>\n",
              "    </tr>\n",
              "    <tr>\n",
              "      <th>17</th>\n",
              "      <td>Anchovies</td>\n",
              "      <td>18</td>\n",
              "      <td>21</td>\n",
              "      <td>15</td>\n",
              "    </tr>\n",
              "    <tr>\n",
              "      <th>18</th>\n",
              "      <td>Something else</td>\n",
              "      <td>11</td>\n",
              "      <td>12</td>\n",
              "      <td>10</td>\n",
              "    </tr>\n",
              "  </tbody>\n",
              "</table>\n",
              "</div>"
            ],
            "text/plain": [
              "           Topping  Total  Male  Female\n",
              "0        Mushrooms     65    63      68\n",
              "1            Onion     62    62      63\n",
              "2              Ham     61    66      56\n",
              "3          Peppers     60    63      57\n",
              "4          Chicken     56    60      52\n",
              "5        Pepperoni     56    66      46\n",
              "6           Tomato     51    49      54\n",
              "7            Bacon     49    56      43\n",
              "8        Pineapple     42    40      44\n",
              "9        Sweetcorn     42    38      46\n",
              "10            Beef     36    47      26\n",
              "11          Olives     33    33      32\n",
              "12        Chillies     31    42      22\n",
              "13       Jalapenos     30    39      21\n",
              "14         Spinach     26    20      32\n",
              "15            Pork     25    34      17\n",
              "16            Tuna     22    23      21\n",
              "17       Anchovies     18    21      15\n",
              "18  Something else     11    12      10"
            ]
          },
          "metadata": {},
          "execution_count": 106
        }
      ]
    },
    {
      "cell_type": "code",
      "metadata": {
        "colab": {
          "base_uri": "https://localhost:8080/"
        },
        "id": "smREJJadmzdT",
        "outputId": "33b1ddf1-d6a4-48db-91ac-8069c35c1571"
      },
      "source": [
        "# Getting some info on this data \n",
        "pizza.info()"
      ],
      "execution_count": 107,
      "outputs": [
        {
          "output_type": "stream",
          "name": "stdout",
          "text": [
            "<class 'pandas.core.frame.DataFrame'>\n",
            "RangeIndex: 19 entries, 0 to 18\n",
            "Data columns (total 4 columns):\n",
            " #   Column   Non-Null Count  Dtype \n",
            "---  ------   --------------  ----- \n",
            " 0   Topping  19 non-null     object\n",
            " 1   Total    19 non-null     int64 \n",
            " 2   Male     19 non-null     int64 \n",
            " 3   Female   19 non-null     int64 \n",
            "dtypes: int64(3), object(1)\n",
            "memory usage: 736.0+ bytes\n"
          ]
        }
      ]
    },
    {
      "cell_type": "markdown",
      "metadata": {
        "id": "uIs1K_UecMa6"
      },
      "source": [
        ""
      ]
    },
    {
      "cell_type": "code",
      "metadata": {
        "colab": {
          "base_uri": "https://localhost:8080/",
          "height": 295
        },
        "id": "mXHU3G0UcLwK",
        "outputId": "7ff663b2-413d-4473-c6f9-a7adc58fa463"
      },
      "source": [
        "round(pizza.describe())"
      ],
      "execution_count": 108,
      "outputs": [
        {
          "output_type": "execute_result",
          "data": {
            "text/html": [
              "<div>\n",
              "<style scoped>\n",
              "    .dataframe tbody tr th:only-of-type {\n",
              "        vertical-align: middle;\n",
              "    }\n",
              "\n",
              "    .dataframe tbody tr th {\n",
              "        vertical-align: top;\n",
              "    }\n",
              "\n",
              "    .dataframe thead th {\n",
              "        text-align: right;\n",
              "    }\n",
              "</style>\n",
              "<table border=\"1\" class=\"dataframe\">\n",
              "  <thead>\n",
              "    <tr style=\"text-align: right;\">\n",
              "      <th></th>\n",
              "      <th>Total</th>\n",
              "      <th>Male</th>\n",
              "      <th>Female</th>\n",
              "    </tr>\n",
              "  </thead>\n",
              "  <tbody>\n",
              "    <tr>\n",
              "      <th>count</th>\n",
              "      <td>19.0</td>\n",
              "      <td>19.0</td>\n",
              "      <td>19.0</td>\n",
              "    </tr>\n",
              "    <tr>\n",
              "      <th>mean</th>\n",
              "      <td>41.0</td>\n",
              "      <td>44.0</td>\n",
              "      <td>38.0</td>\n",
              "    </tr>\n",
              "    <tr>\n",
              "      <th>std</th>\n",
              "      <td>17.0</td>\n",
              "      <td>17.0</td>\n",
              "      <td>18.0</td>\n",
              "    </tr>\n",
              "    <tr>\n",
              "      <th>min</th>\n",
              "      <td>11.0</td>\n",
              "      <td>12.0</td>\n",
              "      <td>10.0</td>\n",
              "    </tr>\n",
              "    <tr>\n",
              "      <th>25%</th>\n",
              "      <td>28.0</td>\n",
              "      <td>34.0</td>\n",
              "      <td>22.0</td>\n",
              "    </tr>\n",
              "    <tr>\n",
              "      <th>50%</th>\n",
              "      <td>42.0</td>\n",
              "      <td>42.0</td>\n",
              "      <td>43.0</td>\n",
              "    </tr>\n",
              "    <tr>\n",
              "      <th>75%</th>\n",
              "      <td>56.0</td>\n",
              "      <td>61.0</td>\n",
              "      <td>53.0</td>\n",
              "    </tr>\n",
              "    <tr>\n",
              "      <th>max</th>\n",
              "      <td>65.0</td>\n",
              "      <td>66.0</td>\n",
              "      <td>68.0</td>\n",
              "    </tr>\n",
              "  </tbody>\n",
              "</table>\n",
              "</div>"
            ],
            "text/plain": [
              "       Total  Male  Female\n",
              "count   19.0  19.0    19.0\n",
              "mean    41.0  44.0    38.0\n",
              "std     17.0  17.0    18.0\n",
              "min     11.0  12.0    10.0\n",
              "25%     28.0  34.0    22.0\n",
              "50%     42.0  42.0    43.0\n",
              "75%     56.0  61.0    53.0\n",
              "max     65.0  66.0    68.0"
            ]
          },
          "metadata": {},
          "execution_count": 108
        }
      ]
    },
    {
      "cell_type": "code",
      "metadata": {
        "colab": {
          "base_uri": "https://localhost:8080/",
          "height": 566
        },
        "id": "WIYllHFEBvpq",
        "outputId": "2c298e59-ea37-4e78-af65-990f0ae5fa38"
      },
      "source": [
        "# Creating horizontal barplot with seaborn\n",
        "sns.set(rc={'figure.figsize':(11.7,8.27), 'axes.facecolor':'white', 'figure.facecolor':'pink',})\n",
        "sns.barplot(x = pizza['Total'], \n",
        "            y = pizza['Topping'],\n",
        "            order=pizza.sort_values('Total',ascending = True).Topping,\n",
        "            palette=\"RdPu\")\n",
        "plt.title('Average Pizza Topping Popularity');\n",
        "plt.show()\n",
        "\n",
        "print('Barplot above shows, that Mushrooms is the most popular pizza toping among both women and men.\\n\"Something else\" was picked the least and Anchovies are on the second place for unpopularity.')"
      ],
      "execution_count": 109,
      "outputs": [
        {
          "output_type": "display_data",
          "data": {
            "image/png": "[encoded data removed]",
            "text/plain": [
              "<Figure size 842.4x595.44 with 1 Axes>"
            ]
          },
          "metadata": {}
        },
        {
          "output_type": "stream",
          "name": "stdout",
          "text": [
            "Barplot above shows, that Mushrooms is the most popular pizza toping among both women and men.\n",
            "\"Something else\" was picked the least and Anchovies are on the second place for unpopularity.\n"
          ]
        }
      ]
    },
    {
      "cell_type": "code",
      "metadata": {
        "colab": {
          "base_uri": "https://localhost:8080/",
          "height": 80
        },
        "id": "TU5I2PBhc49R",
        "outputId": "e0ba9150-ec36-4f49-8d37-19af14deda7d"
      },
      "source": [
        "# Trying to look closer on popularity of Mushrooms\n",
        "mush = pizza.loc[pizza['Topping'] == 'Mushrooms', :] \n",
        "mush"
      ],
      "execution_count": 99,
      "outputs": [
        {
          "output_type": "execute_result",
          "data": {
            "text/html": [
              "<div>\n",
              "<style scoped>\n",
              "    .dataframe tbody tr th:only-of-type {\n",
              "        vertical-align: middle;\n",
              "    }\n",
              "\n",
              "    .dataframe tbody tr th {\n",
              "        vertical-align: top;\n",
              "    }\n",
              "\n",
              "    .dataframe thead th {\n",
              "        text-align: right;\n",
              "    }\n",
              "</style>\n",
              "<table border=\"1\" class=\"dataframe\">\n",
              "  <thead>\n",
              "    <tr style=\"text-align: right;\">\n",
              "      <th></th>\n",
              "      <th>Topping</th>\n",
              "      <th>Total</th>\n",
              "      <th>Male</th>\n",
              "      <th>Female</th>\n",
              "    </tr>\n",
              "  </thead>\n",
              "  <tbody>\n",
              "    <tr>\n",
              "      <th>0</th>\n",
              "      <td>Mushrooms</td>\n",
              "      <td>65</td>\n",
              "      <td>63</td>\n",
              "      <td>68</td>\n",
              "    </tr>\n",
              "  </tbody>\n",
              "</table>\n",
              "</div>"
            ],
            "text/plain": [
              "     Topping  Total  Male  Female\n",
              "0  Mushrooms     65    63      68"
            ]
          },
          "metadata": {},
          "execution_count": 99
        }
      ]
    },
    {
      "cell_type": "code",
      "metadata": {
        "colab": {
          "base_uri": "https://localhost:8080/",
          "height": 550
        },
        "id": "INOaaiBne1uk",
        "outputId": "be1d36ef-bbfa-4cfc-df62-cc0082382ecc"
      },
      "source": [
        "# Using barplot to see difference between Male and Female Mushrooms lovers\n",
        "genders= ['Male', 'Female']\n",
        "percentage = [63, 68]\n",
        "\n",
        "sns.set_style(\"whitegrid\")\n",
        "# sns.histplot(y = percentage, x = genders, color='orchid' )\n",
        "\n",
        "plt.bar(genders, percentage, color='orchid', alpha=0.7)\n",
        "plt.grid(axis = 'x')\n",
        "\n",
        "plt.title('Percentage of Male and Female, who like mushrooms in their pizza');\n",
        "plt.show()\n",
        "\n",
        "print('Per histplot above, we can see, that there is only a slight percentage difference between women and men,\\nwho likes mushrooms in their pizza: women is a little bit higher.')"
      ],
      "execution_count": 111,
      "outputs": [
        {
          "output_type": "display_data",
          "data": {
            "image/png": "[encoded data removed]",
            "text/plain": [
              "<Figure size 842.4x595.44 with 1 Axes>"
            ]
          },
          "metadata": {}
        },
        {
          "output_type": "stream",
          "name": "stdout",
          "text": [
            "Per histplot above, we can see, that there is only a slight percentage difference between women and men,\n",
            "who likes mushrooms in their pizza: women is a little bit higher.\n"
          ]
        }
      ]
    },
    {
      "cell_type": "code",
      "metadata": {
        "id": "drSmA6eOnd5_"
      },
      "source": [
        "# mush = pizza['Topping'] == 'Mushrooms'\n",
        "# fem = pizza['Female']\n",
        "# mal = pizza['Male']\n",
        "# plt.hist(mush, fem)\n",
        "\n",
        "\n",
        "# plt.hist(mush, fem, color='orchid' )"
      ],
      "execution_count": 101,
      "outputs": []
    },
    {
      "cell_type": "code",
      "metadata": {
        "colab": {
          "base_uri": "https://localhost:8080/",
          "height": 550
        },
        "id": "1QtmmgFtqOJY",
        "outputId": "528e8025-f32a-45bf-924b-24925292c715"
      },
      "source": [
        "#Creating scatterplot to see relations between all topping preferences for Male and Female\n",
        "\n",
        "sns.scatterplot(x = 'Male', y = 'Female', data = pizza, hue = 'Topping',\n",
        "                palette=\"hot\", s = 800)\n",
        "sns.set_style(\"whitegrid\")\n",
        "plt.legend(bbox_to_anchor = (1, 1), loc = 'upper left', markerscale=2);\n",
        "\n",
        "plt.title('Correlation between Female and Male pizza toppings preferences');\n",
        "plt.show()\n",
        "\n",
        "print('Scatterplot above shows relationships between Female and Male Topping preferences.')\n"
      ],
      "execution_count": 113,
      "outputs": [
        {
          "output_type": "display_data",
          "data": {
            "image/png": "[encoded data removed]",
            "text/plain": [
              "<Figure size 842.4x595.44 with 1 Axes>"
            ]
          },
          "metadata": {}
        },
        {
          "output_type": "stream",
          "name": "stdout",
          "text": [
            "Scatterplot above shows relationships between Female and Male Topping preferences.\n"
          ]
        }
      ]
    }
  ]
}