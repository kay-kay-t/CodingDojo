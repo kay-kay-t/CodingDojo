{
  "nbformat": 4,
  "nbformat_minor": 0,
  "metadata": {
    "colab": {
      "name": "Hello World.ipynb",
      "provenance": [],
      "include_colab_link": true
    },
    "kernelspec": {
      "name": "python3",
      "display_name": "Python 3"
    },
    "language_info": {
      "name": "python"
    }
  },
  "cells": [
    {
      "cell_type": "markdown",
      "metadata": {
        "id": "view-in-github",
        "colab_type": "text"
      },
      "source": [
        "<a href=\"https://colab.research.google.com/github/kay-kay-t/CodingDojo/blob/main/Hello_World.ipynb\" target=\"_parent\"><img src=\"https://colab.research.google.com/assets/colab-badge.svg\" alt=\"Open In Colab\"/></a>"
      ]
    },
    {
      "cell_type": "code",
      "metadata": {
        "colab": {
          "base_uri": "https://localhost:8080/"
        },
        "id": "kT62Np6jfse5",
        "outputId": "b90cb585-31b8-4fef-f914-394e7ad920e6"
      },
      "source": [
        "# 1. TASK: print \"Hello World\"\n",
        "print( \"Hello World\")\n",
        "\n"
      ],
      "execution_count": null,
      "outputs": [
        {
          "output_type": "stream",
          "text": [
            "Hello World\n"
          ],
          "name": "stdout"
        }
      ]
    },
    {
      "cell_type": "code",
      "metadata": {
        "colab": {
          "base_uri": "https://localhost:8080/"
        },
        "id": "ow_PRjVkf47k",
        "outputId": "146ba585-9efd-4859-b172-aff7cc20f252"
      },
      "source": [
        "# 2. print \"Hello Noelle!\" with the name in a variable\n",
        "name = \"Noelle\"\n",
        "print(\"Hello \" + name + \"!\")"
      ],
      "execution_count": null,
      "outputs": [
        {
          "output_type": "stream",
          "text": [
            "Hello Noelle!\n"
          ],
          "name": "stdout"
        }
      ]
    },
    {
      "cell_type": "code",
      "metadata": {
        "colab": {
          "base_uri": "https://localhost:8080/"
        },
        "id": "fiVdDKYggS78",
        "outputId": "5a557237-0475-4d78-cc71-9e5b3504e95e"
      },
      "source": [
        "# 3. print \"Hello 42!\" with the number in a variable\n",
        "name = 42\n",
        "print(\"Hello \", name, \"!\", sep=\"\")\t# with a comma\n",
        "\n"
      ],
      "execution_count": null,
      "outputs": [
        {
          "output_type": "stream",
          "text": [
            "Hello 42!\n"
          ],
          "name": "stdout"
        }
      ]
    },
    {
      "cell_type": "code",
      "metadata": {
        "colab": {
          "base_uri": "https://localhost:8080/"
        },
        "id": "AO36FapriH9E",
        "outputId": "0ee10d5b-156d-4598-a6a5-bba930a3757d"
      },
      "source": [
        "# 4. print \"I love to eat sushi and pizza.\" with the foods in variables\n",
        "fave_food1 = \"sushi\"\n",
        "fave_food2 = \"pizza\"\n",
        "print(\"I love to eat {} and {}.\".format(fave_food1, fave_food2)) # with .format()\n",
        "print(f\"I love to eat {fave_food1} and {fave_food2}.\" ) # with an f string"
      ],
      "execution_count": null,
      "outputs": [
        {
          "output_type": "stream",
          "text": [
            "I love to eat sushi and pizza.\n",
            "I love to eat sushi and pizza.\n"
          ],
          "name": "stdout"
        }
      ]
    }
  ]
}
