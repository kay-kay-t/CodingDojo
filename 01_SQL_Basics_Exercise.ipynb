{
  "nbformat": 4,
  "nbformat_minor": 0,
  "metadata": {
    "anaconda-cloud": {},
    "celltoolbar": "Slideshow",
    "kernelspec": {
      "display_name": "Python 3",
      "language": "python",
      "name": "python3"
    },
    "language_info": {
      "codemirror_mode": {
        "name": "ipython",
        "version": 3
      },
      "file_extension": ".py",
      "mimetype": "text/x-python",
      "name": "python",
      "nbconvert_exporter": "python",
      "pygments_lexer": "ipython3",
      "version": "3.7.6"
    },
    "colab": {
      "name": "01_SQL Basics Exercise.ipynb",
      "provenance": [],
      "collapsed_sections": [],
      "include_colab_link": true
    }
  },
  "cells": [
    {
      "cell_type": "markdown",
      "metadata": {
        "id": "view-in-github",
        "colab_type": "text"
      },
      "source": [
        "<a href=\"https://colab.research.google.com/github/kay-kay-t/CodingDojo/blob/main/01_SQL_Basics_Exercise.ipynb\" target=\"_parent\"><img src=\"https://colab.research.google.com/assets/colab-badge.svg\" alt=\"Open In Colab\"/></a>"
      ]
    },
    {
      "cell_type": "markdown",
      "metadata": {
        "id": "38idX8Wk_xBV"
      },
      "source": [
        "<center>\n",
        "<img src=\"https://course_report_production.s3.amazonaws.com/rich/rich_files/rich_files/2470/s300/cd-logo-blue-600x600.png\" alt=\"Coding Dojo Logo\" class=\"center\" height=\"50\">\n",
        "\n",
        "# SQL Basics Exercise\n",
        "\n",
        "*Make a copy of this notebook to edit!*\n",
        "```\n",
        "File > Save a copy in Drive\n",
        "```\n",
        "    \n",
        "</center>\n",
        "\n",
        "[SQLAlchemy](https://www.sqlalchemy.org/) is a wrapper for Python that allows us to write SQL queries in Python. We will use this to practice our SQL basics in Python.\n",
        "\n",
        "First, we need to connect to a database. We will just read a table into SQL for this step. We will be creating a [SQLite](https://sqlite.org/index.html) database and loading our [data](https://drive.google.com/file/d/18MgOmIHHafoubgp2d_7GM6GWroxb0vPe/view?usp=sharing) into that database.\n",
        "\n",
        "The data (from [this source](https://data.world/sikkim/school)) describes details of various schools."
      ]
    },
    {
      "cell_type": "code",
      "metadata": {
        "id": "4whVGi2Wud1w"
      },
      "source": [
        "# imports\n",
        "import pandas as pd\n",
        "from sqlalchemy import create_engine"
      ],
      "execution_count": 2,
      "outputs": []
    },
    {
      "cell_type": "code",
      "metadata": {
        "id": "vttB7TWAUF9B",
        "colab": {
          "base_uri": "https://localhost:8080/",
          "height": 318
        },
        "outputId": "6671187f-15ba-4590-ebbb-7e721583c6d0"
      },
      "source": [
        "# load data - change the path to match your drive!\n",
        "school = pd.read_csv('/content/drive/MyDrive/Data/School_Details.csv')\n",
        "# make sure it loaded correctly\n",
        "school.head(2)"
      ],
      "execution_count": 3,
      "outputs": [
        {
          "output_type": "execute_result",
          "data": {
            "text/html": [
              "<div>\n",
              "<style scoped>\n",
              "    .dataframe tbody tr th:only-of-type {\n",
              "        vertical-align: middle;\n",
              "    }\n",
              "\n",
              "    .dataframe tbody tr th {\n",
              "        vertical-align: top;\n",
              "    }\n",
              "\n",
              "    .dataframe thead th {\n",
              "        text-align: right;\n",
              "    }\n",
              "</style>\n",
              "<table border=\"1\" class=\"dataframe\">\n",
              "  <thead>\n",
              "    <tr style=\"text-align: right;\">\n",
              "      <th></th>\n",
              "      <th>DistrictName</th>\n",
              "      <th>EstablishmentCode</th>\n",
              "      <th>EstablishmentName</th>\n",
              "      <th>BRCName</th>\n",
              "      <th>CRCName</th>\n",
              "      <th>SchoolLevel</th>\n",
              "      <th>ManagementName</th>\n",
              "      <th>LocalityHabitation</th>\n",
              "      <th>SubdivisionName</th>\n",
              "      <th>ConstituencyName</th>\n",
              "      <th>RevenueBlockName</th>\n",
              "      <th>CivicBodyName</th>\n",
              "      <th>WardName</th>\n",
              "      <th>PostOfficeName</th>\n",
              "      <th>PhoneNo</th>\n",
              "      <th>FaxNo</th>\n",
              "      <th>EmailID</th>\n",
              "      <th>Website</th>\n",
              "      <th>LocatedInRuralOrUrban</th>\n",
              "      <th>DiseCode</th>\n",
              "      <th>EstablishedDate</th>\n",
              "      <th>DistrictHQDistance (in Km)</th>\n",
              "      <th>CRCDistance (in Km)</th>\n",
              "      <th>BACDistance (in Km)</th>\n",
              "      <th>IsRecognized</th>\n",
              "      <th>RecognizedBy</th>\n",
              "      <th>ContactPersonName</th>\n",
              "      <th>LowestClass</th>\n",
              "      <th>HighestClass</th>\n",
              "      <th>BoardName</th>\n",
              "    </tr>\n",
              "  </thead>\n",
              "  <tbody>\n",
              "    <tr>\n",
              "      <th>0</th>\n",
              "      <td>East</td>\n",
              "      <td>S0169</td>\n",
              "      <td>BUDANG GOVERNMENT PRIMARY SCHOOL (E)</td>\n",
              "      <td>Duga Brc</td>\n",
              "      <td>Central Pendam Government Senior Secondary School</td>\n",
              "      <td>PS</td>\n",
              "      <td>State Govt.</td>\n",
              "      <td>BUDANG</td>\n",
              "      <td>Gangtok</td>\n",
              "      <td>Rhenock</td>\n",
              "      <td>Central Pendam</td>\n",
              "      <td>Central Pendam</td>\n",
              "      <td>Sajong</td>\n",
              "      <td>Upper Pendam</td>\n",
              "      <td>NaN</td>\n",
              "      <td>NaN</td>\n",
              "      <td>NaN</td>\n",
              "      <td>NaN</td>\n",
              "      <td>Urban Area</td>\n",
              "      <td>NaN</td>\n",
              "      <td>28126</td>\n",
              "      <td>58.0</td>\n",
              "      <td>8.0</td>\n",
              "      <td>16.0</td>\n",
              "      <td>Recognized</td>\n",
              "      <td>HRDD</td>\n",
              "      <td>NaN</td>\n",
              "      <td>Class 1</td>\n",
              "      <td>Class 5</td>\n",
              "      <td>NaN</td>\n",
              "    </tr>\n",
              "    <tr>\n",
              "      <th>1</th>\n",
              "      <td>East</td>\n",
              "      <td>S0099</td>\n",
              "      <td>CENTRAL PENDAM GOVERNMENT SENIOR SECONDARY SCHOOL</td>\n",
              "      <td>Duga Brc</td>\n",
              "      <td>Central Pendam Government Senior Secondary School</td>\n",
              "      <td>SSS</td>\n",
              "      <td>State Govt.</td>\n",
              "      <td>CENTRAL PENDAM</td>\n",
              "      <td>Gangtok</td>\n",
              "      <td>West Pandam</td>\n",
              "      <td>Central Pendam</td>\n",
              "      <td>Central Pendam</td>\n",
              "      <td>Karmithang</td>\n",
              "      <td>Upper Pendam</td>\n",
              "      <td>3592263812</td>\n",
              "      <td>NaN</td>\n",
              "      <td>NaN</td>\n",
              "      <td>NaN</td>\n",
              "      <td>Urban Area</td>\n",
              "      <td>800401</td>\n",
              "      <td>15342</td>\n",
              "      <td>50.0</td>\n",
              "      <td>0.0</td>\n",
              "      <td>6.0</td>\n",
              "      <td>Recognized</td>\n",
              "      <td>HRDD</td>\n",
              "      <td>NaN</td>\n",
              "      <td>Class 1</td>\n",
              "      <td>Class 12</td>\n",
              "      <td>C.B.S.E.</td>\n",
              "    </tr>\n",
              "  </tbody>\n",
              "</table>\n",
              "</div>"
            ],
            "text/plain": [
              "  DistrictName EstablishmentCode  ... HighestClass BoardName\n",
              "0         East             S0169  ...      Class 5       NaN\n",
              "1         East             S0099  ...     Class 12  C.B.S.E.\n",
              "\n",
              "[2 rows x 30 columns]"
            ]
          },
          "metadata": {},
          "execution_count": 3
        }
      ]
    },
    {
      "cell_type": "code",
      "metadata": {
        "colab": {
          "base_uri": "https://localhost:8080/",
          "height": 0
        },
        "id": "P2LGuGV6Vq6G",
        "outputId": "e40257d0-8980-4498-8b73-0e5a7302f6c5"
      },
      "source": [
        "school. info()"
      ],
      "execution_count": 9,
      "outputs": [
        {
          "output_type": "stream",
          "name": "stdout",
          "text": [
            "<class 'pandas.core.frame.DataFrame'>\n",
            "RangeIndex: 1249 entries, 0 to 1248\n",
            "Data columns (total 30 columns):\n",
            " #   Column                      Non-Null Count  Dtype  \n",
            "---  ------                      --------------  -----  \n",
            " 0   DistrictName                1249 non-null   object \n",
            " 1   EstablishmentCode           1249 non-null   object \n",
            " 2   EstablishmentName           1249 non-null   object \n",
            " 3   BRCName                     1249 non-null   object \n",
            " 4   CRCName                     1249 non-null   object \n",
            " 5   SchoolLevel                 1246 non-null   object \n",
            " 6   ManagementName              1246 non-null   object \n",
            " 7   LocalityHabitation          1221 non-null   object \n",
            " 8   SubdivisionName             1241 non-null   object \n",
            " 9   ConstituencyName            1249 non-null   object \n",
            " 10  RevenueBlockName            1249 non-null   object \n",
            " 11  CivicBodyName               1249 non-null   object \n",
            " 12  WardName                    1249 non-null   object \n",
            " 13  PostOfficeName              1249 non-null   object \n",
            " 14  PhoneNo                     794 non-null    object \n",
            " 15  FaxNo                       20 non-null     object \n",
            " 16  EmailID                     182 non-null    object \n",
            " 17  Website                     24 non-null     object \n",
            " 18  LocatedInRuralOrUrban       1249 non-null   object \n",
            " 19  DiseCode                    439 non-null    object \n",
            " 20  EstablishedDate             1230 non-null   object \n",
            " 21  DistrictHQDistance (in Km)  1246 non-null   float64\n",
            " 22  CRCDistance (in Km)         1246 non-null   float64\n",
            " 23  BACDistance (in Km)         1246 non-null   float64\n",
            " 24  IsRecognized                1246 non-null   object \n",
            " 25  RecognizedBy                1004 non-null   object \n",
            " 26  ContactPersonName           0 non-null      float64\n",
            " 27  LowestClass                 1246 non-null   object \n",
            " 28  HighestClass                1246 non-null   object \n",
            " 29  BoardName                   784 non-null    object \n",
            "dtypes: float64(4), object(26)\n",
            "memory usage: 292.9+ KB\n"
          ]
        }
      ]
    },
    {
      "cell_type": "code",
      "metadata": {
        "colab": {
          "base_uri": "https://localhost:8080/",
          "height": 0
        },
        "id": "lJk2qe-cTsdp",
        "outputId": "1c704a0f-8a68-414f-8cfd-d2c6a964799d"
      },
      "source": [
        "from google.colab import drive\n",
        "drive.mount('/content/drive')"
      ],
      "execution_count": 1,
      "outputs": [
        {
          "output_type": "stream",
          "name": "stdout",
          "text": [
            "Mounted at /content/drive\n"
          ]
        }
      ]
    },
    {
      "cell_type": "code",
      "metadata": {
        "id": "PQGdfEEEudzI"
      },
      "source": [
        "# create sqlite engine\n",
        "engine = create_engine('sqlite:///school.db', echo=True)\n",
        "# create connection to engine\n",
        "conn = engine.connect()"
      ],
      "execution_count": 4,
      "outputs": []
    },
    {
      "cell_type": "code",
      "metadata": {
        "id": "OudkpXECuz2n"
      },
      "source": [
        "# add the dataframe as a table in sqlite\n",
        "sqlite_table = \"school_details\"\n",
        "school.to_sql(sqlite_table, conn, if_exists='fail')"
      ],
      "execution_count": null,
      "outputs": []
    },
    {
      "cell_type": "markdown",
      "metadata": {
        "id": "josvz8RqutAv"
      },
      "source": [
        "## SELECT & FROM\n",
        "\n",
        "1. Get the EstablishmentName, SchoolLevel, and Website columns.\n",
        "\n",
        "We can actually use Pandas to run SQL queries! To do this, we write a SQL query in a multi-line string. Simply replace the text in the multi-line string below with your SQL query and run the cell to query your data."
      ]
    },
    {
      "cell_type": "code",
      "metadata": {
        "id": "dD-WyYtBuzuu",
        "colab": {
          "base_uri": "https://localhost:8080/",
          "height": 289
        },
        "outputId": "22cddd5b-3188-4683-e99c-c8059dab1038"
      },
      "source": [
        "# Write your SQL query in this string\n",
        "sql = \"\"\"\n",
        "SELECT EstablishmentName, SchoolLevel, Website \n",
        "FROM school_details\n",
        "\"\"\"\n",
        "\n",
        "# Read the sql query into pandas to view the results\n",
        "df = pd.read_sql_query(sql, engine)\n",
        "df.head()"
      ],
      "execution_count": 7,
      "outputs": [
        {
          "output_type": "stream",
          "name": "stdout",
          "text": [
            "2021-11-18 18:34:10,874 INFO sqlalchemy.engine.Engine \n",
            "SELECT EstablishmentName, SchoolLevel, Website \n",
            "FROM school_details\n",
            "\n",
            "2021-11-18 18:34:10,876 INFO sqlalchemy.engine.Engine [raw sql] ()\n"
          ]
        },
        {
          "output_type": "execute_result",
          "data": {
            "text/html": [
              "<div>\n",
              "<style scoped>\n",
              "    .dataframe tbody tr th:only-of-type {\n",
              "        vertical-align: middle;\n",
              "    }\n",
              "\n",
              "    .dataframe tbody tr th {\n",
              "        vertical-align: top;\n",
              "    }\n",
              "\n",
              "    .dataframe thead th {\n",
              "        text-align: right;\n",
              "    }\n",
              "</style>\n",
              "<table border=\"1\" class=\"dataframe\">\n",
              "  <thead>\n",
              "    <tr style=\"text-align: right;\">\n",
              "      <th></th>\n",
              "      <th>EstablishmentName</th>\n",
              "      <th>SchoolLevel</th>\n",
              "      <th>Website</th>\n",
              "    </tr>\n",
              "  </thead>\n",
              "  <tbody>\n",
              "    <tr>\n",
              "      <th>0</th>\n",
              "      <td>BUDANG GOVERNMENT PRIMARY SCHOOL (E)</td>\n",
              "      <td>PS</td>\n",
              "      <td>None</td>\n",
              "    </tr>\n",
              "    <tr>\n",
              "      <th>1</th>\n",
              "      <td>CENTRAL PENDAM GOVERNMENT SENIOR SECONDARY SCHOOL</td>\n",
              "      <td>SSS</td>\n",
              "      <td>None</td>\n",
              "    </tr>\n",
              "    <tr>\n",
              "      <th>2</th>\n",
              "      <td>CENTRAL POINT ACADEMY, CENTRAL PENDAM</td>\n",
              "      <td>SS</td>\n",
              "      <td>www.facebook.com/khanalkeshav (Group-CPA)</td>\n",
              "    </tr>\n",
              "    <tr>\n",
              "      <th>3</th>\n",
              "      <td>CHEURIBOTEY GOVERNMENT JUNIOR HIGH SCHOOL (E)</td>\n",
              "      <td>JHS</td>\n",
              "      <td>None</td>\n",
              "    </tr>\n",
              "    <tr>\n",
              "      <th>4</th>\n",
              "      <td>DUGA GOVERNMENT SECONDARY SCHOOL</td>\n",
              "      <td>SS</td>\n",
              "      <td>None</td>\n",
              "    </tr>\n",
              "  </tbody>\n",
              "</table>\n",
              "</div>"
            ],
            "text/plain": [
              "                                   EstablishmentName  ...                                    Website\n",
              "0               BUDANG GOVERNMENT PRIMARY SCHOOL (E)  ...                                       None\n",
              "1  CENTRAL PENDAM GOVERNMENT SENIOR SECONDARY SCHOOL  ...                                       None\n",
              "2              CENTRAL POINT ACADEMY, CENTRAL PENDAM  ...  www.facebook.com/khanalkeshav (Group-CPA)\n",
              "3      CHEURIBOTEY GOVERNMENT JUNIOR HIGH SCHOOL (E)  ...                                       None\n",
              "4                   DUGA GOVERNMENT SECONDARY SCHOOL  ...                                       None\n",
              "\n",
              "[5 rows x 3 columns]"
            ]
          },
          "metadata": {},
          "execution_count": 7
        }
      ]
    },
    {
      "cell_type": "markdown",
      "metadata": {
        "id": "2hrqy6KgvOdh"
      },
      "source": [
        "## WHERE\n",
        "\n",
        "2. Display the EstablishmentName and DistrictHQDistance (in Km) for schools where the DistrictHQDistance (in Km) is more than 100 Km."
      ]
    },
    {
      "cell_type": "code",
      "metadata": {
        "id": "NkjPihzvudvR",
        "colab": {
          "base_uri": "https://localhost:8080/",
          "height": 306
        },
        "outputId": "00f7a519-c4d5-4a7e-880a-a3da99c7f16b"
      },
      "source": [
        "# Write your SQL query in this string\n",
        "sql = \"\"\"\n",
        "SELECT EstablishmentName, \"DistrictHQDistance (in Km)\"\n",
        "FROM school_details\n",
        "WHERE \"DistrictHQDistance (in Km)\" > 100.0\n",
        "\"\"\"\n",
        "\n",
        "# Read the sql query into pandas to view the results\n",
        "df = pd.read_sql_query(sql, engine)\n",
        "df.head()"
      ],
      "execution_count": 18,
      "outputs": [
        {
          "output_type": "stream",
          "name": "stdout",
          "text": [
            "2021-11-18 18:46:11,422 INFO sqlalchemy.engine.Engine \n",
            "SELECT EstablishmentName, \"DistrictHQDistance (in Km)\"\n",
            "FROM school_details\n",
            "WHERE \"DistrictHQDistance (in Km)\" > 100.0\n",
            "\n",
            "2021-11-18 18:46:11,428 INFO sqlalchemy.engine.Engine [raw sql] ()\n"
          ]
        },
        {
          "output_type": "execute_result",
          "data": {
            "text/html": [
              "<div>\n",
              "<style scoped>\n",
              "    .dataframe tbody tr th:only-of-type {\n",
              "        vertical-align: middle;\n",
              "    }\n",
              "\n",
              "    .dataframe tbody tr th {\n",
              "        vertical-align: top;\n",
              "    }\n",
              "\n",
              "    .dataframe thead th {\n",
              "        text-align: right;\n",
              "    }\n",
              "</style>\n",
              "<table border=\"1\" class=\"dataframe\">\n",
              "  <thead>\n",
              "    <tr style=\"text-align: right;\">\n",
              "      <th></th>\n",
              "      <th>EstablishmentName</th>\n",
              "      <th>DistrictHQDistance (in Km)</th>\n",
              "    </tr>\n",
              "  </thead>\n",
              "  <tbody>\n",
              "    <tr>\n",
              "      <th>0</th>\n",
              "      <td>DODACHEN GOVERNMENT PRIMARY SCHOOL</td>\n",
              "      <td>150.0</td>\n",
              "    </tr>\n",
              "    <tr>\n",
              "      <th>1</th>\n",
              "      <td>DEOLING GOVERNMENT PRIMARY SCHOOL</td>\n",
              "      <td>107.0</td>\n",
              "    </tr>\n",
              "    <tr>\n",
              "      <th>2</th>\n",
              "      <td>PEMA TSEL ACADEMY(PHADAMCHEN)</td>\n",
              "      <td>110.0</td>\n",
              "    </tr>\n",
              "    <tr>\n",
              "      <th>3</th>\n",
              "      <td>ZULUCK GOVERNMENT PRIMARY SCHOOL</td>\n",
              "      <td>120.0</td>\n",
              "    </tr>\n",
              "    <tr>\n",
              "      <th>4</th>\n",
              "      <td>BHARENG GOVERNMENT PRIMARY SCHOOL</td>\n",
              "      <td>150.0</td>\n",
              "    </tr>\n",
              "  </tbody>\n",
              "</table>\n",
              "</div>"
            ],
            "text/plain": [
              "                    EstablishmentName  DistrictHQDistance (in Km)\n",
              "0  DODACHEN GOVERNMENT PRIMARY SCHOOL                       150.0\n",
              "1   DEOLING GOVERNMENT PRIMARY SCHOOL                       107.0\n",
              "2       PEMA TSEL ACADEMY(PHADAMCHEN)                       110.0\n",
              "3    ZULUCK GOVERNMENT PRIMARY SCHOOL                       120.0\n",
              "4   BHARENG GOVERNMENT PRIMARY SCHOOL                       150.0"
            ]
          },
          "metadata": {},
          "execution_count": 18
        }
      ]
    },
    {
      "cell_type": "markdown",
      "metadata": {
        "id": "bodZsD2av1dD"
      },
      "source": [
        "3. Display the EstablishmentName, SchoolLevel, DistrictHQDistance (in Km) for schools where the school level is \"JHS.\""
      ]
    },
    {
      "cell_type": "code",
      "metadata": {
        "id": "nyKYBoMuwCbR",
        "colab": {
          "base_uri": "https://localhost:8080/",
          "height": 306
        },
        "outputId": "a52c0b75-7426-428d-f3c0-acd775e1de1d"
      },
      "source": [
        "# Write your SQL query in this string\n",
        "sql = \"\"\"\n",
        "SELECT EstablishmentName, SchoolLevel, \"DistrictHQDistance (in Km)\"\n",
        "FROM school_details\n",
        "WHERE SchoolLevel = \"JHS\"\n",
        "\"\"\"\n",
        "\n",
        "# Read the sql query into pandas to view the results\n",
        "df = pd.read_sql_query(sql, engine)\n",
        "df.head()"
      ],
      "execution_count": 20,
      "outputs": [
        {
          "output_type": "stream",
          "name": "stdout",
          "text": [
            "2021-11-18 19:05:51,506 INFO sqlalchemy.engine.Engine \n",
            "SELECT EstablishmentName, SchoolLevel, \"DistrictHQDistance (in Km)\"\n",
            "FROM school_details\n",
            "WHERE SchoolLevel = \"JHS\"\n",
            "\n",
            "2021-11-18 19:05:51,510 INFO sqlalchemy.engine.Engine [raw sql] ()\n"
          ]
        },
        {
          "output_type": "execute_result",
          "data": {
            "text/html": [
              "<div>\n",
              "<style scoped>\n",
              "    .dataframe tbody tr th:only-of-type {\n",
              "        vertical-align: middle;\n",
              "    }\n",
              "\n",
              "    .dataframe tbody tr th {\n",
              "        vertical-align: top;\n",
              "    }\n",
              "\n",
              "    .dataframe thead th {\n",
              "        text-align: right;\n",
              "    }\n",
              "</style>\n",
              "<table border=\"1\" class=\"dataframe\">\n",
              "  <thead>\n",
              "    <tr style=\"text-align: right;\">\n",
              "      <th></th>\n",
              "      <th>EstablishmentName</th>\n",
              "      <th>SchoolLevel</th>\n",
              "      <th>DistrictHQDistance (in Km)</th>\n",
              "    </tr>\n",
              "  </thead>\n",
              "  <tbody>\n",
              "    <tr>\n",
              "      <th>0</th>\n",
              "      <td>CHEURIBOTEY GOVERNMENT JUNIOR HIGH SCHOOL (E)</td>\n",
              "      <td>JHS</td>\n",
              "      <td>60.0</td>\n",
              "    </tr>\n",
              "    <tr>\n",
              "      <th>1</th>\n",
              "      <td>PADMA KUMARI PUBLIC SCHOOL, DUGA</td>\n",
              "      <td>JHS</td>\n",
              "      <td>48.0</td>\n",
              "    </tr>\n",
              "    <tr>\n",
              "      <th>2</th>\n",
              "      <td>SAJONG GOVERNMENT JUNIOR HIGH SCHOOL</td>\n",
              "      <td>JHS</td>\n",
              "      <td>57.0</td>\n",
              "    </tr>\n",
              "    <tr>\n",
              "      <th>3</th>\n",
              "      <td>SINGLEYBONG GOVERNMENT JUNIOR HIGH SCHOOL</td>\n",
              "      <td>JHS</td>\n",
              "      <td>38.0</td>\n",
              "    </tr>\n",
              "    <tr>\n",
              "      <th>4</th>\n",
              "      <td>SUNRISE ACADEMY, DUGA</td>\n",
              "      <td>JHS</td>\n",
              "      <td>47.0</td>\n",
              "    </tr>\n",
              "  </tbody>\n",
              "</table>\n",
              "</div>"
            ],
            "text/plain": [
              "                               EstablishmentName  ... DistrictHQDistance (in Km)\n",
              "0  CHEURIBOTEY GOVERNMENT JUNIOR HIGH SCHOOL (E)  ...                       60.0\n",
              "1               PADMA KUMARI PUBLIC SCHOOL, DUGA  ...                       48.0\n",
              "2           SAJONG GOVERNMENT JUNIOR HIGH SCHOOL  ...                       57.0\n",
              "3      SINGLEYBONG GOVERNMENT JUNIOR HIGH SCHOOL  ...                       38.0\n",
              "4                          SUNRISE ACADEMY, DUGA  ...                       47.0\n",
              "\n",
              "[5 rows x 3 columns]"
            ]
          },
          "metadata": {},
          "execution_count": 20
        }
      ]
    },
    {
      "cell_type": "markdown",
      "metadata": {
        "id": "XXeG19hywLlp"
      },
      "source": [
        "## Wildcards & LIKE\n",
        "\n",
        "4. Display the EstablishmentName, SchoolLevel, DistrictHQDistance (in Km) for schools where the name of the school contains the words \"JUNIOR HIGH.\""
      ]
    },
    {
      "cell_type": "code",
      "metadata": {
        "id": "_JlXTE_ywUeQ",
        "colab": {
          "base_uri": "https://localhost:8080/",
          "height": 306
        },
        "outputId": "9bb217b3-4262-44b9-9cdd-e10ce2ba7a6d"
      },
      "source": [
        "# Write your SQL query in this string\n",
        "sql = \"\"\"\n",
        "SELECT EstablishmentName, SchoolLevel, \"DistrictHQDistance (in Km)\"\n",
        "FROM school_details\n",
        "WHERE EstablishmentName LIKE '%JUNIOR HIGH%'\n",
        "\"\"\"\n",
        "\n",
        "# Read the sql query into pandas to view the results\n",
        "df = pd.read_sql_query(sql, engine)\n",
        "df.head()"
      ],
      "execution_count": 24,
      "outputs": [
        {
          "output_type": "stream",
          "name": "stdout",
          "text": [
            "2021-11-18 19:18:59,311 INFO sqlalchemy.engine.Engine \n",
            "SELECT EstablishmentName, SchoolLevel, \"DistrictHQDistance (in Km)\"\n",
            "FROM school_details\n",
            "WHERE EstablishmentName LIKE '%JUNIOR HIGH%'\n",
            "\n",
            "2021-11-18 19:18:59,318 INFO sqlalchemy.engine.Engine [raw sql] ()\n"
          ]
        },
        {
          "output_type": "execute_result",
          "data": {
            "text/html": [
              "<div>\n",
              "<style scoped>\n",
              "    .dataframe tbody tr th:only-of-type {\n",
              "        vertical-align: middle;\n",
              "    }\n",
              "\n",
              "    .dataframe tbody tr th {\n",
              "        vertical-align: top;\n",
              "    }\n",
              "\n",
              "    .dataframe thead th {\n",
              "        text-align: right;\n",
              "    }\n",
              "</style>\n",
              "<table border=\"1\" class=\"dataframe\">\n",
              "  <thead>\n",
              "    <tr style=\"text-align: right;\">\n",
              "      <th></th>\n",
              "      <th>EstablishmentName</th>\n",
              "      <th>SchoolLevel</th>\n",
              "      <th>DistrictHQDistance (in Km)</th>\n",
              "    </tr>\n",
              "  </thead>\n",
              "  <tbody>\n",
              "    <tr>\n",
              "      <th>0</th>\n",
              "      <td>CHEURIBOTEY GOVERNMENT JUNIOR HIGH SCHOOL (E)</td>\n",
              "      <td>JHS</td>\n",
              "      <td>60.0</td>\n",
              "    </tr>\n",
              "    <tr>\n",
              "      <th>1</th>\n",
              "      <td>SAJONG GOVERNMENT JUNIOR HIGH SCHOOL</td>\n",
              "      <td>JHS</td>\n",
              "      <td>57.0</td>\n",
              "    </tr>\n",
              "    <tr>\n",
              "      <th>2</th>\n",
              "      <td>SINGLEYBONG GOVERNMENT JUNIOR HIGH SCHOOL</td>\n",
              "      <td>JHS</td>\n",
              "      <td>38.0</td>\n",
              "    </tr>\n",
              "    <tr>\n",
              "      <th>3</th>\n",
              "      <td>BORDANG GOVERNMENT JUNIOR HIGH SCHOOL</td>\n",
              "      <td>JHS</td>\n",
              "      <td>33.0</td>\n",
              "    </tr>\n",
              "    <tr>\n",
              "      <th>4</th>\n",
              "      <td>RANGPO BAZAR GOVERNMENT JUNIOR HIGH SCHOOL</td>\n",
              "      <td>JHS</td>\n",
              "      <td>47.0</td>\n",
              "    </tr>\n",
              "  </tbody>\n",
              "</table>\n",
              "</div>"
            ],
            "text/plain": [
              "                               EstablishmentName  ... DistrictHQDistance (in Km)\n",
              "0  CHEURIBOTEY GOVERNMENT JUNIOR HIGH SCHOOL (E)  ...                       60.0\n",
              "1           SAJONG GOVERNMENT JUNIOR HIGH SCHOOL  ...                       57.0\n",
              "2      SINGLEYBONG GOVERNMENT JUNIOR HIGH SCHOOL  ...                       38.0\n",
              "3          BORDANG GOVERNMENT JUNIOR HIGH SCHOOL  ...                       33.0\n",
              "4     RANGPO BAZAR GOVERNMENT JUNIOR HIGH SCHOOL  ...                       47.0\n",
              "\n",
              "[5 rows x 3 columns]"
            ]
          },
          "metadata": {},
          "execution_count": 24
        }
      ]
    },
    {
      "cell_type": "markdown",
      "metadata": {
        "id": "8HFsQfZLts0i"
      },
      "source": [
        "## LIMIT & ORDER BY\n",
        "\n",
        "5. Display the EstablishmentName, SchoolLevel, DistrictHQDistance (in Km) for schools where the name of the school starts with the letter \"C.\" Sort the results alphabetically by school name and limit the results of the query to 10 rows."
      ]
    },
    {
      "cell_type": "code",
      "metadata": {
        "id": "kDXqMQjdw2fK",
        "colab": {
          "base_uri": "https://localhost:8080/",
          "height": 340
        },
        "outputId": "627fdeed-6dfc-499d-fef7-25d8afc532e7"
      },
      "source": [
        "# Write your SQL query in this string\n",
        "sql = \"\"\"\n",
        "SELECT EstablishmentName, SchoolLevel, \"DistrictHQDistance (in Km)\"\n",
        "FROM school_details\n",
        "WHERE EstablishmentName LIKE 'C%'\n",
        "ORDER BY EstablishmentName\n",
        "LIMIT 10\n",
        "\"\"\"\n",
        "\n",
        "# Read the sql query into pandas to view the results\n",
        "df = pd.read_sql_query(sql, engine)\n",
        "df.head()"
      ],
      "execution_count": 27,
      "outputs": [
        {
          "output_type": "stream",
          "name": "stdout",
          "text": [
            "2021-11-18 19:24:07,796 INFO sqlalchemy.engine.Engine \n",
            "SELECT EstablishmentName, SchoolLevel, \"DistrictHQDistance (in Km)\"\n",
            "FROM school_details\n",
            "WHERE EstablishmentName LIKE 'C%'\n",
            "ORDER BY EstablishmentName\n",
            "LIMIT 10\n",
            "\n",
            "2021-11-18 19:24:07,798 INFO sqlalchemy.engine.Engine [raw sql] ()\n"
          ]
        },
        {
          "output_type": "execute_result",
          "data": {
            "text/html": [
              "<div>\n",
              "<style scoped>\n",
              "    .dataframe tbody tr th:only-of-type {\n",
              "        vertical-align: middle;\n",
              "    }\n",
              "\n",
              "    .dataframe tbody tr th {\n",
              "        vertical-align: top;\n",
              "    }\n",
              "\n",
              "    .dataframe thead th {\n",
              "        text-align: right;\n",
              "    }\n",
              "</style>\n",
              "<table border=\"1\" class=\"dataframe\">\n",
              "  <thead>\n",
              "    <tr style=\"text-align: right;\">\n",
              "      <th></th>\n",
              "      <th>EstablishmentName</th>\n",
              "      <th>SchoolLevel</th>\n",
              "      <th>DistrictHQDistance (in Km)</th>\n",
              "    </tr>\n",
              "  </thead>\n",
              "  <tbody>\n",
              "    <tr>\n",
              "      <th>0</th>\n",
              "      <td>C.M.RAI GOVERNMENT SECONDARY SCHOOL (OMCHU)</td>\n",
              "      <td>SS</td>\n",
              "      <td>26.0</td>\n",
              "    </tr>\n",
              "    <tr>\n",
              "      <th>1</th>\n",
              "      <td>CANAAN SCHOOL, RANIPOOL</td>\n",
              "      <td>JHS</td>\n",
              "      <td>0.0</td>\n",
              "    </tr>\n",
              "    <tr>\n",
              "      <th>2</th>\n",
              "      <td>CANARY BIRD ACADEMY, KARTOK</td>\n",
              "      <td>PS</td>\n",
              "      <td>38.0</td>\n",
              "    </tr>\n",
              "    <tr>\n",
              "      <th>3</th>\n",
              "      <td>CAROL ACADEMY, YANGSUM UPPER BERFOK</td>\n",
              "      <td>JHS</td>\n",
              "      <td>50.0</td>\n",
              "    </tr>\n",
              "    <tr>\n",
              "      <th>4</th>\n",
              "      <td>CENTRAL MARTAM GOVERNMENT JUNIOR SCHOOL</td>\n",
              "      <td>JHS</td>\n",
              "      <td>50.0</td>\n",
              "    </tr>\n",
              "  </tbody>\n",
              "</table>\n",
              "</div>"
            ],
            "text/plain": [
              "                             EstablishmentName  ... DistrictHQDistance (in Km)\n",
              "0  C.M.RAI GOVERNMENT SECONDARY SCHOOL (OMCHU)  ...                       26.0\n",
              "1                      CANAAN SCHOOL, RANIPOOL  ...                        0.0\n",
              "2                  CANARY BIRD ACADEMY, KARTOK  ...                       38.0\n",
              "3          CAROL ACADEMY, YANGSUM UPPER BERFOK  ...                       50.0\n",
              "4      CENTRAL MARTAM GOVERNMENT JUNIOR SCHOOL  ...                       50.0\n",
              "\n",
              "[5 rows x 3 columns]"
            ]
          },
          "metadata": {},
          "execution_count": 27
        }
      ]
    },
    {
      "cell_type": "markdown",
      "metadata": {
        "id": "oEj7VseBw26j"
      },
      "source": [
        "6. Display the names of schools in urban areas. Sort the results in reverse alphabetical order."
      ]
    },
    {
      "cell_type": "code",
      "metadata": {
        "id": "xw6SGQHQw4dS",
        "colab": {
          "base_uri": "https://localhost:8080/",
          "height": 323
        },
        "outputId": "a5427130-bb01-496a-841e-31dd1235b392"
      },
      "source": [
        "# Write your SQL query in this string\n",
        "sql = \"\"\"\n",
        "SELECT EstablishmentName\n",
        "FROM school_details\n",
        "WHERE LocatedInRuralOrUrban = 'Urban Area'\n",
        "ORDER BY EstablishmentName DESC\n",
        "\"\"\"\n",
        "\n",
        "# Read the sql query into pandas to view the results\n",
        "df = pd.read_sql_query(sql, engine)\n",
        "df.head()"
      ],
      "execution_count": 28,
      "outputs": [
        {
          "output_type": "stream",
          "name": "stdout",
          "text": [
            "2021-11-18 19:32:37,274 INFO sqlalchemy.engine.Engine \n",
            "SELECT EstablishmentName\n",
            "FROM school_details\n",
            "WHERE LocatedInRuralOrUrban = 'Urban Area'\n",
            "ORDER BY EstablishmentName DESC\n",
            "\n",
            "2021-11-18 19:32:37,276 INFO sqlalchemy.engine.Engine [raw sql] ()\n"
          ]
        },
        {
          "output_type": "execute_result",
          "data": {
            "text/html": [
              "<div>\n",
              "<style scoped>\n",
              "    .dataframe tbody tr th:only-of-type {\n",
              "        vertical-align: middle;\n",
              "    }\n",
              "\n",
              "    .dataframe tbody tr th {\n",
              "        vertical-align: top;\n",
              "    }\n",
              "\n",
              "    .dataframe thead th {\n",
              "        text-align: right;\n",
              "    }\n",
              "</style>\n",
              "<table border=\"1\" class=\"dataframe\">\n",
              "  <thead>\n",
              "    <tr style=\"text-align: right;\">\n",
              "      <th></th>\n",
              "      <th>EstablishmentName</th>\n",
              "    </tr>\n",
              "  </thead>\n",
              "  <tbody>\n",
              "    <tr>\n",
              "      <th>0</th>\n",
              "      <td>ZULUCK GOVERNMENT PRIMARY SCHOOL</td>\n",
              "    </tr>\n",
              "    <tr>\n",
              "      <th>1</th>\n",
              "      <td>ZOOM GOVERNMENT SECONDARY SCHOOL</td>\n",
              "    </tr>\n",
              "    <tr>\n",
              "      <th>2</th>\n",
              "      <td>ZITLANG GOVERNMENT JUNIOR HIGH SCHOOL</td>\n",
              "    </tr>\n",
              "    <tr>\n",
              "      <th>3</th>\n",
              "      <td>ZINGLA GOVERNMENT PRIMARY SCHOOL</td>\n",
              "    </tr>\n",
              "    <tr>\n",
              "      <th>4</th>\n",
              "      <td>ZENITH PUBLIC SCHOOL</td>\n",
              "    </tr>\n",
              "  </tbody>\n",
              "</table>\n",
              "</div>"
            ],
            "text/plain": [
              "                       EstablishmentName\n",
              "0       ZULUCK GOVERNMENT PRIMARY SCHOOL\n",
              "1       ZOOM GOVERNMENT SECONDARY SCHOOL\n",
              "2  ZITLANG GOVERNMENT JUNIOR HIGH SCHOOL\n",
              "3       ZINGLA GOVERNMENT PRIMARY SCHOOL\n",
              "4                   ZENITH PUBLIC SCHOOL"
            ]
          },
          "metadata": {},
          "execution_count": 28
        }
      ]
    },
    {
      "cell_type": "markdown",
      "metadata": {
        "id": "-2hdNdaaw482"
      },
      "source": [
        "## Aliasing\n",
        "\n",
        "7. Repeat the previous query, but rename the column displayed to \"name\"."
      ]
    },
    {
      "cell_type": "code",
      "metadata": {
        "id": "vDQJQ1RWw5sD",
        "colab": {
          "base_uri": "https://localhost:8080/",
          "height": 323
        },
        "outputId": "58532a4e-db9f-4de7-9b4d-d96c125892ce"
      },
      "source": [
        "# Write your SQL query in this string\n",
        "sql = \"\"\"\n",
        "SELECT EstablishmentName AS name\n",
        "FROM school_details \n",
        "WHERE LocatedInRuralOrUrban = 'Urban Area'\n",
        "ORDER BY EstablishmentName DESC\n",
        "\"\"\"\n",
        "\n",
        "# Read the sql query into pandas to view the results\n",
        "df = pd.read_sql_query(sql, engine)\n",
        "df.head()"
      ],
      "execution_count": 30,
      "outputs": [
        {
          "output_type": "stream",
          "name": "stdout",
          "text": [
            "2021-11-18 19:35:23,285 INFO sqlalchemy.engine.Engine \n",
            "SELECT EstablishmentName AS name\n",
            "FROM school_details \n",
            "WHERE LocatedInRuralOrUrban = 'Urban Area'\n",
            "ORDER BY EstablishmentName DESC\n",
            "\n",
            "2021-11-18 19:35:23,287 INFO sqlalchemy.engine.Engine [raw sql] ()\n"
          ]
        },
        {
          "output_type": "execute_result",
          "data": {
            "text/html": [
              "<div>\n",
              "<style scoped>\n",
              "    .dataframe tbody tr th:only-of-type {\n",
              "        vertical-align: middle;\n",
              "    }\n",
              "\n",
              "    .dataframe tbody tr th {\n",
              "        vertical-align: top;\n",
              "    }\n",
              "\n",
              "    .dataframe thead th {\n",
              "        text-align: right;\n",
              "    }\n",
              "</style>\n",
              "<table border=\"1\" class=\"dataframe\">\n",
              "  <thead>\n",
              "    <tr style=\"text-align: right;\">\n",
              "      <th></th>\n",
              "      <th>name</th>\n",
              "    </tr>\n",
              "  </thead>\n",
              "  <tbody>\n",
              "    <tr>\n",
              "      <th>0</th>\n",
              "      <td>ZULUCK GOVERNMENT PRIMARY SCHOOL</td>\n",
              "    </tr>\n",
              "    <tr>\n",
              "      <th>1</th>\n",
              "      <td>ZOOM GOVERNMENT SECONDARY SCHOOL</td>\n",
              "    </tr>\n",
              "    <tr>\n",
              "      <th>2</th>\n",
              "      <td>ZITLANG GOVERNMENT JUNIOR HIGH SCHOOL</td>\n",
              "    </tr>\n",
              "    <tr>\n",
              "      <th>3</th>\n",
              "      <td>ZINGLA GOVERNMENT PRIMARY SCHOOL</td>\n",
              "    </tr>\n",
              "    <tr>\n",
              "      <th>4</th>\n",
              "      <td>ZENITH PUBLIC SCHOOL</td>\n",
              "    </tr>\n",
              "  </tbody>\n",
              "</table>\n",
              "</div>"
            ],
            "text/plain": [
              "                                    name\n",
              "0       ZULUCK GOVERNMENT PRIMARY SCHOOL\n",
              "1       ZOOM GOVERNMENT SECONDARY SCHOOL\n",
              "2  ZITLANG GOVERNMENT JUNIOR HIGH SCHOOL\n",
              "3       ZINGLA GOVERNMENT PRIMARY SCHOOL\n",
              "4                   ZENITH PUBLIC SCHOOL"
            ]
          },
          "metadata": {},
          "execution_count": 30
        }
      ]
    },
    {
      "cell_type": "code",
      "metadata": {
        "id": "a49BF5JpyUwT"
      },
      "source": [
        "# Close the database connection\n",
        "conn.close()"
      ],
      "execution_count": 31,
      "outputs": []
    }
  ]
}